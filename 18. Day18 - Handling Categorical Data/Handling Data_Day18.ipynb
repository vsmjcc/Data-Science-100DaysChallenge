{
 "cells": [
  {
   "cell_type": "markdown",
   "id": "cc2e5c19",
   "metadata": {},
   "source": [
    "# Handling Data in pandas by Mrittika Megaraj"
   ]
  },
  {
   "cell_type": "markdown",
   "id": "c90c0ccf",
   "metadata": {},
   "source": [
    "## Handling Categorical Data"
   ]
  },
  {
   "cell_type": "markdown",
   "id": "cd529e5c",
   "metadata": {},
   "source": [
    "* Categorical data represents information that has distinct categories or labels.\n",
    "* It's common in data analysis, but it needs special treatment to be used effectively, such a way that it can be used for the machine learning models."
   ]
  },
  {
   "cell_type": "markdown",
   "id": "4cf4e10d",
   "metadata": {},
   "source": [
    "## Encoding Categorical Variables\n",
    "* Encoding categorical variables involves converting them into a numerical format that machine learning algorithms can understand.\n",
    "\n",
    "## One-Hot Encoding using pd.get_dummies\n",
    "* One-hot encoding creates binary columns for each category, indicating the presence or absence of a category for each data point. \n",
    "* In a column if there are k unique values, it will create k new binary columns one for each. It removes the original column after encode."
   ]
  },
  {
   "cell_type": "code",
   "execution_count": 1,
   "id": "a045c10e",
   "metadata": {},
   "outputs": [
    {
     "name": "stdout",
     "output_type": "stream",
     "text": [
      "   Count  Category_A  Category_B  Category_C\n",
      "0      1           1           0           0\n",
      "1      2           0           1           0\n",
      "2      3           1           0           0\n",
      "3      4           0           0           1\n",
      "4      5           0           1           0\n"
     ]
    }
   ],
   "source": [
    "import pandas as pd\n",
    "\n",
    "# Sample DataFrame with a categorical column\n",
    "data = {'Category': ['A', 'B', 'A', 'C', 'B'],\n",
    "         'Count':[1,2,3,4,5]}\n",
    "df = pd.DataFrame(data)\n",
    "\n",
    "# Perform one-hot encoding\n",
    "encoded_df = pd.get_dummies(df, columns=['Category'])\n",
    "print(encoded_df)"
   ]
  },
  {
   "cell_type": "markdown",
   "id": "1a00d00c",
   "metadata": {},
   "source": [
    "## Label Encoding using Category type\n",
    "* It is another approach in which it assigns a unique numerical value to each category. .astype('category').cat.codes method is used to convert category columns to label encoding."
   ]
  },
  {
   "cell_type": "code",
   "execution_count": 2,
   "id": "e4dd5018",
   "metadata": {},
   "outputs": [
    {
     "name": "stdout",
     "output_type": "stream",
     "text": [
      "  Category  Category_Encoded\n",
      "0        A                 0\n",
      "1        B                 1\n",
      "2        A                 0\n",
      "3        C                 2\n",
      "4        B                 1\n"
     ]
    }
   ],
   "source": [
    "import pandas as pd\n",
    "\n",
    "# Sample DataFrame with a categorical column\n",
    "data = {'Category': ['A', 'B', 'A', 'C', 'B']}\n",
    "df = pd.DataFrame(data)\n",
    "\n",
    "# Perform label encoding\n",
    "df['Category_Encoded'] = df['Category'].astype('category').cat.codes\n",
    "print(df)"
   ]
  },
  {
   "cell_type": "markdown",
   "id": "638f6a8b",
   "metadata": {},
   "source": [
    "## Sorting Ordinal Data\n",
    "Ordinal data represents categories with a natural order or ranking, such as low, medium, high, or small, medium, or large.\n",
    "\n",
    "We can achieve this by converting the Ordinal column to a Pandas categorical column using pd.Categorical() , specifying the categories parameter as ordinal_order and setting ordered=True."
   ]
  },
  {
   "cell_type": "code",
   "execution_count": 3,
   "id": "8c1fba59",
   "metadata": {},
   "outputs": [
    {
     "name": "stdout",
     "output_type": "stream",
     "text": [
      "Before Sorting Ordinal Data:\n",
      "\n",
      "     Product    Size\n",
      "2  Product C   Large\n",
      "0  Product A  Medium\n",
      "3  Product D  Medium\n",
      "1  Product B   Small\n",
      "\n",
      "After Sorting Ordinal Data:\n",
      "\n",
      "     Product    Size\n",
      "1  Product B   Small\n",
      "0  Product A  Medium\n",
      "3  Product D  Medium\n",
      "2  Product C   Large\n"
     ]
    }
   ],
   "source": [
    "import pandas as pd\n",
    "\n",
    "# Sample DataFrame with an ordinal column\n",
    "data = {'Product': ['Product A', 'Product B', 'Product C', 'Product D'],\n",
    "        'Size': ['Medium', 'Small', 'Large', 'Medium']}\n",
    "df = pd.DataFrame(data)\n",
    "\n",
    "# Define the custom ordinal order\n",
    "ordinal_order = ['Small', 'Medium', 'Large']\n",
    "\n",
    "print(\"Before Sorting Ordinal Data:\\n\")\n",
    "print(df.sort_values(by='Size'))\n",
    "\n",
    "# Sort the DataFrame based on the 'Size' column\n",
    "df['Size'] = pd.Categorical(df['Size'], categories=ordinal_order, ordered=True)\n",
    "\n",
    "print(\"\\nAfter Sorting Ordinal Data:\\n\")\n",
    "print(df.sort_values(by='Size'))\n",
    "     "
   ]
  },
  {
   "cell_type": "markdown",
   "id": "941900db",
   "metadata": {},
   "source": [
    "## Handling text data in pandas (e.g., string methods):"
   ]
  },
  {
   "cell_type": "markdown",
   "id": "1cc4bedd",
   "metadata": {},
   "source": [
    "* Series provides various methods, for operating on Strings, using the str attribute.\n",
    "1. str.lower(): Method to convert a string's characters to lowercase.\n",
    "\n",
    "2. str.upper(): Method to convert a string's characters to uppercase.\n",
    "\n",
    "3. str.find(): Method is used to search a substring in each string present in a series.\n",
    "\n",
    "4. str.rfind(): Method is used to search a substring in each string present in a series from the Right side.\n",
    "\n",
    "5. str.findall(): Method is also used to find substrings or separators in each string in a series.\n",
    "\n",
    "6. str.isalpha(): Method is used to check if all characters in each string in series are alphabetic(a-z/A-Z).\n",
    "\n",
    "7. str.isdecimal(): Method is used to check whether all characters in a string are decimal.\n",
    "\n",
    "8. str.title(): Method to capitalize the first letter of every word in a string.\n",
    "\n",
    "9. str.len(): Method returns a count of the number of characters in a string.\n",
    "\n",
    "10. str.replace(): Method replaces a substring within a string with another value that the user provides.\n",
    "\n",
    "11. str.contains(): Method tests if pattern or regex is contained within a string of a Series or Index.\n",
    "\n",
    "12. str.extract(): Extract groups from the first match of regular expression pattern.\n",
    "\n",
    "13. str.startswith(): Method tests if the start of each string element matches a pattern.\n",
    "\n",
    "14. str.endswith(): Method tests if the end of each string element matches a pattern.\n",
    "\n",
    "15. str.isdigit(): Method is used to check if all characters in each string in series are digits.\n",
    "\n",
    "16. str.lstrip(): Method removes whitespace from the left side (beginning) of a string.\n",
    "\n",
    "17. str.rstrip(): Method removes whitespace from the right side (end) of a string.\n",
    "\n",
    "18. str.strip(): Method to remove leading and trailing whitespace from string.\n",
    "\n",
    "19. str.split(): Method splits a string value, based on an occurrence of a user-specified value.\n",
    "\n",
    "20. str.join(): Method is used to join all elements in list present in a series with passed delimiter.\n",
    "\n",
    "21. str.cat(): Method is used to concatenate strings to the passed caller series of string.\n",
    "\n",
    "22. str.repeat(): Method is used to repeat string values in the same position of passed series itself.\n",
    "\n",
    "23. str.get(): Method is used to get element at the passed position.\n",
    "\n",
    "24. str.partition(): Method splits the string only at the first occurrence unlike str.split().\n",
    "\n",
    "25. str.rpartition(): Method splits string only once and that too reversely. It works in a similar way like str.partition() and str.split()\n",
    "\n",
    "26. str.pad(): Method to add padding (whitespaces or other characters) to every string element in a series.\n",
    "\n",
    "27. str.swapcase(): Method to swap case of each string in a series.\n",
    "\n"
   ]
  },
  {
   "cell_type": "code",
   "execution_count": 4,
   "id": "6c29296c",
   "metadata": {},
   "outputs": [
    {
     "name": "stdout",
     "output_type": "stream",
     "text": [
      "  Name  Marks City\n",
      "0  Abc     56   Pa\n",
      "1  Bob     78  OpD\n",
      "2  Cat     90  PsT\n",
      "3  Dog     34  SpY\n",
      "4  Ele     62   On\n",
      "5  Fog     78   Om\n"
     ]
    }
   ],
   "source": [
    "data = {\n",
    "    'Name': ['Abc','Bob','Cat','Dog','Ele','Fog'],\n",
    "    'Marks': [56,78,90,34,62,78],\n",
    "    'City': ['Pa','OpD','PsT','SpY','On','Om']\n",
    "}\n",
    "\n",
    "df = pd.DataFrame(data)\n",
    "\n",
    "print(df)"
   ]
  },
  {
   "cell_type": "code",
   "execution_count": 5,
   "id": "7b68b51e",
   "metadata": {},
   "outputs": [
    {
     "name": "stdout",
     "output_type": "stream",
     "text": [
      "  Name  Marks City\n",
      "0  abc     56   Pa\n",
      "1  bob     78  OpD\n",
      "2  cat     90  PsT\n",
      "3  dog     34  SpY\n",
      "4  ele     62   On\n",
      "5  fog     78   Om\n"
     ]
    }
   ],
   "source": [
    "# 1. str.lower() - Convert the string to lowercase chars\n",
    "df['Name'] = df['Name'].str.lower()\n",
    "print(df)"
   ]
  },
  {
   "cell_type": "code",
   "execution_count": 6,
   "id": "b742ed29",
   "metadata": {},
   "outputs": [
    {
     "name": "stdout",
     "output_type": "stream",
     "text": [
      "  Name  Marks City\n",
      "0  abc     56   PA\n",
      "1  bob     78  OPD\n",
      "2  cat     90  PST\n",
      "3  dog     34  SPY\n",
      "4  ele     62   ON\n",
      "5  fog     78   OM\n"
     ]
    }
   ],
   "source": [
    "# 2. str.upper() - Convert the string to uppercase chars\n",
    "df['City'] = df['City'].str.upper()\n",
    "print(df)"
   ]
  },
  {
   "cell_type": "markdown",
   "id": "574e44f8",
   "metadata": {},
   "source": [
    "## Regular expressions for pattern matching:"
   ]
  },
  {
   "cell_type": "code",
   "execution_count": 7,
   "id": "eeb172ea",
   "metadata": {},
   "outputs": [
    {
     "name": "stdout",
     "output_type": "stream",
     "text": [
      "  Name  Marks City\n",
      "1  Bob     78  OpD\n",
      "4  Ele     62   On\n",
      "5  Fog     78   Om\n"
     ]
    }
   ],
   "source": [
    "import re\n",
    "\n",
    "data = {\n",
    "    'Name': ['Abc','Bob','Cat','Dog','Ele','Fog'],\n",
    "    'Marks': [56,78,90,34,62,78],\n",
    "    'City': ['Pa','OpD','PsT','SpY','On','Om']\n",
    "}\n",
    "\n",
    "df = pd.DataFrame(data)\n",
    "\n",
    "pattern = '[O].*'\n",
    "\n",
    "print(df[df.City.str.match(pattern)])"
   ]
  },
  {
   "cell_type": "markdown",
   "id": "c794d9f5",
   "metadata": {},
   "source": [
    "## Multi-Indexing"
   ]
  },
  {
   "cell_type": "code",
   "execution_count": 8,
   "id": "f686203e",
   "metadata": {},
   "outputs": [
    {
     "name": "stdout",
     "output_type": "stream",
     "text": [
      "Salary    65000\n",
      "Name: (HR, Bob), dtype: int64\n"
     ]
    }
   ],
   "source": [
    "\n",
    "import pandas as pd\n",
    "\n",
    "# Sample hierarchical DataFrame\n",
    "data = {'Department': ['HR', 'HR', 'Engineering', 'Engineering'],\n",
    "        'Employee': ['Alice', 'Bob', 'Charlie', 'David'],\n",
    "        'Salary': [60_000, 65_000, 80_000, 75_000]}\n",
    "df = pd.DataFrame(data)\n",
    "\n",
    "# Create a hierarchical index\n",
    "hierarchical_df = df.set_index(['Department', 'Employee'])\n",
    "\n",
    "# Accessing data\n",
    "print(hierarchical_df.loc[('HR','Bob')])  # Access HR Bob department data"
   ]
  },
  {
   "cell_type": "markdown",
   "id": "85f96fdd",
   "metadata": {},
   "source": [
    "## Handling Outliers\n",
    "Handling outliers is an essential step in data preprocessing, as outliers can significantly impact the results of your analysis and statistical models. There are other ways to handle these using Scipy as well, but here’s how we do it with pandas.\n",
    "\n",
    "## Identifying Outliers\n",
    "Handling outliers is an essential step in data preprocessing, as outliers can significantly impact the results of your analysis and statistical models. There are other ways to handle these using Scipy as well, but here’s how we do it with pandas."
   ]
  },
  {
   "cell_type": "code",
   "execution_count": 9,
   "id": "5aecf957",
   "metadata": {},
   "outputs": [
    {
     "data": {
      "text/plain": [
       "<Axes: >"
      ]
     },
     "execution_count": 9,
     "metadata": {},
     "output_type": "execute_result"
    },
    {
     "data": {
      "image/png": "[encoded data removed]",
      "text/plain": [
       "<Figure size 640x480 with 1 Axes>"
      ]
     },
     "metadata": {},
     "output_type": "display_data"
    }
   ],
   "source": [
    "import matplotlib.pyplot as plt\n",
    "\n",
    "# Create a sample DataFrame\n",
    "data = {'Values': [25, 30, 200, 40, 20, 300, 35, 45, -100]}\n",
    "df = pd.DataFrame(data)\n",
    "\n",
    "# Box plot to visualize outliers\n",
    "df.boxplot(column='Values')"
   ]
  },
  {
   "cell_type": "markdown",
   "id": "bedd6c78",
   "metadata": {},
   "source": [
    "## Outlier Handling by NaN\n",
    "Once you've identified outliers, you can handle them manually. You have a few options. You can replace outlier values with NaN to effectively remove them from calculations. If you decide, here's how to do it.\n"
   ]
  },
  {
   "cell_type": "code",
   "execution_count": 10,
   "id": "30441719",
   "metadata": {},
   "outputs": [
    {
     "data": {
      "text/html": [
       "<div>\n",
       "<style scoped>\n",
       "    .dataframe tbody tr th:only-of-type {\n",
       "        vertical-align: middle;\n",
       "    }\n",
       "\n",
       "    .dataframe tbody tr th {\n",
       "        vertical-align: top;\n",
       "    }\n",
       "\n",
       "    .dataframe thead th {\n",
       "        text-align: right;\n",
       "    }\n",
       "</style>\n",
       "<table border=\"1\" class=\"dataframe\">\n",
       "  <thead>\n",
       "    <tr style=\"text-align: right;\">\n",
       "      <th></th>\n",
       "      <th>Values</th>\n",
       "    </tr>\n",
       "  </thead>\n",
       "  <tbody>\n",
       "    <tr>\n",
       "      <th>0</th>\n",
       "      <td>25.0</td>\n",
       "    </tr>\n",
       "    <tr>\n",
       "      <th>1</th>\n",
       "      <td>30.0</td>\n",
       "    </tr>\n",
       "    <tr>\n",
       "      <th>2</th>\n",
       "      <td>NaN</td>\n",
       "    </tr>\n",
       "    <tr>\n",
       "      <th>3</th>\n",
       "      <td>40.0</td>\n",
       "    </tr>\n",
       "    <tr>\n",
       "      <th>4</th>\n",
       "      <td>20.0</td>\n",
       "    </tr>\n",
       "    <tr>\n",
       "      <th>5</th>\n",
       "      <td>NaN</td>\n",
       "    </tr>\n",
       "    <tr>\n",
       "      <th>6</th>\n",
       "      <td>35.0</td>\n",
       "    </tr>\n",
       "    <tr>\n",
       "      <th>7</th>\n",
       "      <td>45.0</td>\n",
       "    </tr>\n",
       "    <tr>\n",
       "      <th>8</th>\n",
       "      <td>NaN</td>\n",
       "    </tr>\n",
       "  </tbody>\n",
       "</table>\n",
       "</div>"
      ],
      "text/plain": [
       "   Values\n",
       "0    25.0\n",
       "1    30.0\n",
       "2     NaN\n",
       "3    40.0\n",
       "4    20.0\n",
       "5     NaN\n",
       "6    35.0\n",
       "7    45.0\n",
       "8     NaN"
      ]
     },
     "execution_count": 10,
     "metadata": {},
     "output_type": "execute_result"
    }
   ],
   "source": [
    "upper_threshold = 100  # Define your threshold for outliers\n",
    "lower_threshold = 0\n",
    "df['Values'][(df['Values'] > upper_threshold) | (df['Values'] < lower_threshold)] = None  # Replace outliers with NaN (|=or)\n",
    "df     "
   ]
  },
  {
   "cell_type": "markdown",
   "id": "05a300ea",
   "metadata": {},
   "source": [
    "## Outlier Handling by Clip Values\n",
    "Clipping is the process of setting upper and lower bounds on a variable to limit extreme values to a specified range.\n",
    "It replaces values in the DataFrame with the specified bounds if they fall outside the specified range.\n",
    "\n"
   ]
  },
  {
   "cell_type": "code",
   "execution_count": 11,
   "id": "cdbc9aee",
   "metadata": {},
   "outputs": [
    {
     "data": {
      "text/html": [
       "<div>\n",
       "<style scoped>\n",
       "    .dataframe tbody tr th:only-of-type {\n",
       "        vertical-align: middle;\n",
       "    }\n",
       "\n",
       "    .dataframe tbody tr th {\n",
       "        vertical-align: top;\n",
       "    }\n",
       "\n",
       "    .dataframe thead th {\n",
       "        text-align: right;\n",
       "    }\n",
       "</style>\n",
       "<table border=\"1\" class=\"dataframe\">\n",
       "  <thead>\n",
       "    <tr style=\"text-align: right;\">\n",
       "      <th></th>\n",
       "      <th>Values</th>\n",
       "    </tr>\n",
       "  </thead>\n",
       "  <tbody>\n",
       "    <tr>\n",
       "      <th>0</th>\n",
       "      <td>25</td>\n",
       "    </tr>\n",
       "    <tr>\n",
       "      <th>1</th>\n",
       "      <td>30</td>\n",
       "    </tr>\n",
       "    <tr>\n",
       "      <th>2</th>\n",
       "      <td>100</td>\n",
       "    </tr>\n",
       "    <tr>\n",
       "      <th>3</th>\n",
       "      <td>40</td>\n",
       "    </tr>\n",
       "    <tr>\n",
       "      <th>4</th>\n",
       "      <td>20</td>\n",
       "    </tr>\n",
       "    <tr>\n",
       "      <th>5</th>\n",
       "      <td>100</td>\n",
       "    </tr>\n",
       "    <tr>\n",
       "      <th>6</th>\n",
       "      <td>35</td>\n",
       "    </tr>\n",
       "    <tr>\n",
       "      <th>7</th>\n",
       "      <td>45</td>\n",
       "    </tr>\n",
       "    <tr>\n",
       "      <th>8</th>\n",
       "      <td>0</td>\n",
       "    </tr>\n",
       "  </tbody>\n",
       "</table>\n",
       "</div>"
      ],
      "text/plain": [
       "   Values\n",
       "0      25\n",
       "1      30\n",
       "2     100\n",
       "3      40\n",
       "4      20\n",
       "5     100\n",
       "6      35\n",
       "7      45\n",
       "8       0"
      ]
     },
     "execution_count": 11,
     "metadata": {},
     "output_type": "execute_result"
    }
   ],
   "source": [
    "# Create a sample DataFrame\n",
    "data = {'Values': [25, 30, 200, 40, 20, 300, 35, 45, -100]}\n",
    "df = pd.DataFrame(data)\n",
    "\n",
    "# Define upper and lower bounds\n",
    "lower_bound = 0\n",
    "upper_bound = 100\n",
    "\n",
    "# Clip values to the specified bounds\n",
    "df['Values'] = df['Values'].clip(lower=lower_bound, upper=upper_bound)\n",
    "df"
   ]
  },
  {
   "cell_type": "markdown",
   "id": "480e9ab4",
   "metadata": {},
   "source": [
    " ## Memory Optimization\n",
    "\n",
    "Optimizing memory usage is crucial when working with large datasets. Pandas provide techniques to reduce memory consumption while maintaining data integrity.\n",
    "\n",
    "1. Choose the Right Data Types:\n",
    "* Use appropriate data types for your columns. For example, use int8 or int16 for integer columns with small value ranges, and float32 for floating-point columns.\n",
    "* Consider using categorical data types for columns with a limited number of unique values. This reduces memory usage and can improve performance when working with categorical data.\n",
    "2. Use Sparse Data Structures if your data has too many missing values:\n",
    "* Pandas support sparse data structures, such as SparseDataFrame and SparseSeries, which are suitable for datasets with a lot of missing values.\n",
    "* Sparse data structures store only non-missing values, reducing memory usage.\n",
    "3. Read Data in Chunks:\n",
    "* When reading large datasets from external sources, use the chunksize parameter of functions like read_csv() to read the data in smaller chunks rather than loading the entire dataset into memory at once.\n",
    "4. Release Unneeded DataFrames:\n",
    "* Explicitly release memory by deleting DataFrames or Series that are no longer needed, using the del keyword. This frees up memory for other operations.\n",
    "5. Optimize GroupBy Operations:\n",
    "* Use the as_index=False parameter when performing GroupBy operations to avoid creating a new index, which can consume additional memory"
   ]
  },
  {
   "cell_type": "code",
   "execution_count": null,
   "id": "66370a7f",
   "metadata": {},
   "outputs": [],
   "source": []
  }
 ],
 "metadata": {
  "kernelspec": {
   "display_name": "Python 3 (ipykernel)",
   "language": "python",
   "name": "python3"
  },
  "language_info": {
   "codemirror_mode": {
    "name": "ipython",
    "version": 3
   },
   "file_extension": ".py",
   "mimetype": "text/x-python",
   "name": "python",
   "nbconvert_exporter": "python",
   "pygments_lexer": "ipython3",
   "version": "3.11.4"
  }
 },
 "nbformat": 4,
 "nbformat_minor": 5
}
