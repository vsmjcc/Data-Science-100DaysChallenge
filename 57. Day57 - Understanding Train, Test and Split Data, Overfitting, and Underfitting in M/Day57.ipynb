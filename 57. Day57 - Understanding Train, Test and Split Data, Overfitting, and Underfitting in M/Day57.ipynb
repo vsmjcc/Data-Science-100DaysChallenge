{
 "cells": [
  {
   "cell_type": "markdown",
   "id": "7b4d7692",
   "metadata": {},
   "source": [
    "# Train Test Split in Python\n"
   ]
  },
  {
   "cell_type": "markdown",
   "id": "342c1f9f",
   "metadata": {},
   "source": [
    "## What is train_test_split in Machine Learning\n",
    "\n",
    "In Scikit-learn, train_test split is a function used to create training and testing data to be usert to measure a machine learning model's performance.\n",
    "\n",
    "## Why Use Train Test Split in Machine Learning?\n",
    "\n",
    "In machine leaming, we often build or train models on a single dataset To evaluate if a machine learning model is doing as expected, we need to train the model on one portion of the dataset, and compare how accurately the predictions map to the real-world data\n",
    "\n",
    "To evaluate the accuracy of machine learning models, data scientists need to split datasets in two portions called\n",
    "\n",
    "-training data (train the model)\n",
    "\n",
    "-testing set (test the model)\n",
    "## How to Use Train Test Split\n",
    "\n",
    "1. Split a dataset into a training and testing set\n",
    "\n",
    "2. Provide the testing size with the test_size parameter\n",
    "\n",
    "3. Train a model on the training set\n",
    "\n",
    "4. Make predictions on the training set\n",
    "\n",
    "5. Compute the accuracy with a metrics such as the accuracy or accuracy_score"
   ]
  },
  {
   "cell_type": "code",
   "execution_count": 1,
   "id": "21176b42",
   "metadata": {},
   "outputs": [],
   "source": [
    "import pandas as pd"
   ]
  },
  {
   "cell_type": "code",
   "execution_count": 2,
   "id": "fdc2aa8f",
   "metadata": {},
   "outputs": [],
   "source": [
    "housing = pd.read_csv(\"housing.csv\")"
   ]
  },
  {
   "cell_type": "code",
   "execution_count": 3,
   "id": "61a6b0b4",
   "metadata": {},
   "outputs": [
    {
     "data": {
      "text/html": [
       "<div>\n",
       "<style scoped>\n",
       "    .dataframe tbody tr th:only-of-type {\n",
       "        vertical-align: middle;\n",
       "    }\n",
       "\n",
       "    .dataframe tbody tr th {\n",
       "        vertical-align: top;\n",
       "    }\n",
       "\n",
       "    .dataframe thead th {\n",
       "        text-align: right;\n",
       "    }\n",
       "</style>\n",
       "<table border=\"1\" class=\"dataframe\">\n",
       "  <thead>\n",
       "    <tr style=\"text-align: right;\">\n",
       "      <th></th>\n",
       "      <th>longitude</th>\n",
       "      <th>latitude</th>\n",
       "      <th>housing_median_age</th>\n",
       "      <th>total_rooms</th>\n",
       "      <th>total_bedrooms</th>\n",
       "      <th>population</th>\n",
       "      <th>households</th>\n",
       "      <th>median_income</th>\n",
       "      <th>ocean_proximity</th>\n",
       "      <th>median_house_value</th>\n",
       "    </tr>\n",
       "  </thead>\n",
       "  <tbody>\n",
       "    <tr>\n",
       "      <th>0</th>\n",
       "      <td>-122.23</td>\n",
       "      <td>37.88</td>\n",
       "      <td>41</td>\n",
       "      <td>880</td>\n",
       "      <td>129.0</td>\n",
       "      <td>322</td>\n",
       "      <td>126</td>\n",
       "      <td>8.3252</td>\n",
       "      <td>NEAR BAY</td>\n",
       "      <td>452600</td>\n",
       "    </tr>\n",
       "    <tr>\n",
       "      <th>1</th>\n",
       "      <td>-122.22</td>\n",
       "      <td>37.86</td>\n",
       "      <td>21</td>\n",
       "      <td>7099</td>\n",
       "      <td>1106.0</td>\n",
       "      <td>2401</td>\n",
       "      <td>1138</td>\n",
       "      <td>8.3014</td>\n",
       "      <td>NEAR BAY</td>\n",
       "      <td>358500</td>\n",
       "    </tr>\n",
       "    <tr>\n",
       "      <th>2</th>\n",
       "      <td>-122.24</td>\n",
       "      <td>37.85</td>\n",
       "      <td>52</td>\n",
       "      <td>1467</td>\n",
       "      <td>190.0</td>\n",
       "      <td>496</td>\n",
       "      <td>177</td>\n",
       "      <td>7.2574</td>\n",
       "      <td>NEAR BAY</td>\n",
       "      <td>352100</td>\n",
       "    </tr>\n",
       "    <tr>\n",
       "      <th>3</th>\n",
       "      <td>-122.25</td>\n",
       "      <td>37.85</td>\n",
       "      <td>52</td>\n",
       "      <td>1274</td>\n",
       "      <td>235.0</td>\n",
       "      <td>558</td>\n",
       "      <td>219</td>\n",
       "      <td>5.6431</td>\n",
       "      <td>NEAR BAY</td>\n",
       "      <td>341300</td>\n",
       "    </tr>\n",
       "    <tr>\n",
       "      <th>4</th>\n",
       "      <td>-122.25</td>\n",
       "      <td>37.85</td>\n",
       "      <td>52</td>\n",
       "      <td>1627</td>\n",
       "      <td>280.0</td>\n",
       "      <td>565</td>\n",
       "      <td>259</td>\n",
       "      <td>3.8462</td>\n",
       "      <td>NEAR BAY</td>\n",
       "      <td>342200</td>\n",
       "    </tr>\n",
       "  </tbody>\n",
       "</table>\n",
       "</div>"
      ],
      "text/plain": [
       "   longitude  latitude  housing_median_age  total_rooms  total_bedrooms  \\\n",
       "0    -122.23     37.88                  41          880           129.0   \n",
       "1    -122.22     37.86                  21         7099          1106.0   \n",
       "2    -122.24     37.85                  52         1467           190.0   \n",
       "3    -122.25     37.85                  52         1274           235.0   \n",
       "4    -122.25     37.85                  52         1627           280.0   \n",
       "\n",
       "   population  households  median_income ocean_proximity  median_house_value  \n",
       "0         322         126         8.3252        NEAR BAY              452600  \n",
       "1        2401        1138         8.3014        NEAR BAY              358500  \n",
       "2         496         177         7.2574        NEAR BAY              352100  \n",
       "3         558         219         5.6431        NEAR BAY              341300  \n",
       "4         565         259         3.8462        NEAR BAY              342200  "
      ]
     },
     "execution_count": 3,
     "metadata": {},
     "output_type": "execute_result"
    }
   ],
   "source": [
    "housing.head()"
   ]
  },
  {
   "cell_type": "code",
   "execution_count": 4,
   "id": "58f122d3",
   "metadata": {},
   "outputs": [],
   "source": [
    "y= housing.median_income"
   ]
  },
  {
   "cell_type": "code",
   "execution_count": 5,
   "id": "b33cea6d",
   "metadata": {},
   "outputs": [],
   "source": [
    "x=housing.drop('median_income',axis=1)"
   ]
  },
  {
   "cell_type": "code",
   "execution_count": 6,
   "id": "c67604a7",
   "metadata": {},
   "outputs": [],
   "source": [
    "from sklearn.model_selection import train_test_split\n",
    "x_train,x_test,y_train,y_test=train_test_split(x,y,test_size=0.2)"
   ]
  },
  {
   "cell_type": "code",
   "execution_count": 7,
   "id": "933d10ad",
   "metadata": {},
   "outputs": [
    {
     "name": "stdout",
     "output_type": "stream",
     "text": [
      "shape of original dataset : (20640, 10)\n",
      "shape of input - training set (16512, 9)\n",
      "shape of output - training set (16512,)\n",
      "shape of input - testing set (4128, 9)\n",
      "shape of output - testing set (4128,)\n"
     ]
    }
   ],
   "source": [
    "#printing shapes of testing and training sets :\n",
    "print(\"shape of original dataset :\", housing.shape)\n",
    "print(\"shape of input - training set\", x_train.shape)\n",
    "print(\"shape of output - training set\", y_train.shape)\n",
    "print(\"shape of input - testing set\", x_test.shape)\n",
    "print(\"shape of output - testing set\", y_test.shape)"
   ]
  },
  {
   "cell_type": "markdown",
   "id": "8a293979",
   "metadata": {},
   "source": [
    "# Diagnose and Address Underfitting and Overfitting"
   ]
  },
  {
   "cell_type": "markdown",
   "id": "8d79ec69",
   "metadata": {},
   "source": [
    "**Diagnosing Underfitting:**\n",
    "\n",
    "Underfitting occurs when a model is too simplistic to capture the underlying patterns in the data. It performs poorly on both the training and test sets. Signs of underfitting include:\n",
    "\n",
    "* Low training and test performance (low accuracy, high error).\n",
    "\n",
    "* Consistently poor performance across different datasets or folds in cross-validation.\n",
    "\n",
    "* Model doesn't seem to learn from the training data."
   ]
  },
  {
   "cell_type": "markdown",
   "id": "80c9bc47",
   "metadata": {},
   "source": [
    "**Addressing Underfitting:**\n",
    "\n",
    "* **Increase Model Complexity:** Consider using a more complex model with more parameters, such as using deeper neural networks, higher-degree polynomial regression, or more complex algorithms.\n",
    "\n",
    "* **Feature Engineering:** Add more relevant features to the dataset to provide the model with more information.\n",
    "\n",
    "* **Fine-tuning Hyperparameters:** Adjust hyperparameters like learning rate, regularization strength, or the number of hidden units/layers in a neural network.\n",
    "\n",
    "* **Reduce Regularization:** If you're using regularization techniques, consider reducing the strength of regularization or using a different type."
   ]
  },
  {
   "cell_type": "markdown",
   "id": "b7c27562",
   "metadata": {},
   "source": [
    "**Reasons for Underfitting:**\n",
    "\n",
    "* High bias and low variance.\n",
    "\n",
    "* The size of the training dataset used is not enough.\n",
    "\n",
    "* The model is too simple.\n",
    "\n",
    "* Training data is not cleaned and also contains noise in it."
   ]
  },
  {
   "cell_type": "markdown",
   "id": "d2869b63",
   "metadata": {},
   "source": [
    "**Techniques to Reduce Underfitting:**\n",
    "\n",
    "* Increase model complexity.\n",
    "\n",
    "* Increase the number of features, performing feature engineering.\n",
    "\n",
    "* Remove noise from the data.\n",
    "\n",
    "* Increase the number of epochs or increase the duration of training to get better results."
   ]
  },
  {
   "cell_type": "markdown",
   "id": "1fe95ae2",
   "metadata": {},
   "source": [
    "**Diagnosing Overfitting:**\n",
    "\n",
    "  Overfitting occurs when a model becomes too flexible and fits the training data noise and outliers. It performs very well on the training set but poorly on the test set. Signs of overfitting include:\n",
    "\n",
    "* High training performance but significantly lower test performance.\n",
    "\n",
    "* Large differences between training and test performance.\n",
    "\n",
    "* Model captures noise and fluctuations in the training data."
   ]
  },
  {
   "cell_type": "markdown",
   "id": "9e3f6407",
   "metadata": {},
   "source": [
    "**Addressing Overfitting:**\n",
    "\n",
    "* **Regularization:** Apply regularization techniques to penalize overly complex models. Common methods include L1 regularization (Lasso), L2 regularization (Ridge), and dropout in neural networks.\n",
    "\n",
    "* **Feature Selection:** Remove irrelevant or noisy features that might be contributing to overfitting.\n",
    "\n",
    "* **More Data:** Increase the size of your training dataset to provide the model with more examples to learn from.\n",
    "\n",
    "* **Early Stopping:** Monitor the performance on the validation set during training and stop training when performance starts to degrade.\n",
    "\n",
    "* **Simpler Model:** Consider using a simpler model architecture with fewer parameters.\n",
    "Ensemble Methods: Combine predictions from multiple models to reduce overfitting."
   ]
  },
  {
   "cell_type": "markdown",
   "id": "3d43d002",
   "metadata": {},
   "source": [
    "**Reasons for Overfitting:**\n",
    "\n",
    "* High variance and low bias.\n",
    "\n",
    "* The model is too complex.\n",
    "\n",
    "* The size of the training data."
   ]
  },
  {
   "cell_type": "markdown",
   "id": "3a39ccb4",
   "metadata": {},
   "source": [
    "**Techniques to Reduce Overfitting:**\n",
    "\n",
    "* Increase training data.\n",
    "\n",
    "* Reduce model complexity.\n",
    "\n",
    "* Early stopping during the training phase (have an eye over the loss over the training period as soon as loss begins to increase stop training).\n",
    "\n",
    "* Ridge Regularization and Lasso Regularization.\n",
    "\n",
    "* Use dropout for neural networks to tackle overfitting."
   ]
  },
  {
   "cell_type": "code",
   "execution_count": null,
   "id": "9e927382",
   "metadata": {},
   "outputs": [],
   "source": []
  }
 ],
 "metadata": {
  "kernelspec": {
   "display_name": "Python 3 (ipykernel)",
   "language": "python",
   "name": "python3"
  },
  "language_info": {
   "codemirror_mode": {
    "name": "ipython",
    "version": 3
   },
   "file_extension": ".py",
   "mimetype": "text/x-python",
   "name": "python",
   "nbconvert_exporter": "python",
   "pygments_lexer": "ipython3",
   "version": "3.11.4"
  }
 },
 "nbformat": 4,
 "nbformat_minor": 5
}
