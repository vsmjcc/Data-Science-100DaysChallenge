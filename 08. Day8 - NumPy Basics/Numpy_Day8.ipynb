{
 "cells": [
  {
   "cell_type": "markdown",
   "id": "234dc41b",
   "metadata": {},
   "source": [
    "# Numpy Basics by Mrittika Megaraj"
   ]
  },
  {
   "cell_type": "markdown",
   "id": "c89996d1",
   "metadata": {},
   "source": [
    "# Numpy"
   ]
  },
  {
   "cell_type": "raw",
   "id": "8a11244d",
   "metadata": {},
   "source": [
    "List : Properties\n",
    "Heterogenous\n",
    "Mutable\n",
    "Numpy : Data Structure\n",
    "properties\n",
    "1 ndimensional arrays\n",
    "2.Homogenous \n",
    "3.Mutable\n",
    "4. Vectorization\n",
    "5. Broadcasting is possible\n",
    "\n",
    "Creation\n",
    "1. Type Casting using np.array() method\n",
    "2 . arange(start:Stop:Step),linspace(start:Stop, num=50),\n",
    "random.random(): To generate random numbers between 0 and 1\n",
    "random.randint() : To generate random integers between the starting value and stop value\n",
    "np.full()\n",
    "reshape()\n",
    "Transpose()\n",
    "np.zeros\n",
    "np.ones()\n",
    "\n",
    "Help : Shift+Tab\n",
    "Tab"
   ]
  },
  {
   "cell_type": "code",
   "execution_count": 1,
   "id": "6a980ff1",
   "metadata": {},
   "outputs": [],
   "source": [
    "l1=[1,2,3,4,5]"
   ]
  },
  {
   "cell_type": "code",
   "execution_count": 2,
   "id": "0c0d4fa8",
   "metadata": {},
   "outputs": [
    {
     "ename": "TypeError",
     "evalue": "can only concatenate list (not \"int\") to list",
     "output_type": "error",
     "traceback": [
      "\u001b[1;31m---------------------------------------------------------------------------\u001b[0m",
      "\u001b[1;31mTypeError\u001b[0m                                 Traceback (most recent call last)",
      "Cell \u001b[1;32mIn[2], line 1\u001b[0m\n\u001b[1;32m----> 1\u001b[0m l1\u001b[38;5;241m+\u001b[39m\u001b[38;5;241m5\u001b[39m\n",
      "\u001b[1;31mTypeError\u001b[0m: can only concatenate list (not \"int\") to list"
     ]
    }
   ],
   "source": [
    "l1+5"
   ]
  },
  {
   "cell_type": "code",
   "execution_count": 3,
   "id": "98b56ac6",
   "metadata": {},
   "outputs": [
    {
     "ename": "TypeError",
     "evalue": "unsupported operand type(s) for /: 'list' and 'int'",
     "output_type": "error",
     "traceback": [
      "\u001b[1;31m---------------------------------------------------------------------------\u001b[0m",
      "\u001b[1;31mTypeError\u001b[0m                                 Traceback (most recent call last)",
      "Cell \u001b[1;32mIn[3], line 1\u001b[0m\n\u001b[1;32m----> 1\u001b[0m l1\u001b[38;5;241m/\u001b[39m\u001b[38;5;241m2\u001b[39m\n",
      "\u001b[1;31mTypeError\u001b[0m: unsupported operand type(s) for /: 'list' and 'int'"
     ]
    }
   ],
   "source": [
    "l1/2"
   ]
  },
  {
   "cell_type": "code",
   "execution_count": 4,
   "id": "66e41cbb",
   "metadata": {},
   "outputs": [],
   "source": [
    "import numpy as np"
   ]
  },
  {
   "cell_type": "code",
   "execution_count": 5,
   "id": "f7b6a9ff",
   "metadata": {},
   "outputs": [],
   "source": [
    "ar1=np.array([1,2,3,4,5])"
   ]
  },
  {
   "cell_type": "code",
   "execution_count": 6,
   "id": "b222eb31",
   "metadata": {},
   "outputs": [
    {
     "data": {
      "text/plain": [
       "numpy.ndarray"
      ]
     },
     "execution_count": 6,
     "metadata": {},
     "output_type": "execute_result"
    }
   ],
   "source": [
    "type(ar1)"
   ]
  },
  {
   "cell_type": "code",
   "execution_count": 7,
   "id": "d347228b",
   "metadata": {},
   "outputs": [
    {
     "data": {
      "text/plain": [
       "array([1, 2, 3, 4, 5])"
      ]
     },
     "execution_count": 7,
     "metadata": {},
     "output_type": "execute_result"
    }
   ],
   "source": [
    "ar1"
   ]
  },
  {
   "cell_type": "code",
   "execution_count": 8,
   "id": "0ea1232e",
   "metadata": {},
   "outputs": [],
   "source": [
    "# 2D array\n",
    "ar_2D=np.array([[1,2,3,4,5],[6,7,8,9,10]])"
   ]
  },
  {
   "cell_type": "code",
   "execution_count": 9,
   "id": "3570ce9b",
   "metadata": {},
   "outputs": [
    {
     "data": {
      "text/plain": [
       "array([[ 1,  2,  3,  4,  5],\n",
       "       [ 6,  7,  8,  9, 10]])"
      ]
     },
     "execution_count": 9,
     "metadata": {},
     "output_type": "execute_result"
    }
   ],
   "source": [
    "ar_2D"
   ]
  },
  {
   "cell_type": "code",
   "execution_count": 10,
   "id": "b2b0c419",
   "metadata": {},
   "outputs": [
    {
     "data": {
      "text/plain": [
       "[1, 2, 3, 4, 5]"
      ]
     },
     "execution_count": 10,
     "metadata": {},
     "output_type": "execute_result"
    }
   ],
   "source": [
    "l1"
   ]
  },
  {
   "cell_type": "code",
   "execution_count": 11,
   "id": "0536b82a",
   "metadata": {},
   "outputs": [],
   "source": [
    "ar2=np.array(l1)"
   ]
  },
  {
   "cell_type": "code",
   "execution_count": 12,
   "id": "f963169a",
   "metadata": {},
   "outputs": [
    {
     "data": {
      "text/plain": [
       "numpy.ndarray"
      ]
     },
     "execution_count": 12,
     "metadata": {},
     "output_type": "execute_result"
    }
   ],
   "source": [
    "type(ar2)"
   ]
  },
  {
   "cell_type": "code",
   "execution_count": 13,
   "id": "9b0b096b",
   "metadata": {},
   "outputs": [],
   "source": [
    "t1=(1,2,3,4,5)"
   ]
  },
  {
   "cell_type": "code",
   "execution_count": 14,
   "id": "844c8fd1",
   "metadata": {},
   "outputs": [
    {
     "data": {
      "text/plain": [
       "tuple"
      ]
     },
     "execution_count": 14,
     "metadata": {},
     "output_type": "execute_result"
    }
   ],
   "source": [
    "type(t1)"
   ]
  },
  {
   "cell_type": "code",
   "execution_count": 15,
   "id": "0138fe5d",
   "metadata": {},
   "outputs": [],
   "source": [
    "ar3=np.array(t1)"
   ]
  },
  {
   "cell_type": "code",
   "execution_count": 16,
   "id": "afccc5f8",
   "metadata": {},
   "outputs": [
    {
     "data": {
      "text/plain": [
       "numpy.ndarray"
      ]
     },
     "execution_count": 16,
     "metadata": {},
     "output_type": "execute_result"
    }
   ],
   "source": [
    "type(ar3)"
   ]
  },
  {
   "cell_type": "code",
   "execution_count": 17,
   "id": "8297348c",
   "metadata": {},
   "outputs": [
    {
     "data": {
      "text/plain": [
       "array([1, 2, 3, 4, 5])"
      ]
     },
     "execution_count": 17,
     "metadata": {},
     "output_type": "execute_result"
    }
   ],
   "source": [
    "ar3"
   ]
  },
  {
   "cell_type": "code",
   "execution_count": 18,
   "id": "fd4d6415",
   "metadata": {},
   "outputs": [
    {
     "name": "stdout",
     "output_type": "stream",
     "text": [
      "['T', '__abs__', '__add__', '__and__', '__array__', '__array_finalize__', '__array_function__', '__array_interface__', '__array_prepare__', '__array_priority__', '__array_struct__', '__array_ufunc__', '__array_wrap__', '__bool__', '__class__', '__class_getitem__', '__complex__', '__contains__', '__copy__', '__deepcopy__', '__delattr__', '__delitem__', '__dir__', '__divmod__', '__dlpack__', '__dlpack_device__', '__doc__', '__eq__', '__float__', '__floordiv__', '__format__', '__ge__', '__getattribute__', '__getitem__', '__getstate__', '__gt__', '__hash__', '__iadd__', '__iand__', '__ifloordiv__', '__ilshift__', '__imatmul__', '__imod__', '__imul__', '__index__', '__init__', '__init_subclass__', '__int__', '__invert__', '__ior__', '__ipow__', '__irshift__', '__isub__', '__iter__', '__itruediv__', '__ixor__', '__le__', '__len__', '__lshift__', '__lt__', '__matmul__', '__mod__', '__mul__', '__ne__', '__neg__', '__new__', '__or__', '__pos__', '__pow__', '__radd__', '__rand__', '__rdivmod__', '__reduce__', '__reduce_ex__', '__repr__', '__rfloordiv__', '__rlshift__', '__rmatmul__', '__rmod__', '__rmul__', '__ror__', '__rpow__', '__rrshift__', '__rshift__', '__rsub__', '__rtruediv__', '__rxor__', '__setattr__', '__setitem__', '__setstate__', '__sizeof__', '__str__', '__sub__', '__subclasshook__', '__truediv__', '__xor__', 'all', 'any', 'argmax', 'argmin', 'argpartition', 'argsort', 'astype', 'base', 'byteswap', 'choose', 'clip', 'compress', 'conj', 'conjugate', 'copy', 'ctypes', 'cumprod', 'cumsum', 'data', 'diagonal', 'dot', 'dtype', 'dump', 'dumps', 'fill', 'flags', 'flat', 'flatten', 'getfield', 'imag', 'item', 'itemset', 'itemsize', 'max', 'mean', 'min', 'nbytes', 'ndim', 'newbyteorder', 'nonzero', 'partition', 'prod', 'ptp', 'put', 'ravel', 'real', 'repeat', 'reshape', 'resize', 'round', 'searchsorted', 'setfield', 'setflags', 'shape', 'size', 'sort', 'squeeze', 'std', 'strides', 'sum', 'swapaxes', 'take', 'tobytes', 'tofile', 'tolist', 'tostring', 'trace', 'transpose', 'var', 'view']\n"
     ]
    }
   ],
   "source": [
    "print(dir(ar1))"
   ]
  },
  {
   "cell_type": "code",
   "execution_count": 19,
   "id": "e8975768",
   "metadata": {},
   "outputs": [
    {
     "data": {
      "text/plain": [
       "array([ 0,  2,  4,  6,  8, 10, 12, 14, 16, 18, 20])"
      ]
     },
     "execution_count": 19,
     "metadata": {},
     "output_type": "execute_result"
    }
   ],
   "source": [
    "ar4=np.arange(0,21,2)\n",
    "ar4"
   ]
  },
  {
   "cell_type": "code",
   "execution_count": 20,
   "id": "cd1bde39",
   "metadata": {},
   "outputs": [
    {
     "data": {
      "text/plain": [
       "array([ 1,  3,  5,  7,  9, 11, 13, 15, 17, 20])"
      ]
     },
     "execution_count": 20,
     "metadata": {},
     "output_type": "execute_result"
    }
   ],
   "source": [
    "ar5=np.linspace(1,20,10,dtype=int)\n",
    "ar5"
   ]
  },
  {
   "cell_type": "code",
   "execution_count": 21,
   "id": "05fd3f61",
   "metadata": {},
   "outputs": [
    {
     "data": {
      "text/plain": [
       "array([0.41750976, 0.88753088, 0.75400892, 0.67281514, 0.83596342,\n",
       "       0.3219251 , 0.52425191, 0.08843268, 0.07214202, 0.35478599,\n",
       "       0.01432808, 0.12397409, 0.14478798, 0.81881406, 0.21691611,\n",
       "       0.68076671, 0.09984738, 0.59979366, 0.34438947, 0.85416865])"
      ]
     },
     "execution_count": 21,
     "metadata": {},
     "output_type": "execute_result"
    }
   ],
   "source": [
    "np.random.random(20)"
   ]
  },
  {
   "cell_type": "code",
   "execution_count": 22,
   "id": "da8f3e33",
   "metadata": {},
   "outputs": [
    {
     "data": {
      "text/plain": [
       "array([ 4,  3,  2,  5,  9,  3, 13,  8, 19, 15])"
      ]
     },
     "execution_count": 22,
     "metadata": {},
     "output_type": "execute_result"
    }
   ],
   "source": [
    "np.random.randint(1,20,10)"
   ]
  },
  {
   "cell_type": "code",
   "execution_count": 23,
   "id": "dd9f672b",
   "metadata": {},
   "outputs": [
    {
     "data": {
      "text/plain": [
       "array([1, 2, 3, 4, 5])"
      ]
     },
     "execution_count": 23,
     "metadata": {},
     "output_type": "execute_result"
    }
   ],
   "source": [
    "ar1"
   ]
  },
  {
   "cell_type": "code",
   "execution_count": 24,
   "id": "4b686a14",
   "metadata": {},
   "outputs": [],
   "source": [
    "ar5=np.arange(1,21)"
   ]
  },
  {
   "cell_type": "code",
   "execution_count": 25,
   "id": "be687f04",
   "metadata": {},
   "outputs": [
    {
     "data": {
      "text/plain": [
       "array([ 1,  2,  3,  4,  5,  6,  7,  8,  9, 10, 11, 12, 13, 14, 15, 16, 17,\n",
       "       18, 19, 20])"
      ]
     },
     "execution_count": 25,
     "metadata": {},
     "output_type": "execute_result"
    }
   ],
   "source": [
    "ar5"
   ]
  },
  {
   "cell_type": "code",
   "execution_count": 26,
   "id": "24a5519d",
   "metadata": {},
   "outputs": [],
   "source": [
    "ar5_2D=np.reshape(ar5,(5,4))"
   ]
  },
  {
   "cell_type": "code",
   "execution_count": 27,
   "id": "bc43551e",
   "metadata": {},
   "outputs": [
    {
     "data": {
      "text/plain": [
       "array([[ 1,  2,  3,  4],\n",
       "       [ 5,  6,  7,  8],\n",
       "       [ 9, 10, 11, 12],\n",
       "       [13, 14, 15, 16],\n",
       "       [17, 18, 19, 20]])"
      ]
     },
     "execution_count": 27,
     "metadata": {},
     "output_type": "execute_result"
    }
   ],
   "source": [
    "ar5_2D"
   ]
  },
  {
   "cell_type": "code",
   "execution_count": 28,
   "id": "0d1edfd8",
   "metadata": {},
   "outputs": [],
   "source": [
    "ar5_3D=np.reshape(ar5,(2,5,2))"
   ]
  },
  {
   "cell_type": "code",
   "execution_count": 29,
   "id": "d9ef3d7d",
   "metadata": {},
   "outputs": [
    {
     "data": {
      "text/plain": [
       "array([[[ 1,  2],\n",
       "        [ 3,  4],\n",
       "        [ 5,  6],\n",
       "        [ 7,  8],\n",
       "        [ 9, 10]],\n",
       "\n",
       "       [[11, 12],\n",
       "        [13, 14],\n",
       "        [15, 16],\n",
       "        [17, 18],\n",
       "        [19, 20]]])"
      ]
     },
     "execution_count": 29,
     "metadata": {},
     "output_type": "execute_result"
    }
   ],
   "source": [
    "ar5_3D"
   ]
  },
  {
   "cell_type": "code",
   "execution_count": 30,
   "id": "9c1627cd",
   "metadata": {},
   "outputs": [
    {
     "data": {
      "text/plain": [
       "array([[ 1,  2,  3,  4],\n",
       "       [ 5,  6,  7,  8],\n",
       "       [ 9, 10, 11, 12],\n",
       "       [13, 14, 15, 16],\n",
       "       [17, 18, 19, 20]])"
      ]
     },
     "execution_count": 30,
     "metadata": {},
     "output_type": "execute_result"
    }
   ],
   "source": [
    "ar5_2D"
   ]
  },
  {
   "cell_type": "code",
   "execution_count": 31,
   "id": "050cc778",
   "metadata": {},
   "outputs": [
    {
     "data": {
      "text/plain": [
       "array([[ 1,  5,  9, 13, 17],\n",
       "       [ 2,  6, 10, 14, 18],\n",
       "       [ 3,  7, 11, 15, 19],\n",
       "       [ 4,  8, 12, 16, 20]])"
      ]
     },
     "execution_count": 31,
     "metadata": {},
     "output_type": "execute_result"
    }
   ],
   "source": [
    "np.transpose(ar5_2D)"
   ]
  },
  {
   "cell_type": "code",
   "execution_count": 32,
   "id": "3450a5ce",
   "metadata": {},
   "outputs": [
    {
     "ename": "TypeError",
     "evalue": "arange() requires stop to be specified.",
     "output_type": "error",
     "traceback": [
      "\u001b[1;31m---------------------------------------------------------------------------\u001b[0m",
      "\u001b[1;31mTypeError\u001b[0m                                 Traceback (most recent call last)",
      "Cell \u001b[1;32mIn[32], line 1\u001b[0m\n\u001b[1;32m----> 1\u001b[0m np\u001b[38;5;241m.\u001b[39marange()\n",
      "\u001b[1;31mTypeError\u001b[0m: arange() requires stop to be specified."
     ]
    }
   ],
   "source": [
    "np.arange()"
   ]
  },
  {
   "cell_type": "code",
   "execution_count": 33,
   "id": "5e3fc019",
   "metadata": {},
   "outputs": [
    {
     "ename": "SyntaxError",
     "evalue": "invalid syntax (2171679232.py, line 1)",
     "output_type": "error",
     "traceback": [
      "\u001b[1;36m  Cell \u001b[1;32mIn[33], line 1\u001b[1;36m\u001b[0m\n\u001b[1;33m    ar5.\u001b[0m\n\u001b[1;37m        ^\u001b[0m\n\u001b[1;31mSyntaxError\u001b[0m\u001b[1;31m:\u001b[0m invalid syntax\n"
     ]
    }
   ],
   "source": [
    "ar5."
   ]
  },
  {
   "cell_type": "markdown",
   "id": "a46313ae",
   "metadata": {},
   "source": [
    "## Inspection of arrays"
   ]
  },
  {
   "cell_type": "raw",
   "id": "9bdc35fa",
   "metadata": {},
   "source": [
    ".shape\n",
    ".size\n",
    ".ndim\n",
    ".dtypes\n",
    ".nbytes"
   ]
  },
  {
   "cell_type": "code",
   "execution_count": 34,
   "id": "71078aaa",
   "metadata": {},
   "outputs": [
    {
     "data": {
      "text/plain": [
       "(5, 4)"
      ]
     },
     "execution_count": 34,
     "metadata": {},
     "output_type": "execute_result"
    }
   ],
   "source": [
    "ar5_2D.shape"
   ]
  },
  {
   "cell_type": "code",
   "execution_count": 35,
   "id": "a83c81a5",
   "metadata": {},
   "outputs": [
    {
     "data": {
      "text/plain": [
       "20"
      ]
     },
     "execution_count": 35,
     "metadata": {},
     "output_type": "execute_result"
    }
   ],
   "source": [
    "ar5_2D.size"
   ]
  },
  {
   "cell_type": "code",
   "execution_count": 36,
   "id": "cf04868b",
   "metadata": {},
   "outputs": [
    {
     "data": {
      "text/plain": [
       "array([[ 1,  2,  3,  4],\n",
       "       [ 5,  6,  7,  8],\n",
       "       [ 9, 10, 11, 12],\n",
       "       [13, 14, 15, 16],\n",
       "       [17, 18, 19, 20]])"
      ]
     },
     "execution_count": 36,
     "metadata": {},
     "output_type": "execute_result"
    }
   ],
   "source": [
    "ar5_2D"
   ]
  },
  {
   "cell_type": "code",
   "execution_count": 37,
   "id": "cfdfd131",
   "metadata": {},
   "outputs": [
    {
     "data": {
      "text/plain": [
       "2"
      ]
     },
     "execution_count": 37,
     "metadata": {},
     "output_type": "execute_result"
    }
   ],
   "source": [
    "ar5_2D.ndim"
   ]
  },
  {
   "cell_type": "code",
   "execution_count": 38,
   "id": "786fc019",
   "metadata": {},
   "outputs": [
    {
     "data": {
      "text/plain": [
       "array([1, 2, 3, 4, 5])"
      ]
     },
     "execution_count": 38,
     "metadata": {},
     "output_type": "execute_result"
    }
   ],
   "source": [
    "ar1"
   ]
  },
  {
   "cell_type": "code",
   "execution_count": 39,
   "id": "9f74b03d",
   "metadata": {},
   "outputs": [
    {
     "data": {
      "text/plain": [
       "1"
      ]
     },
     "execution_count": 39,
     "metadata": {},
     "output_type": "execute_result"
    }
   ],
   "source": [
    "ar1.ndim"
   ]
  },
  {
   "cell_type": "code",
   "execution_count": 40,
   "id": "0156680e",
   "metadata": {},
   "outputs": [
    {
     "data": {
      "text/plain": [
       "array([[[ 1,  2],\n",
       "        [ 3,  4],\n",
       "        [ 5,  6],\n",
       "        [ 7,  8],\n",
       "        [ 9, 10]],\n",
       "\n",
       "       [[11, 12],\n",
       "        [13, 14],\n",
       "        [15, 16],\n",
       "        [17, 18],\n",
       "        [19, 20]]])"
      ]
     },
     "execution_count": 40,
     "metadata": {},
     "output_type": "execute_result"
    }
   ],
   "source": [
    "ar5_3D"
   ]
  },
  {
   "cell_type": "code",
   "execution_count": 41,
   "id": "241054fe",
   "metadata": {},
   "outputs": [
    {
     "data": {
      "text/plain": [
       "3"
      ]
     },
     "execution_count": 41,
     "metadata": {},
     "output_type": "execute_result"
    }
   ],
   "source": [
    "ar5_3D.ndim"
   ]
  },
  {
   "cell_type": "code",
   "execution_count": 42,
   "id": "7a1f89bc",
   "metadata": {},
   "outputs": [
    {
     "data": {
      "text/plain": [
       "dtype('int32')"
      ]
     },
     "execution_count": 42,
     "metadata": {},
     "output_type": "execute_result"
    }
   ],
   "source": [
    "ar5_3D.dtype"
   ]
  },
  {
   "cell_type": "code",
   "execution_count": 43,
   "id": "653a97e7",
   "metadata": {},
   "outputs": [
    {
     "data": {
      "text/plain": [
       "80"
      ]
     },
     "execution_count": 43,
     "metadata": {},
     "output_type": "execute_result"
    }
   ],
   "source": [
    "ar5_3D.nbytes"
   ]
  },
  {
   "cell_type": "markdown",
   "id": "fdfa3ac7",
   "metadata": {},
   "source": [
    "## Accessing elements "
   ]
  },
  {
   "cell_type": "raw",
   "id": "22ff32d9",
   "metadata": {},
   "source": [
    "Access elements using positive indexes . Positive Index starts from 0\n",
    "Negative index starts from -1\n",
    "array[row,column]\n",
    "slicing : array[start:Stop:Step]\n",
    "Positive index : Default value for start index : 0 and default value for the stop index is the last element"
   ]
  },
  {
   "cell_type": "code",
   "execution_count": 44,
   "id": "00eafb50",
   "metadata": {},
   "outputs": [
    {
     "data": {
      "text/plain": [
       "array([1, 2, 3, 4, 5])"
      ]
     },
     "execution_count": 44,
     "metadata": {},
     "output_type": "execute_result"
    }
   ],
   "source": [
    "ar1"
   ]
  },
  {
   "cell_type": "code",
   "execution_count": 45,
   "id": "637da950",
   "metadata": {},
   "outputs": [
    {
     "data": {
      "text/plain": [
       "1"
      ]
     },
     "execution_count": 45,
     "metadata": {},
     "output_type": "execute_result"
    }
   ],
   "source": [
    "ar1[0]"
   ]
  },
  {
   "cell_type": "code",
   "execution_count": 46,
   "id": "1966467b",
   "metadata": {},
   "outputs": [
    {
     "data": {
      "text/plain": [
       "2"
      ]
     },
     "execution_count": 46,
     "metadata": {},
     "output_type": "execute_result"
    }
   ],
   "source": [
    "ar1[1]"
   ]
  },
  {
   "cell_type": "code",
   "execution_count": 47,
   "id": "65cc6aa0",
   "metadata": {},
   "outputs": [
    {
     "data": {
      "text/plain": [
       "5"
      ]
     },
     "execution_count": 47,
     "metadata": {},
     "output_type": "execute_result"
    }
   ],
   "source": [
    "ar1[-1]"
   ]
  },
  {
   "cell_type": "code",
   "execution_count": 48,
   "id": "0e0e371d",
   "metadata": {},
   "outputs": [
    {
     "data": {
      "text/plain": [
       "array([[ 1,  2,  3,  4],\n",
       "       [ 5,  6,  7,  8],\n",
       "       [ 9, 10, 11, 12],\n",
       "       [13, 14, 15, 16],\n",
       "       [17, 18, 19, 20]])"
      ]
     },
     "execution_count": 48,
     "metadata": {},
     "output_type": "execute_result"
    }
   ],
   "source": [
    "ar5_2D"
   ]
  },
  {
   "cell_type": "code",
   "execution_count": 49,
   "id": "91e17d09",
   "metadata": {},
   "outputs": [
    {
     "data": {
      "text/plain": [
       "11"
      ]
     },
     "execution_count": 49,
     "metadata": {},
     "output_type": "execute_result"
    }
   ],
   "source": [
    "ar5_2D[2,2]"
   ]
  },
  {
   "cell_type": "code",
   "execution_count": 50,
   "id": "4570a3b9",
   "metadata": {},
   "outputs": [
    {
     "data": {
      "text/plain": [
       "20"
      ]
     },
     "execution_count": 50,
     "metadata": {},
     "output_type": "execute_result"
    }
   ],
   "source": [
    "ar5_2D[4,3]"
   ]
  },
  {
   "cell_type": "code",
   "execution_count": 51,
   "id": "52c02b31",
   "metadata": {},
   "outputs": [
    {
     "data": {
      "text/plain": [
       "10"
      ]
     },
     "execution_count": 51,
     "metadata": {},
     "output_type": "execute_result"
    }
   ],
   "source": [
    "ar5_2D[2,1]"
   ]
  },
  {
   "cell_type": "code",
   "execution_count": 52,
   "id": "e7dc7544",
   "metadata": {},
   "outputs": [
    {
     "data": {
      "text/plain": [
       "array([1, 2, 3, 4, 5])"
      ]
     },
     "execution_count": 52,
     "metadata": {},
     "output_type": "execute_result"
    }
   ],
   "source": [
    "ar1"
   ]
  },
  {
   "cell_type": "code",
   "execution_count": 53,
   "id": "d77f5433",
   "metadata": {},
   "outputs": [
    {
     "data": {
      "text/plain": [
       "array([2, 3, 4])"
      ]
     },
     "execution_count": 53,
     "metadata": {},
     "output_type": "execute_result"
    }
   ],
   "source": [
    "ar1[1:4]"
   ]
  },
  {
   "cell_type": "code",
   "execution_count": 54,
   "id": "b98b82e8",
   "metadata": {},
   "outputs": [
    {
     "data": {
      "text/plain": [
       "array([[ 1,  2,  3,  4],\n",
       "       [ 5,  6,  7,  8],\n",
       "       [ 9, 10, 11, 12],\n",
       "       [13, 14, 15, 16],\n",
       "       [17, 18, 19, 20]])"
      ]
     },
     "execution_count": 54,
     "metadata": {},
     "output_type": "execute_result"
    }
   ],
   "source": [
    "ar5_2D"
   ]
  },
  {
   "cell_type": "code",
   "execution_count": 55,
   "id": "220e2ef9",
   "metadata": {},
   "outputs": [
    {
     "data": {
      "text/plain": [
       "array([6, 7])"
      ]
     },
     "execution_count": 55,
     "metadata": {},
     "output_type": "execute_result"
    }
   ],
   "source": [
    "ar5_2D[1,1:3]"
   ]
  },
  {
   "cell_type": "code",
   "execution_count": 56,
   "id": "e3226a73",
   "metadata": {},
   "outputs": [
    {
     "data": {
      "text/plain": [
       "array([1, 2, 3, 4, 5])"
      ]
     },
     "execution_count": 56,
     "metadata": {},
     "output_type": "execute_result"
    }
   ],
   "source": [
    "ar1"
   ]
  },
  {
   "cell_type": "code",
   "execution_count": 57,
   "id": "70fa6703",
   "metadata": {},
   "outputs": [
    {
     "data": {
      "text/plain": [
       "array([1, 2, 3, 4, 5])"
      ]
     },
     "execution_count": 57,
     "metadata": {},
     "output_type": "execute_result"
    }
   ],
   "source": [
    "ar1[:]"
   ]
  },
  {
   "cell_type": "code",
   "execution_count": 58,
   "id": "de471d05",
   "metadata": {},
   "outputs": [
    {
     "data": {
      "text/plain": [
       "array([ 2,  6, 10, 14, 18])"
      ]
     },
     "execution_count": 58,
     "metadata": {},
     "output_type": "execute_result"
    }
   ],
   "source": [
    "ar5_2D[:,1]"
   ]
  },
  {
   "cell_type": "code",
   "execution_count": 59,
   "id": "c1afc289",
   "metadata": {},
   "outputs": [
    {
     "data": {
      "text/plain": [
       "array([1, 2, 3, 4, 5])"
      ]
     },
     "execution_count": 59,
     "metadata": {},
     "output_type": "execute_result"
    }
   ],
   "source": [
    "ar1"
   ]
  },
  {
   "cell_type": "code",
   "execution_count": 60,
   "id": "624a0fef",
   "metadata": {},
   "outputs": [
    {
     "data": {
      "text/plain": [
       "array([1, 4])"
      ]
     },
     "execution_count": 60,
     "metadata": {},
     "output_type": "execute_result"
    }
   ],
   "source": [
    "ar1[::3]"
   ]
  },
  {
   "cell_type": "code",
   "execution_count": 61,
   "id": "c4ec3b8e",
   "metadata": {},
   "outputs": [
    {
     "data": {
      "text/plain": [
       "array([[ 1,  2,  3,  4],\n",
       "       [ 5,  6,  7,  8],\n",
       "       [ 9, 10, 11, 12],\n",
       "       [13, 14, 15, 16],\n",
       "       [17, 18, 19, 20]])"
      ]
     },
     "execution_count": 61,
     "metadata": {},
     "output_type": "execute_result"
    }
   ],
   "source": [
    "ar5_2D"
   ]
  },
  {
   "cell_type": "code",
   "execution_count": 62,
   "id": "81568ff9",
   "metadata": {},
   "outputs": [
    {
     "data": {
      "text/plain": [
       "array([[ 1,  4],\n",
       "       [ 5,  8],\n",
       "       [ 9, 12],\n",
       "       [13, 16],\n",
       "       [17, 20]])"
      ]
     },
     "execution_count": 62,
     "metadata": {},
     "output_type": "execute_result"
    }
   ],
   "source": [
    "ar5_2D[:,0::3]"
   ]
  },
  {
   "cell_type": "code",
   "execution_count": 63,
   "id": "a0fd21ff",
   "metadata": {},
   "outputs": [
    {
     "data": {
      "text/plain": [
       "array([ 4,  8, 12, 16, 20])"
      ]
     },
     "execution_count": 63,
     "metadata": {},
     "output_type": "execute_result"
    }
   ],
   "source": [
    "ar5_2D[:,3]"
   ]
  },
  {
   "cell_type": "code",
   "execution_count": 64,
   "id": "15282a5e",
   "metadata": {},
   "outputs": [
    {
     "data": {
      "text/plain": [
       "array([[ 1,  2,  3,  4],\n",
       "       [ 5,  6,  7,  8],\n",
       "       [ 9, 10, 11, 12],\n",
       "       [13, 14, 15, 16],\n",
       "       [17, 18, 19, 20]])"
      ]
     },
     "execution_count": 64,
     "metadata": {},
     "output_type": "execute_result"
    }
   ],
   "source": [
    "ar5_2D"
   ]
  },
  {
   "cell_type": "code",
   "execution_count": 65,
   "id": "fc9a39e6",
   "metadata": {},
   "outputs": [
    {
     "data": {
      "text/plain": [
       "array([[17, 18, 19, 20]])"
      ]
     },
     "execution_count": 65,
     "metadata": {},
     "output_type": "execute_result"
    }
   ],
   "source": [
    "# Last row \n",
    "ar5_2D[4::,::]"
   ]
  },
  {
   "cell_type": "code",
   "execution_count": 66,
   "id": "2f989149",
   "metadata": {},
   "outputs": [
    {
     "data": {
      "text/plain": [
       "array([[10, 11],\n",
       "       [14, 15]])"
      ]
     },
     "execution_count": 66,
     "metadata": {},
     "output_type": "execute_result"
    }
   ],
   "source": [
    "# 10,11,14,15\n",
    "ar5_2D[2:4,1:3]"
   ]
  },
  {
   "cell_type": "code",
   "execution_count": 67,
   "id": "29e46168",
   "metadata": {},
   "outputs": [
    {
     "data": {
      "text/plain": [
       "array([[10, 11, 12],\n",
       "       [14, 15, 16]])"
      ]
     },
     "execution_count": 67,
     "metadata": {},
     "output_type": "execute_result"
    }
   ],
   "source": [
    "#10,11,12,13,14,15\n",
    "ar5_2D[2:4,1:4]"
   ]
  },
  {
   "cell_type": "markdown",
   "id": "abe8f4be",
   "metadata": {},
   "source": [
    "## Update"
   ]
  },
  {
   "cell_type": "code",
   "execution_count": 68,
   "id": "01112bcf",
   "metadata": {},
   "outputs": [
    {
     "data": {
      "text/plain": [
       "array([1, 2, 3, 4, 5])"
      ]
     },
     "execution_count": 68,
     "metadata": {},
     "output_type": "execute_result"
    }
   ],
   "source": [
    "ar1"
   ]
  },
  {
   "cell_type": "code",
   "execution_count": 69,
   "id": "3e995cd1",
   "metadata": {},
   "outputs": [],
   "source": [
    "ar1[1]=21"
   ]
  },
  {
   "cell_type": "code",
   "execution_count": 70,
   "id": "57fbd977",
   "metadata": {},
   "outputs": [
    {
     "data": {
      "text/plain": [
       "array([ 1, 21,  3,  4,  5])"
      ]
     },
     "execution_count": 70,
     "metadata": {},
     "output_type": "execute_result"
    }
   ],
   "source": [
    "ar1"
   ]
  },
  {
   "cell_type": "markdown",
   "id": "00eef9bf",
   "metadata": {},
   "source": [
    "## Mathematical operations"
   ]
  },
  {
   "cell_type": "code",
   "execution_count": 71,
   "id": "afdaf7ef",
   "metadata": {},
   "outputs": [
    {
     "data": {
      "text/plain": [
       "array([ 1, 21,  3,  4,  5])"
      ]
     },
     "execution_count": 71,
     "metadata": {},
     "output_type": "execute_result"
    }
   ],
   "source": [
    "ar1"
   ]
  },
  {
   "cell_type": "code",
   "execution_count": 72,
   "id": "3c416a86",
   "metadata": {},
   "outputs": [
    {
     "data": {
      "text/plain": [
       "array([ 6, 26,  8,  9, 10])"
      ]
     },
     "execution_count": 72,
     "metadata": {},
     "output_type": "execute_result"
    }
   ],
   "source": [
    "ar1+5"
   ]
  },
  {
   "cell_type": "code",
   "execution_count": 73,
   "id": "eee5717c",
   "metadata": {},
   "outputs": [
    {
     "data": {
      "text/plain": [
       "array([-4, 16, -2, -1,  0])"
      ]
     },
     "execution_count": 73,
     "metadata": {},
     "output_type": "execute_result"
    }
   ],
   "source": [
    "ar1-5"
   ]
  },
  {
   "cell_type": "code",
   "execution_count": 74,
   "id": "b6718547",
   "metadata": {},
   "outputs": [
    {
     "data": {
      "text/plain": [
       "array([ 3, 63,  9, 12, 15])"
      ]
     },
     "execution_count": 74,
     "metadata": {},
     "output_type": "execute_result"
    }
   ],
   "source": [
    "ar1*3"
   ]
  },
  {
   "cell_type": "code",
   "execution_count": 75,
   "id": "dca221ef",
   "metadata": {},
   "outputs": [
    {
     "data": {
      "text/plain": [
       "array([ 1, 21,  3,  4,  5])"
      ]
     },
     "execution_count": 75,
     "metadata": {},
     "output_type": "execute_result"
    }
   ],
   "source": [
    "ar1"
   ]
  },
  {
   "cell_type": "code",
   "execution_count": 76,
   "id": "3af8ad33",
   "metadata": {},
   "outputs": [
    {
     "data": {
      "text/plain": [
       "array([1, 2, 3, 4, 5])"
      ]
     },
     "execution_count": 76,
     "metadata": {},
     "output_type": "execute_result"
    }
   ],
   "source": [
    "ar2"
   ]
  },
  {
   "cell_type": "code",
   "execution_count": 77,
   "id": "fa269f94",
   "metadata": {},
   "outputs": [
    {
     "data": {
      "text/plain": [
       "array([ 2, 23,  6,  8, 10])"
      ]
     },
     "execution_count": 77,
     "metadata": {},
     "output_type": "execute_result"
    }
   ],
   "source": [
    "ar1+ar2"
   ]
  },
  {
   "cell_type": "code",
   "execution_count": 78,
   "id": "84e3b779",
   "metadata": {},
   "outputs": [
    {
     "data": {
      "text/plain": [
       "array([[ 1,  2,  3,  4],\n",
       "       [ 5,  6,  7,  8],\n",
       "       [ 9, 10, 11, 12],\n",
       "       [13, 14, 15, 16],\n",
       "       [17, 18, 19, 20]])"
      ]
     },
     "execution_count": 78,
     "metadata": {},
     "output_type": "execute_result"
    }
   ],
   "source": [
    "ar5_2D"
   ]
  },
  {
   "cell_type": "code",
   "execution_count": 79,
   "id": "309e66c3",
   "metadata": {},
   "outputs": [
    {
     "data": {
      "text/plain": [
       "array([[ 2,  4,  6,  8],\n",
       "       [10, 12, 14, 16],\n",
       "       [18, 20, 22, 24],\n",
       "       [26, 28, 30, 32],\n",
       "       [34, 36, 38, 40]])"
      ]
     },
     "execution_count": 79,
     "metadata": {},
     "output_type": "execute_result"
    }
   ],
   "source": [
    "ar5_2D*2"
   ]
  },
  {
   "cell_type": "code",
   "execution_count": 80,
   "id": "c4cae1f3",
   "metadata": {},
   "outputs": [
    {
     "data": {
      "text/plain": [
       "array([ 1, 21,  3,  4,  5])"
      ]
     },
     "execution_count": 80,
     "metadata": {},
     "output_type": "execute_result"
    }
   ],
   "source": [
    "ar1"
   ]
  },
  {
   "cell_type": "code",
   "execution_count": 81,
   "id": "ec9e50d7",
   "metadata": {},
   "outputs": [
    {
     "ename": "ValueError",
     "evalue": "operands could not be broadcast together with shapes (5,4) (5,) ",
     "output_type": "error",
     "traceback": [
      "\u001b[1;31m---------------------------------------------------------------------------\u001b[0m",
      "\u001b[1;31mValueError\u001b[0m                                Traceback (most recent call last)",
      "Cell \u001b[1;32mIn[81], line 1\u001b[0m\n\u001b[1;32m----> 1\u001b[0m ar5_2D\u001b[38;5;241m+\u001b[39mar1\n",
      "\u001b[1;31mValueError\u001b[0m: operands could not be broadcast together with shapes (5,4) (5,) "
     ]
    }
   ],
   "source": [
    "ar5_2D+ar1"
   ]
  },
  {
   "cell_type": "code",
   "execution_count": 82,
   "id": "cd8d1f0d",
   "metadata": {},
   "outputs": [],
   "source": [
    "ar7=[1,2,3,4]"
   ]
  },
  {
   "cell_type": "code",
   "execution_count": 83,
   "id": "0cac4f2b",
   "metadata": {},
   "outputs": [
    {
     "data": {
      "text/plain": [
       "array([[ 2,  4,  6,  8],\n",
       "       [ 6,  8, 10, 12],\n",
       "       [10, 12, 14, 16],\n",
       "       [14, 16, 18, 20],\n",
       "       [18, 20, 22, 24]])"
      ]
     },
     "execution_count": 83,
     "metadata": {},
     "output_type": "execute_result"
    }
   ],
   "source": [
    "ar5_2D+ar7"
   ]
  },
  {
   "cell_type": "code",
   "execution_count": 84,
   "id": "190a1fb7",
   "metadata": {},
   "outputs": [
    {
     "data": {
      "text/plain": [
       "34"
      ]
     },
     "execution_count": 84,
     "metadata": {},
     "output_type": "execute_result"
    }
   ],
   "source": [
    "ar1.sum()"
   ]
  },
  {
   "cell_type": "code",
   "execution_count": 85,
   "id": "707aa514",
   "metadata": {},
   "outputs": [
    {
     "data": {
      "text/plain": [
       "array([ 1, 21,  3,  4,  5])"
      ]
     },
     "execution_count": 85,
     "metadata": {},
     "output_type": "execute_result"
    }
   ],
   "source": [
    "ar1"
   ]
  },
  {
   "cell_type": "code",
   "execution_count": 86,
   "id": "00c7fa2f",
   "metadata": {},
   "outputs": [
    {
     "data": {
      "text/plain": [
       "6.8"
      ]
     },
     "execution_count": 86,
     "metadata": {},
     "output_type": "execute_result"
    }
   ],
   "source": [
    "ar1.mean()"
   ]
  },
  {
   "cell_type": "code",
   "execution_count": 87,
   "id": "94d08687",
   "metadata": {},
   "outputs": [
    {
     "data": {
      "text/plain": [
       "1"
      ]
     },
     "execution_count": 87,
     "metadata": {},
     "output_type": "execute_result"
    }
   ],
   "source": [
    "ar1.min()"
   ]
  },
  {
   "cell_type": "code",
   "execution_count": 88,
   "id": "3f282238",
   "metadata": {},
   "outputs": [
    {
     "data": {
      "text/plain": [
       "21"
      ]
     },
     "execution_count": 88,
     "metadata": {},
     "output_type": "execute_result"
    }
   ],
   "source": [
    "ar1.max()"
   ]
  },
  {
   "cell_type": "code",
   "execution_count": 89,
   "id": "0a240de8",
   "metadata": {},
   "outputs": [
    {
     "data": {
      "text/plain": [
       "array([[ 1,  2,  3,  4],\n",
       "       [ 5,  6,  7,  8],\n",
       "       [ 9, 10, 11, 12],\n",
       "       [13, 14, 15, 16],\n",
       "       [17, 18, 19, 20]])"
      ]
     },
     "execution_count": 89,
     "metadata": {},
     "output_type": "execute_result"
    }
   ],
   "source": [
    "ar5_2D"
   ]
  },
  {
   "cell_type": "code",
   "execution_count": 90,
   "id": "465b02bf",
   "metadata": {},
   "outputs": [
    {
     "data": {
      "text/plain": [
       "210"
      ]
     },
     "execution_count": 90,
     "metadata": {},
     "output_type": "execute_result"
    }
   ],
   "source": [
    "ar5_2D.sum()"
   ]
  },
  {
   "cell_type": "code",
   "execution_count": 91,
   "id": "5c80e222",
   "metadata": {},
   "outputs": [
    {
     "data": {
      "text/plain": [
       "60"
      ]
     },
     "execution_count": 91,
     "metadata": {},
     "output_type": "execute_result"
    }
   ],
   "source": [
    "ar5_2D[:,-1].sum()"
   ]
  },
  {
   "cell_type": "code",
   "execution_count": 92,
   "id": "2a73e3e1",
   "metadata": {},
   "outputs": [
    {
     "data": {
      "text/plain": [
       "2.5"
      ]
     },
     "execution_count": 92,
     "metadata": {},
     "output_type": "execute_result"
    }
   ],
   "source": [
    "ar5_2D[0,:].mean()"
   ]
  },
  {
   "cell_type": "code",
   "execution_count": 93,
   "id": "77190a1e",
   "metadata": {},
   "outputs": [
    {
     "data": {
      "text/plain": [
       "array([10, 11, 12, 13, 14, 15, 16, 17, 18, 19, 20])"
      ]
     },
     "execution_count": 93,
     "metadata": {},
     "output_type": "execute_result"
    }
   ],
   "source": [
    "ar5_2D[ar5_2D>=10]"
   ]
  },
  {
   "cell_type": "code",
   "execution_count": 94,
   "id": "ec112928",
   "metadata": {},
   "outputs": [
    {
     "data": {
      "text/plain": [
       "array([10, 11, 12, 13, 14, 15])"
      ]
     },
     "execution_count": 94,
     "metadata": {},
     "output_type": "execute_result"
    }
   ],
   "source": [
    "ar5_2D[(ar5_2D>=10) & (ar5_2D<=15)]"
   ]
  },
  {
   "cell_type": "code",
   "execution_count": 95,
   "id": "b6310795",
   "metadata": {},
   "outputs": [
    {
     "data": {
      "text/plain": [
       "array([ 1,  3,  5,  7,  9, 11, 13, 15, 17, 19])"
      ]
     },
     "execution_count": 95,
     "metadata": {},
     "output_type": "execute_result"
    }
   ],
   "source": [
    "ar5_2D[ar5_2D%2!=0]"
   ]
  },
  {
   "cell_type": "markdown",
   "id": "10b82ff4",
   "metadata": {},
   "source": [
    "## Merging arrays"
   ]
  },
  {
   "cell_type": "code",
   "execution_count": 96,
   "id": "f1190795",
   "metadata": {},
   "outputs": [
    {
     "data": {
      "text/plain": [
       "array([ 1, 21,  3,  4,  5])"
      ]
     },
     "execution_count": 96,
     "metadata": {},
     "output_type": "execute_result"
    }
   ],
   "source": [
    "ar1"
   ]
  },
  {
   "cell_type": "code",
   "execution_count": 97,
   "id": "33b6542e",
   "metadata": {},
   "outputs": [
    {
     "data": {
      "text/plain": [
       "array([1, 2, 3, 4, 5])"
      ]
     },
     "execution_count": 97,
     "metadata": {},
     "output_type": "execute_result"
    }
   ],
   "source": [
    "ar2"
   ]
  },
  {
   "cell_type": "code",
   "execution_count": 98,
   "id": "ad970e6a",
   "metadata": {},
   "outputs": [
    {
     "data": {
      "text/plain": [
       "array([ 1, 21,  3,  4,  5,  1,  2,  3,  4,  5])"
      ]
     },
     "execution_count": 98,
     "metadata": {},
     "output_type": "execute_result"
    }
   ],
   "source": [
    "np.concatenate((ar1,ar2))"
   ]
  },
  {
   "cell_type": "code",
   "execution_count": 99,
   "id": "ee5e7ac7",
   "metadata": {},
   "outputs": [
    {
     "data": {
      "text/plain": [
       "array([ 1, 21,  3,  4,  5,  1,  2,  3,  4,  5])"
      ]
     },
     "execution_count": 99,
     "metadata": {},
     "output_type": "execute_result"
    }
   ],
   "source": [
    "np.concatenate((ar1,ar2))"
   ]
  },
  {
   "cell_type": "code",
   "execution_count": 100,
   "id": "fd7002b9",
   "metadata": {},
   "outputs": [
    {
     "data": {
      "text/plain": [
       "array([[ 1, 21,  3,  4,  5],\n",
       "       [ 1,  2,  3,  4,  5]])"
      ]
     },
     "execution_count": 100,
     "metadata": {},
     "output_type": "execute_result"
    }
   ],
   "source": [
    "np.vstack((ar1,ar2))"
   ]
  },
  {
   "cell_type": "code",
   "execution_count": 101,
   "id": "5c807d4a",
   "metadata": {},
   "outputs": [
    {
     "data": {
      "text/plain": [
       "array([ 1, 21,  3,  4,  5,  1,  2,  3,  4,  5])"
      ]
     },
     "execution_count": 101,
     "metadata": {},
     "output_type": "execute_result"
    }
   ],
   "source": [
    "np.hstack((ar1,ar2))"
   ]
  },
  {
   "cell_type": "code",
   "execution_count": 102,
   "id": "b0d29ed6",
   "metadata": {},
   "outputs": [
    {
     "data": {
      "text/plain": [
       "array([[10, 10, 10],\n",
       "       [10, 10, 10],\n",
       "       [10, 10, 10]])"
      ]
     },
     "execution_count": 102,
     "metadata": {},
     "output_type": "execute_result"
    }
   ],
   "source": [
    "np.full((3,3,),10)"
   ]
  },
  {
   "cell_type": "code",
   "execution_count": 103,
   "id": "a25ca3eb",
   "metadata": {},
   "outputs": [
    {
     "data": {
      "text/plain": [
       "array([[0, 0, 0],\n",
       "       [0, 0, 0],\n",
       "       [0, 0, 0],\n",
       "       [0, 0, 0]])"
      ]
     },
     "execution_count": 103,
     "metadata": {},
     "output_type": "execute_result"
    }
   ],
   "source": [
    "np.zeros((4,3),dtype=int)"
   ]
  },
  {
   "cell_type": "code",
   "execution_count": 104,
   "id": "1263e9c4",
   "metadata": {},
   "outputs": [
    {
     "data": {
      "text/plain": [
       "array([[1., 1., 1.],\n",
       "       [1., 1., 1.],\n",
       "       [1., 1., 1.],\n",
       "       [1., 1., 1.]])"
      ]
     },
     "execution_count": 104,
     "metadata": {},
     "output_type": "execute_result"
    }
   ],
   "source": [
    "np.ones((4,3))"
   ]
  },
  {
   "cell_type": "code",
   "execution_count": 105,
   "id": "b670ffa5",
   "metadata": {},
   "outputs": [],
   "source": [
    "ar10=np.empty((4,4))"
   ]
  },
  {
   "cell_type": "code",
   "execution_count": 106,
   "id": "83788786",
   "metadata": {},
   "outputs": [],
   "source": [
    "ar10.fill(20)"
   ]
  },
  {
   "cell_type": "code",
   "execution_count": 107,
   "id": "7c0f2a02",
   "metadata": {},
   "outputs": [
    {
     "data": {
      "text/plain": [
       "array([[20., 20., 20., 20.],\n",
       "       [20., 20., 20., 20.],\n",
       "       [20., 20., 20., 20.],\n",
       "       [20., 20., 20., 20.]])"
      ]
     },
     "execution_count": 107,
     "metadata": {},
     "output_type": "execute_result"
    }
   ],
   "source": [
    "ar10"
   ]
  },
  {
   "cell_type": "code",
   "execution_count": 108,
   "id": "88d2aa2d",
   "metadata": {},
   "outputs": [
    {
     "data": {
      "text/plain": [
       "array([ 1, 21,  3,  4,  5])"
      ]
     },
     "execution_count": 108,
     "metadata": {},
     "output_type": "execute_result"
    }
   ],
   "source": [
    "ar1"
   ]
  },
  {
   "cell_type": "code",
   "execution_count": 109,
   "id": "dd3c168b",
   "metadata": {},
   "outputs": [
    {
     "data": {
      "text/plain": [
       "array([ 5,  4,  3, 21,  1])"
      ]
     },
     "execution_count": 109,
     "metadata": {},
     "output_type": "execute_result"
    }
   ],
   "source": [
    "# Reversing an array\n",
    "ar1[::-1]"
   ]
  },
  {
   "cell_type": "code",
   "execution_count": 110,
   "id": "b0c175f0",
   "metadata": {},
   "outputs": [
    {
     "data": {
      "text/plain": [
       "array([ 5,  4,  3, 21,  1])"
      ]
     },
     "execution_count": 110,
     "metadata": {},
     "output_type": "execute_result"
    }
   ],
   "source": [
    "np.flip(ar1)"
   ]
  },
  {
   "cell_type": "code",
   "execution_count": 111,
   "id": "55969cdf",
   "metadata": {},
   "outputs": [],
   "source": [
    "# copy method and view method\n",
    "ar10=np.copy(ar1)"
   ]
  },
  {
   "cell_type": "code",
   "execution_count": 112,
   "id": "dc2f7b56",
   "metadata": {},
   "outputs": [],
   "source": [
    "ar11=ar1.view()"
   ]
  },
  {
   "cell_type": "code",
   "execution_count": 113,
   "id": "59818b93",
   "metadata": {},
   "outputs": [
    {
     "data": {
      "text/plain": [
       "array([ 1, 21,  3,  4,  5])"
      ]
     },
     "execution_count": 113,
     "metadata": {},
     "output_type": "execute_result"
    }
   ],
   "source": [
    "ar1"
   ]
  },
  {
   "cell_type": "code",
   "execution_count": 114,
   "id": "edb43d66",
   "metadata": {},
   "outputs": [
    {
     "data": {
      "text/plain": [
       "array([ 1, 21,  3,  4,  5])"
      ]
     },
     "execution_count": 114,
     "metadata": {},
     "output_type": "execute_result"
    }
   ],
   "source": [
    "ar10"
   ]
  },
  {
   "cell_type": "code",
   "execution_count": 115,
   "id": "f5e0b3df",
   "metadata": {},
   "outputs": [
    {
     "data": {
      "text/plain": [
       "array([ 1, 21,  3,  4,  5])"
      ]
     },
     "execution_count": 115,
     "metadata": {},
     "output_type": "execute_result"
    }
   ],
   "source": [
    "ar11"
   ]
  },
  {
   "cell_type": "code",
   "execution_count": 116,
   "id": "46fac477",
   "metadata": {},
   "outputs": [],
   "source": [
    "ar1[1]=15"
   ]
  },
  {
   "cell_type": "code",
   "execution_count": 117,
   "id": "ef3736ec",
   "metadata": {},
   "outputs": [
    {
     "data": {
      "text/plain": [
       "array([ 1, 15,  3,  4,  5])"
      ]
     },
     "execution_count": 117,
     "metadata": {},
     "output_type": "execute_result"
    }
   ],
   "source": [
    "ar1"
   ]
  },
  {
   "cell_type": "code",
   "execution_count": 118,
   "id": "8a4564f2",
   "metadata": {},
   "outputs": [
    {
     "data": {
      "text/plain": [
       "array([ 1, 21,  3,  4,  5])"
      ]
     },
     "execution_count": 118,
     "metadata": {},
     "output_type": "execute_result"
    }
   ],
   "source": [
    "ar10"
   ]
  },
  {
   "cell_type": "code",
   "execution_count": 119,
   "id": "fd0a86fd",
   "metadata": {},
   "outputs": [
    {
     "data": {
      "text/plain": [
       "array([ 1, 15,  3,  4,  5])"
      ]
     },
     "execution_count": 119,
     "metadata": {},
     "output_type": "execute_result"
    }
   ],
   "source": [
    "ar11"
   ]
  },
  {
   "cell_type": "raw",
   "id": "68c7156b",
   "metadata": {},
   "source": [
    "First, the list of weights must be imported into Numpy as an array after being converted from a list. After that, change all of the weights to be in pounds by converting them from kilograms. For the purpose of making your conversion, use the scalar conversion of 2.2 pounds per kilogram. Finally, print the resultant array of weights using the pound measurement.\n",
    "Use following script for reference \n",
    "weight_kg = [81.65, 97.52, 95.25, 92.98, 86.18, 88.45]\n",
    "import numpy as np\n",
    "# Create a numpy array np_weight_kg from weight_kg   \n",
    "# Create np_weight_lbs from np_weight_kg\n",
    "# Print out np_weight_lbs"
   ]
  },
  {
   "cell_type": "code",
   "execution_count": 120,
   "id": "32a1adc5",
   "metadata": {},
   "outputs": [
    {
     "name": "stdout",
     "output_type": "stream",
     "text": [
      "[179.63  214.544 209.55  204.556 189.596 194.59 ]\n"
     ]
    }
   ],
   "source": [
    "# Given list of weights in kilograms\n",
    "weight_kg = [81.65, 97.52, 95.25, 92.98, 86.18, 88.45]\n",
    "# Import Numpy\n",
    "import numpy as np\n",
    "# Create a numpy array np_weight_kg from weight_kg\n",
    "np_weight_kg = np.array(weight_kg)\n",
    "# Create np_weight_lbs from np_weight_kg by converting from kilograms to pounds\n",
    "np_weight_lbs = np_weight_kg * 2.2\n",
    "# Print out np_weight_lbs\n",
    "print(np_weight_lbs)"
   ]
  },
  {
   "cell_type": "raw",
   "id": "4abebd92",
   "metadata": {},
   "source": [
    "Write a NumPy program to reverse an array (first element becomes last).\n",
    "Sample Output \n",
    "Original array:                                                         \n",
    "[12 13 14 15 16 17 18 19 20 ]                                                                                                    Reverse array:                                                          \n",
    "[20 19 18 17 16 15 14 13 12 ]  "
   ]
  },
  {
   "cell_type": "code",
   "execution_count": 121,
   "id": "d499584f",
   "metadata": {},
   "outputs": [
    {
     "name": "stdout",
     "output_type": "stream",
     "text": [
      "Original array:\n",
      "[12 13 14 15 16 17 18 19 20]\n",
      "Reverse array:\n",
      "[20 19 18 17 16 15 14 13 12]\n"
     ]
    }
   ],
   "source": [
    "#method 1\n",
    "import numpy as np\n",
    "# Original array\n",
    "original_array = np.array([12, 13, 14, 15, 16, 17, 18, 19, 20])\n",
    "# Reverse array using slicing with step -1\n",
    "reverse_array = original_array[::-1]\n",
    "# Print the original and reversed arrays\n",
    "print(\"Original array:\")\n",
    "print(original_array)\n",
    "print(\"Reverse array:\")\n",
    "print(reverse_array)\n"
   ]
  },
  {
   "cell_type": "code",
   "execution_count": 122,
   "id": "4a8ee899",
   "metadata": {},
   "outputs": [
    {
     "name": "stdout",
     "output_type": "stream",
     "text": [
      "Original array:\n",
      "[12 13 14 15 16 17 18 19 20]\n",
      "Reverse array:\n",
      "[20 19 18 17 16 15 14 13 12]\n"
     ]
    }
   ],
   "source": [
    "#method 2\n",
    "import numpy as np\n",
    "# Original array\n",
    "original_array = np.array([12, 13, 14, 15, 16, 17, 18, 19, 20])\n",
    "# Reverse array using np.flip()\n",
    "reverse_array = np.flip(original_array)\n",
    "# Print the original and reversed arrays\n",
    "print(\"Original array:\")\n",
    "print(original_array)\n",
    "print(\"Reverse array:\")\n",
    "print(reverse_array)"
   ]
  },
  {
   "cell_type": "code",
   "execution_count": null,
   "id": "14b6ceec",
   "metadata": {},
   "outputs": [],
   "source": []
  }
 ],
 "metadata": {
  "kernelspec": {
   "display_name": "Python 3 (ipykernel)",
   "language": "python",
   "name": "python3"
  },
  "language_info": {
   "codemirror_mode": {
    "name": "ipython",
    "version": 3
   },
   "file_extension": ".py",
   "mimetype": "text/x-python",
   "name": "python",
   "nbconvert_exporter": "python",
   "pygments_lexer": "ipython3",
   "version": "3.11.4"
  }
 },
 "nbformat": 4,
 "nbformat_minor": 5
}
