{
 "cells": [
  {
   "cell_type": "markdown",
   "id": "d49fedde",
   "metadata": {},
   "source": [
    "#                                            Python Basic by Mrittika Megaraj\n"
   ]
  },
  {
   "cell_type": "markdown",
   "id": "b949bd5f",
   "metadata": {},
   "source": [
    "# Introduction to Python"
   ]
  },
  {
   "cell_type": "markdown",
   "id": "e5be27cb",
   "metadata": {},
   "source": [
    "Code : To write codes\n",
    "\n",
    "Markdown : To write formatted text\n",
    "\n",
    "Raw NBConvert : To write unformatted text\n",
    "\n",
    "Jupyter Notebook : One editor where you can write codes, formatted text, unformatted text, create charts and graphs etc\n",
    "\n",
    "Esc + DD : To delet the cell\n",
    "\n",
    "Run the cell : shift + enter\n"
   ]
  },
  {
   "cell_type": "code",
   "execution_count": 5,
   "id": "da60cb73",
   "metadata": {},
   "outputs": [
    {
     "name": "stdout",
     "output_type": "stream",
     "text": [
      "Hello Everyone\n"
     ]
    }
   ],
   "source": [
    "print('Hello Everyone')"
   ]
  },
  {
   "cell_type": "code",
   "execution_count": 6,
   "id": "b716b5e0",
   "metadata": {},
   "outputs": [
    {
     "name": "stdout",
     "output_type": "stream",
     "text": [
      "Hi Today I am learning Python\n"
     ]
    }
   ],
   "source": [
    "print(\"Hi Today I am learning Python\")"
   ]
  },
  {
   "cell_type": "markdown",
   "id": "1e6a0e48",
   "metadata": {},
   "source": [
    "## Variables"
   ]
  },
  {
   "cell_type": "markdown",
   "id": "23cc6b1a",
   "metadata": {},
   "source": [
    "In Python, variables are used to store values that can be referenced and manipulated within a program. Variables in Python are dynamically typed, which means you don't need to explicitly declare their types. Here's an explanation of variables and the commonly used data types in Python:\n",
    "\n",
    "Variable Naming: To create a variable, you need to choose a name that follows certain rules. Variable names can contain letters (a-z, A-Z), digits (0-9), and underscores (_), but they cannot start with a digit. Additionally, Python is case-sensitive, so myVar and myvar would be considered different variables.\n",
    "\n",
    "Assigning Values: To assign a value to a variable, use the assignment operator =. For example:\n",
    "\n",
    "my_var = 10"
   ]
  },
  {
   "cell_type": "markdown",
   "id": "deeb83c5",
   "metadata": {},
   "source": [
    "## Datatypes"
   ]
  },
  {
   "cell_type": "markdown",
   "id": "a259b89a",
   "metadata": {},
   "source": [
    "Str : Any combination of alphabets, numbers and special characters\n",
    "\n",
    "int : whole numbers both positive as well as negative including 0\n",
    "\n",
    "float : decimal numbers\n",
    "\n",
    "Bool : True /False\n",
    "\n",
    "type() function : To check the datatype\n",
    "\n",
    "variables : containers that hold some value"
   ]
  },
  {
   "cell_type": "code",
   "execution_count": 3,
   "id": "7dc89586",
   "metadata": {},
   "outputs": [
    {
     "data": {
      "text/plain": [
       "str"
      ]
     },
     "execution_count": 3,
     "metadata": {},
     "output_type": "execute_result"
    }
   ],
   "source": [
    "type(\"Hello\")"
   ]
  },
  {
   "cell_type": "code",
   "execution_count": 4,
   "id": "83537e8a",
   "metadata": {},
   "outputs": [
    {
     "data": {
      "text/plain": [
       "int"
      ]
     },
     "execution_count": 4,
     "metadata": {},
     "output_type": "execute_result"
    }
   ],
   "source": [
    "type(123)"
   ]
  },
  {
   "cell_type": "code",
   "execution_count": 5,
   "id": "10dafdcd",
   "metadata": {},
   "outputs": [
    {
     "data": {
      "text/plain": [
       "float"
      ]
     },
     "execution_count": 5,
     "metadata": {},
     "output_type": "execute_result"
    }
   ],
   "source": [
    "type(12.34)"
   ]
  },
  {
   "cell_type": "code",
   "execution_count": 6,
   "id": "55e77dfa",
   "metadata": {},
   "outputs": [
    {
     "data": {
      "text/plain": [
       "bool"
      ]
     },
     "execution_count": 6,
     "metadata": {},
     "output_type": "execute_result"
    }
   ],
   "source": [
    "type(True)"
   ]
  },
  {
   "cell_type": "code",
   "execution_count": 7,
   "id": "528706a2",
   "metadata": {},
   "outputs": [
    {
     "data": {
      "text/plain": [
       "str"
      ]
     },
     "execution_count": 7,
     "metadata": {},
     "output_type": "execute_result"
    }
   ],
   "source": [
    "type(\"123.45\")"
   ]
  },
  {
   "cell_type": "code",
   "execution_count": 8,
   "id": "bb8de473",
   "metadata": {},
   "outputs": [
    {
     "data": {
      "text/plain": [
       "str"
      ]
     },
     "execution_count": 8,
     "metadata": {},
     "output_type": "execute_result"
    }
   ],
   "source": [
    "type(\"true\")"
   ]
  },
  {
   "cell_type": "code",
   "execution_count": 9,
   "id": "686ea071",
   "metadata": {},
   "outputs": [],
   "source": [
    "x=10"
   ]
  },
  {
   "cell_type": "code",
   "execution_count": 10,
   "id": "feccda8e",
   "metadata": {},
   "outputs": [
    {
     "data": {
      "text/plain": [
       "10"
      ]
     },
     "execution_count": 10,
     "metadata": {},
     "output_type": "execute_result"
    }
   ],
   "source": [
    "x"
   ]
  },
  {
   "cell_type": "code",
   "execution_count": 11,
   "id": "4428ea40",
   "metadata": {},
   "outputs": [
    {
     "data": {
      "text/plain": [
       "int"
      ]
     },
     "execution_count": 11,
     "metadata": {},
     "output_type": "execute_result"
    }
   ],
   "source": [
    "type(x)"
   ]
  },
  {
   "cell_type": "code",
   "execution_count": 12,
   "id": "6dc9204f",
   "metadata": {},
   "outputs": [],
   "source": [
    "student_name=\"John\""
   ]
  },
  {
   "cell_type": "code",
   "execution_count": 13,
   "id": "d1e577c3",
   "metadata": {},
   "outputs": [
    {
     "data": {
      "text/plain": [
       "str"
      ]
     },
     "execution_count": 13,
     "metadata": {},
     "output_type": "execute_result"
    }
   ],
   "source": [
    "type(student_name)"
   ]
  },
  {
   "cell_type": "code",
   "execution_count": 14,
   "id": "089cbbd8",
   "metadata": {},
   "outputs": [
    {
     "name": "stdout",
     "output_type": "stream",
     "text": [
      "Student name is  John\n"
     ]
    }
   ],
   "source": [
    "print(\"Student name is \",student_name)"
   ]
  },
  {
   "cell_type": "markdown",
   "id": "a26a2c64",
   "metadata": {},
   "source": [
    "## Operators"
   ]
  },
  {
   "cell_type": "markdown",
   "id": "cc4c6efe",
   "metadata": {},
   "source": [
    "Arithmatic operators : +,-,/,*,%(modulus),** \n",
    "\n",
    "Relational operators/Comparison operator : >,>=,<,<=,==,!=\n",
    "\n",
    "Assignment operator : =\n",
    "\n",
    "Increment/Decrement operator : +=,-=\n"
   ]
  },
  {
   "cell_type": "code",
   "execution_count": 15,
   "id": "2b97f334",
   "metadata": {},
   "outputs": [
    {
     "data": {
      "text/plain": [
       "2.4"
      ]
     },
     "execution_count": 15,
     "metadata": {},
     "output_type": "execute_result"
    }
   ],
   "source": [
    "12/5"
   ]
  },
  {
   "cell_type": "code",
   "execution_count": 16,
   "id": "08ee8536",
   "metadata": {},
   "outputs": [
    {
     "data": {
      "text/plain": [
       "2"
      ]
     },
     "execution_count": 16,
     "metadata": {},
     "output_type": "execute_result"
    }
   ],
   "source": [
    "12%5"
   ]
  },
  {
   "cell_type": "code",
   "execution_count": 17,
   "id": "97439cac",
   "metadata": {},
   "outputs": [
    {
     "data": {
      "text/plain": [
       "125"
      ]
     },
     "execution_count": 17,
     "metadata": {},
     "output_type": "execute_result"
    }
   ],
   "source": [
    "5**3"
   ]
  },
  {
   "cell_type": "code",
   "execution_count": 18,
   "id": "52b02a08",
   "metadata": {},
   "outputs": [
    {
     "data": {
      "text/plain": [
       "False"
      ]
     },
     "execution_count": 18,
     "metadata": {},
     "output_type": "execute_result"
    }
   ],
   "source": [
    "2==5"
   ]
  },
  {
   "cell_type": "code",
   "execution_count": 19,
   "id": "46bb845f",
   "metadata": {},
   "outputs": [],
   "source": [
    "Age=25"
   ]
  },
  {
   "cell_type": "code",
   "execution_count": 20,
   "id": "d8c24431",
   "metadata": {},
   "outputs": [
    {
     "data": {
      "text/plain": [
       "25"
      ]
     },
     "execution_count": 20,
     "metadata": {},
     "output_type": "execute_result"
    }
   ],
   "source": [
    "Age"
   ]
  },
  {
   "cell_type": "code",
   "execution_count": 21,
   "id": "e8f14a51",
   "metadata": {},
   "outputs": [],
   "source": [
    "Age-=5"
   ]
  },
  {
   "cell_type": "code",
   "execution_count": 22,
   "id": "c622a699",
   "metadata": {},
   "outputs": [],
   "source": [
    "Age-=1"
   ]
  },
  {
   "cell_type": "code",
   "execution_count": 23,
   "id": "8d814fff",
   "metadata": {},
   "outputs": [
    {
     "data": {
      "text/plain": [
       "19"
      ]
     },
     "execution_count": 23,
     "metadata": {},
     "output_type": "execute_result"
    }
   ],
   "source": [
    "Age"
   ]
  },
  {
   "cell_type": "markdown",
   "id": "0fdedc9e",
   "metadata": {},
   "source": [
    "input () function : To accept values from users\n",
    "\n",
    "No matter what user enter, it will be always stored as string\n",
    "\n",
    "Casting function : int() : It will convert the string to integer"
   ]
  },
  {
   "cell_type": "code",
   "execution_count": 24,
   "id": "a821b58e",
   "metadata": {},
   "outputs": [
    {
     "name": "stdout",
     "output_type": "stream",
     "text": [
      "Please enter your nameMrittika\n",
      "Your name is Mrittika\n"
     ]
    }
   ],
   "source": [
    "student_name=input(\"Please enter your name\")\n",
    "print(\"Your name is\",student_name)"
   ]
  },
  {
   "cell_type": "code",
   "execution_count": 25,
   "id": "71c16cba",
   "metadata": {},
   "outputs": [
    {
     "name": "stdout",
     "output_type": "stream",
     "text": [
      "Please enter your age21\n",
      "Your age is 21\n"
     ]
    }
   ],
   "source": [
    "Age=int(input(\"Please enter your age\"))\n",
    "print(\"Your age is\",Age)"
   ]
  },
  {
   "cell_type": "code",
   "execution_count": 26,
   "id": "9db08fe8",
   "metadata": {},
   "outputs": [
    {
     "data": {
      "text/plain": [
       "str"
      ]
     },
     "execution_count": 26,
     "metadata": {},
     "output_type": "execute_result"
    }
   ],
   "source": [
    "type(student_name)"
   ]
  },
  {
   "cell_type": "code",
   "execution_count": 27,
   "id": "11f70625",
   "metadata": {},
   "outputs": [
    {
     "data": {
      "text/plain": [
       "int"
      ]
     },
     "execution_count": 27,
     "metadata": {},
     "output_type": "execute_result"
    }
   ],
   "source": [
    "type(Age)"
   ]
  },
  {
   "cell_type": "markdown",
   "id": "729ebad8",
   "metadata": {},
   "source": [
    "# Conditionals"
   ]
  },
  {
   "cell_type": "markdown",
   "id": "fa535248",
   "metadata": {},
   "source": [
    "if else statement : Conditional \n",
    "\n",
    "if condtion\n",
    "\n",
    "else\n",
    "\n",
    "nested if\n",
    "\n",
    "elif : To check multiple conditions"
   ]
  },
  {
   "cell_type": "code",
   "execution_count": 28,
   "id": "6e007cd3",
   "metadata": {},
   "outputs": [
    {
     "name": "stdout",
     "output_type": "stream",
     "text": [
      "Please enter your age21\n",
      "You are eligible to vote\n"
     ]
    }
   ],
   "source": [
    "# program to check voting eligibility\n",
    "age=int(input(\"Please enter your age\"))\n",
    "if age>=21:\n",
    "    print(\"You are eligible to vote\")\n",
    "else:\n",
    "    print(\"You are not eligible to vote\")"
   ]
  },
  {
   "cell_type": "code",
   "execution_count": 29,
   "id": "b6374f02",
   "metadata": {},
   "outputs": [
    {
     "name": "stdout",
     "output_type": "stream",
     "text": [
      "Please enter your age14\n",
      "You are not eligible to vote\n"
     ]
    }
   ],
   "source": [
    "age=input(\"Please enter your age\")\n",
    "if age.isdigit():\n",
    "    if int(age)>=21:\n",
    "        print(\"You are eligible to vote\")\n",
    "    else:\n",
    "        print(\"You are not eligible to vote\")\n",
    "else :\n",
    "    print(\"Invalid input\")\n",
    "    \n",
    "    "
   ]
  },
  {
   "cell_type": "code",
   "execution_count": 30,
   "id": "8d309c87",
   "metadata": {},
   "outputs": [
    {
     "name": "stdout",
     "output_type": "stream",
     "text": [
      "Please enter your marks90\n",
      "Your Grade is A\n"
     ]
    }
   ],
   "source": [
    "# program to assign a grade on the basis of marks\n",
    "marks=int(input(\"Please enter your marks\"))\n",
    "if marks>=90:\n",
    "    print(\"Your Grade is A\")\n",
    "elif marks>=80:\n",
    "    print(\"Your Grade is B\")\n",
    "elif marks>=70:\n",
    "    print(\"Your Grade is C\")\n",
    "else:\n",
    "    print(\"Your Grade is D\")"
   ]
  },
  {
   "cell_type": "markdown",
   "id": "405612df",
   "metadata": {},
   "source": [
    "# Loops"
   ]
  },
  {
   "cell_type": "markdown",
   "id": "39a6dcb5",
   "metadata": {},
   "source": [
    "While loop\n",
    "\n",
    "break : To terminate the loop\n",
    "\n",
    "for loop"
   ]
  },
  {
   "cell_type": "code",
   "execution_count": 31,
   "id": "a8594a3d",
   "metadata": {},
   "outputs": [
    {
     "name": "stdout",
     "output_type": "stream",
     "text": [
      "1\n",
      "2\n",
      "3\n",
      "4\n",
      "5\n",
      "6\n",
      "7\n",
      "8\n",
      "9\n",
      "10\n"
     ]
    }
   ],
   "source": [
    "# program to print numbers from 1 to 10\n",
    "x=1\n",
    "while x<=10:\n",
    "    print(x)\n",
    "    x+=1"
   ]
  },
  {
   "cell_type": "code",
   "execution_count": 32,
   "id": "93d9a19b",
   "metadata": {},
   "outputs": [
    {
     "name": "stdout",
     "output_type": "stream",
     "text": [
      "Please enter a no between 1 and 1010\n",
      "Please enter a no between 1 and 1010\n",
      "Please enter a no between 1 and 105\n"
     ]
    }
   ],
   "source": [
    "# Program to guess a correct no\n",
    "correct_no =7\n",
    "x=1\n",
    "while x<=3:\n",
    "    num=int(input(\"Please enter a no between 1 and 10\"))\n",
    "    if num==correct_no:\n",
    "        print(\"Congratulations !! You have won a jackpot\")\n",
    "        break\n",
    "    else:\n",
    "        x+=1"
   ]
  },
  {
   "cell_type": "code",
   "execution_count": 33,
   "id": "cf5dc6e2",
   "metadata": {},
   "outputs": [
    {
     "name": "stdout",
     "output_type": "stream",
     "text": [
      "Please enter a wordMrittika\n",
      "No of vowels are 3\n",
      "No of consonants are 5\n"
     ]
    }
   ],
   "source": [
    "# Program to count no of vowels and consonants in the word\n",
    "word=input(\"Please enter a word\")\n",
    "vowel=0\n",
    "consonants=0\n",
    "for i in word:\n",
    "    if i in (\"a\",\"e\",\"i\",\"o\",\"u\"):\n",
    "        vowel+=1\n",
    "    else:\n",
    "        consonants+=1\n",
    "print(\"No of vowels are\",vowel)\n",
    "print(\"No of consonants are\",consonants)\n",
    "        \n",
    "    \n"
   ]
  },
  {
   "cell_type": "markdown",
   "id": "ce506059",
   "metadata": {},
   "source": [
    "## String Slicing"
   ]
  },
  {
   "cell_type": "markdown",
   "id": "b5a47a82",
   "metadata": {},
   "source": [
    "Positive Index : 0\n",
    ",Negative Index : -1\n",
    ".String slicing : string[start:Stop:Step]\n",
    ".it stop at stop -1 index\n",
    ".default start index : 0\n",
    ",default stop index : last index\n",
    ",default step : 1"
   ]
  },
  {
   "cell_type": "code",
   "execution_count": 34,
   "id": "133d4b4c",
   "metadata": {},
   "outputs": [],
   "source": [
    "word=\"Acknowledgement\""
   ]
  },
  {
   "cell_type": "code",
   "execution_count": 35,
   "id": "af713324",
   "metadata": {},
   "outputs": [
    {
     "data": {
      "text/plain": [
       "'c'"
      ]
     },
     "execution_count": 35,
     "metadata": {},
     "output_type": "execute_result"
    }
   ],
   "source": [
    "word[1]"
   ]
  },
  {
   "cell_type": "code",
   "execution_count": 36,
   "id": "179616f3",
   "metadata": {},
   "outputs": [
    {
     "data": {
      "text/plain": [
       "'n'"
      ]
     },
     "execution_count": 36,
     "metadata": {},
     "output_type": "execute_result"
    }
   ],
   "source": [
    "word[-2]"
   ]
  },
  {
   "cell_type": "code",
   "execution_count": 37,
   "id": "05dcc9a3",
   "metadata": {},
   "outputs": [
    {
     "data": {
      "text/plain": [
       "'Ackn'"
      ]
     },
     "execution_count": 37,
     "metadata": {},
     "output_type": "execute_result"
    }
   ],
   "source": [
    "word[0:4]"
   ]
  },
  {
   "cell_type": "code",
   "execution_count": 38,
   "id": "52b48f67",
   "metadata": {},
   "outputs": [
    {
     "data": {
      "text/plain": [
       "'nowle'"
      ]
     },
     "execution_count": 38,
     "metadata": {},
     "output_type": "execute_result"
    }
   ],
   "source": [
    "word[3:8]"
   ]
  },
  {
   "cell_type": "code",
   "execution_count": 39,
   "id": "09ca0ad7",
   "metadata": {},
   "outputs": [
    {
     "data": {
      "text/plain": [
       "'Ackn'"
      ]
     },
     "execution_count": 39,
     "metadata": {},
     "output_type": "execute_result"
    }
   ],
   "source": [
    "word[:4]"
   ]
  },
  {
   "cell_type": "code",
   "execution_count": 40,
   "id": "99210039",
   "metadata": {},
   "outputs": [
    {
     "data": {
      "text/plain": [
       "'nowledgement'"
      ]
     },
     "execution_count": 40,
     "metadata": {},
     "output_type": "execute_result"
    }
   ],
   "source": [
    "word[3:]"
   ]
  },
  {
   "cell_type": "code",
   "execution_count": 41,
   "id": "d3fcec5c",
   "metadata": {},
   "outputs": [
    {
     "data": {
      "text/plain": [
       "'Acknowledgement'"
      ]
     },
     "execution_count": 41,
     "metadata": {},
     "output_type": "execute_result"
    }
   ],
   "source": [
    "word[:]"
   ]
  },
  {
   "cell_type": "code",
   "execution_count": 42,
   "id": "d7841bb0",
   "metadata": {},
   "outputs": [
    {
     "data": {
      "text/plain": [
       "'Akoldeet'"
      ]
     },
     "execution_count": 42,
     "metadata": {},
     "output_type": "execute_result"
    }
   ],
   "source": [
    "word[::2]"
   ]
  },
  {
   "cell_type": "code",
   "execution_count": 43,
   "id": "fd06e1c3",
   "metadata": {},
   "outputs": [
    {
     "data": {
      "text/plain": [
       "'tnemegdelwonkcA'"
      ]
     },
     "execution_count": 43,
     "metadata": {},
     "output_type": "execute_result"
    }
   ],
   "source": [
    "word[::-1]"
   ]
  },
  {
   "cell_type": "markdown",
   "id": "f218f10f",
   "metadata": {},
   "source": [
    "## Importing a file"
   ]
  },
  {
   "cell_type": "code",
   "execution_count": 44,
   "id": "a172e016",
   "metadata": {},
   "outputs": [
    {
     "name": "stderr",
     "output_type": "stream",
     "text": [
      "  % Total    % Received % Xferd  Average Speed   Time    Time     Time  Current\n",
      "                                 Dload  Upload   Total   Spent    Left  Speed\n",
      "\n",
      "  0     0    0     0    0     0      0      0 --:--:-- --:--:-- --:--:--     0\n",
      "100    56  100    56    0     0    125      0 --:--:-- --:--:-- --:--:--   126\n"
     ]
    }
   ],
   "source": [
    "!curl https://raw.githubusercontent.com/MicrosoftLearning/intropython/master/poem1.txt -o poem1.txt"
   ]
  },
  {
   "cell_type": "raw",
   "id": "f448f239",
   "metadata": {},
   "source": [
    "Opening a Local File in read mode\n",
    "poem_file = open('poem1.txt', 'r') \n",
    "Read mode 'r'\n",
    "MODE and Description\n",
    "'r'-read only mode\n",
    "'w'-write - overwrites file with same name\n",
    "'r+'-read and write mode\n",
    "'a'-opens for appending to end of file\n",
    "open() creates an object that can be addressed in python code"
   ]
  },
  {
   "cell_type": "code",
   "execution_count": 45,
   "id": "4c57ea80",
   "metadata": {},
   "outputs": [],
   "source": [
    "poem=open('poem1.txt','r')"
   ]
  },
  {
   "cell_type": "code",
   "execution_count": 46,
   "id": "b923f5da",
   "metadata": {},
   "outputs": [],
   "source": [
    "poem_read=poem.readlines()"
   ]
  },
  {
   "cell_type": "code",
   "execution_count": 47,
   "id": "b955088b",
   "metadata": {},
   "outputs": [
    {
     "data": {
      "text/plain": [
       "list"
      ]
     },
     "execution_count": 47,
     "metadata": {},
     "output_type": "execute_result"
    }
   ],
   "source": [
    "type(poem_read)"
   ]
  },
  {
   "cell_type": "code",
   "execution_count": 48,
   "id": "734ddb09",
   "metadata": {},
   "outputs": [
    {
     "name": "stdout",
     "output_type": "stream",
     "text": [
      "<_io.TextIOWrapper name='poem1.txt' mode='r' encoding='cp1252'>\n"
     ]
    }
   ],
   "source": [
    "print(poem)"
   ]
  },
  {
   "cell_type": "code",
   "execution_count": 49,
   "id": "9ed4e35a",
   "metadata": {},
   "outputs": [
    {
     "name": "stdout",
     "output_type": "stream",
     "text": [
      "['Loops I repeat\\n', 'loops\\n', 'loops\\n', 'loops\\n', 'I repeat\\n', 'until I\\n', 'break\\n']\n"
     ]
    }
   ],
   "source": [
    "print(poem_read)"
   ]
  },
  {
   "cell_type": "code",
   "execution_count": 50,
   "id": "4f10cdc1",
   "metadata": {},
   "outputs": [],
   "source": [
    "poem.close()"
   ]
  },
  {
   "cell_type": "code",
   "execution_count": 51,
   "id": "754cf6eb",
   "metadata": {},
   "outputs": [
    {
     "name": "stdout",
     "output_type": "stream",
     "text": [
      "Loops I repeat\n",
      "\n",
      "loops\n",
      "\n",
      "loops\n",
      "\n",
      "loops\n",
      "\n",
      "I repeat\n",
      "\n",
      "until I\n",
      "\n",
      "break\n",
      "\n"
     ]
    }
   ],
   "source": [
    "for i in poem_read:\n",
    "    print(i)"
   ]
  },
  {
   "cell_type": "code",
   "execution_count": 52,
   "id": "43135317",
   "metadata": {},
   "outputs": [
    {
     "name": "stdout",
     "output_type": "stream",
     "text": [
      "Roses are red,\n",
      "Violets are blue.\n"
     ]
    }
   ],
   "source": [
    "# [ ] define and call a function short_rhyme() that prints a 2 line rhyme\n",
    "def short_rhyme():\n",
    "    print(\"Roses are red,\")\n",
    "    print(\"Violets are blue.\")\n",
    "\n",
    "# Call the function\n",
    "short_rhyme()\n"
   ]
  },
  {
   "cell_type": "raw",
   "id": "7325803d",
   "metadata": {},
   "source": [
    "# [ ] define (def) a simple function: title_it() and call the function\n",
    "# - has a string parameter: msg\n",
    "# - prints msg in Title Case"
   ]
  },
  {
   "cell_type": "code",
   "execution_count": 54,
   "id": "0d330619",
   "metadata": {},
   "outputs": [
    {
     "name": "stdout",
     "output_type": "stream",
     "text": [
      "Hello, World!\n"
     ]
    }
   ],
   "source": [
    "def title_it(msg):\n",
    "    print(msg.title())\n",
    "\n",
    "# Call the function\n",
    "message = \"hello, world!\"\n",
    "title_it(message)\n"
   ]
  },
  {
   "cell_type": "raw",
   "id": "0cc13670",
   "metadata": {},
   "source": [
    "# [ ] get user input with prompt \"what is the title?\" \n",
    "# [ ] call title_it() using input for the string argument"
   ]
  },
  {
   "cell_type": "code",
   "execution_count": 55,
   "id": "b905ef22",
   "metadata": {},
   "outputs": [
    {
     "name": "stdout",
     "output_type": "stream",
     "text": [
      "What is the title? sherlock holmes\n",
      "Sherlock Holmes\n"
     ]
    }
   ],
   "source": [
    "def title_it(msg):\n",
    "    print(msg.title())\n",
    "\n",
    "# Get user input\n",
    "user_input = input(\"What is the title? \")\n",
    "\n",
    "# Call the function using user input\n",
    "title_it(user_input)\n"
   ]
  },
  {
   "cell_type": "raw",
   "id": "07e3f3fd",
   "metadata": {},
   "source": [
    "# [ ] define title_it_rtn() which returns a titled string instead of printing\n",
    "# [ ] call title_it_rtn() using input for the string argument and print the result"
   ]
  },
  {
   "cell_type": "code",
   "execution_count": 56,
   "id": "5360b602",
   "metadata": {},
   "outputs": [
    {
     "name": "stdout",
     "output_type": "stream",
     "text": [
      "What is the title? sherlock holmes\n",
      "Sherlock Holmes\n"
     ]
    }
   ],
   "source": [
    "def title_it_rtn(msg):\n",
    "    return msg.title()\n",
    "\n",
    "# Get user input\n",
    "user_input = input(\"What is the title? \")\n",
    "\n",
    "# Call the function and print the result\n",
    "result = title_it_rtn(user_input)\n",
    "print(result)\n"
   ]
  },
  {
   "cell_type": "code",
   "execution_count": null,
   "id": "71fc960f",
   "metadata": {},
   "outputs": [],
   "source": []
  }
 ],
 "metadata": {
  "kernelspec": {
   "display_name": "Python 3 (ipykernel)",
   "language": "python",
   "name": "python3"
  },
  "language_info": {
   "codemirror_mode": {
    "name": "ipython",
    "version": 3
   },
   "file_extension": ".py",
   "mimetype": "text/x-python",
   "name": "python",
   "nbconvert_exporter": "python",
   "pygments_lexer": "ipython3",
   "version": "3.11.4"
  }
 },
 "nbformat": 4,
 "nbformat_minor": 5
}
