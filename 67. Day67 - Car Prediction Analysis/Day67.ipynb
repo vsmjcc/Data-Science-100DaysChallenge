{
 "cells": [
  {
   "cell_type": "raw",
   "id": "12fdae6c",
   "metadata": {},
   "source": [
    "Task 1: Data Loading and Initial Exploration\n",
    "1.1 Import necessary libraries including datetime, numpy, pandas, matplotlib, seaborn, and sklearn."
   ]
  },
  {
   "cell_type": "code",
   "execution_count": 1,
   "id": "9a87f69f",
   "metadata": {},
   "outputs": [],
   "source": [
    "import pandas as pd\n",
    "import numpy as np\n",
    "import matplotlib.pyplot as plt\n",
    "import seaborn as sns"
   ]
  },
  {
   "cell_type": "raw",
   "id": "8a88ab3a",
   "metadata": {},
   "source": [
    "1.2 Read the used car dataset from the provided CSV file."
   ]
  },
  {
   "cell_type": "code",
   "execution_count": 2,
   "id": "0de106d8",
   "metadata": {},
   "outputs": [],
   "source": [
    "data=pd.read_csv(\"car.csv\")"
   ]
  },
  {
   "cell_type": "raw",
   "id": "e7294929",
   "metadata": {},
   "source": [
    "1.3 Display the first 5 rows of the dataset to get an initial overview."
   ]
  },
  {
   "cell_type": "code",
   "execution_count": 3,
   "id": "10360acf",
   "metadata": {},
   "outputs": [
    {
     "data": {
      "text/html": [
       "<div>\n",
       "<style scoped>\n",
       "    .dataframe tbody tr th:only-of-type {\n",
       "        vertical-align: middle;\n",
       "    }\n",
       "\n",
       "    .dataframe tbody tr th {\n",
       "        vertical-align: top;\n",
       "    }\n",
       "\n",
       "    .dataframe thead th {\n",
       "        text-align: right;\n",
       "    }\n",
       "</style>\n",
       "<table border=\"1\" class=\"dataframe\">\n",
       "  <thead>\n",
       "    <tr style=\"text-align: right;\">\n",
       "      <th></th>\n",
       "      <th>Unnamed: 0</th>\n",
       "      <th>Name</th>\n",
       "      <th>Location</th>\n",
       "      <th>Year</th>\n",
       "      <th>Kilometers_Driven</th>\n",
       "      <th>Fuel_Type</th>\n",
       "      <th>Transmission</th>\n",
       "      <th>Owner_Type</th>\n",
       "      <th>Mileage</th>\n",
       "      <th>Engine</th>\n",
       "      <th>Power</th>\n",
       "      <th>Seats</th>\n",
       "      <th>New_Price</th>\n",
       "      <th>Price</th>\n",
       "    </tr>\n",
       "  </thead>\n",
       "  <tbody>\n",
       "    <tr>\n",
       "      <th>0</th>\n",
       "      <td>0</td>\n",
       "      <td>Maruti Wagon R LXI CNG</td>\n",
       "      <td>Mumbai</td>\n",
       "      <td>2010</td>\n",
       "      <td>72000</td>\n",
       "      <td>CNG</td>\n",
       "      <td>Manual</td>\n",
       "      <td>First</td>\n",
       "      <td>26.6 km/kg</td>\n",
       "      <td>998 CC</td>\n",
       "      <td>58.16 bhp</td>\n",
       "      <td>5.0</td>\n",
       "      <td>NaN</td>\n",
       "      <td>1.75</td>\n",
       "    </tr>\n",
       "    <tr>\n",
       "      <th>1</th>\n",
       "      <td>1</td>\n",
       "      <td>Hyundai Creta 1.6 CRDi SX Option</td>\n",
       "      <td>Pune</td>\n",
       "      <td>2015</td>\n",
       "      <td>41000</td>\n",
       "      <td>Diesel</td>\n",
       "      <td>Manual</td>\n",
       "      <td>First</td>\n",
       "      <td>19.67 kmpl</td>\n",
       "      <td>1582 CC</td>\n",
       "      <td>126.2 bhp</td>\n",
       "      <td>5.0</td>\n",
       "      <td>NaN</td>\n",
       "      <td>12.50</td>\n",
       "    </tr>\n",
       "    <tr>\n",
       "      <th>2</th>\n",
       "      <td>2</td>\n",
       "      <td>Honda Jazz V</td>\n",
       "      <td>Chennai</td>\n",
       "      <td>2011</td>\n",
       "      <td>46000</td>\n",
       "      <td>Petrol</td>\n",
       "      <td>Manual</td>\n",
       "      <td>First</td>\n",
       "      <td>18.2 kmpl</td>\n",
       "      <td>1199 CC</td>\n",
       "      <td>88.7 bhp</td>\n",
       "      <td>5.0</td>\n",
       "      <td>8.61 Lakh</td>\n",
       "      <td>4.50</td>\n",
       "    </tr>\n",
       "    <tr>\n",
       "      <th>3</th>\n",
       "      <td>3</td>\n",
       "      <td>Maruti Ertiga VDI</td>\n",
       "      <td>Chennai</td>\n",
       "      <td>2012</td>\n",
       "      <td>87000</td>\n",
       "      <td>Diesel</td>\n",
       "      <td>Manual</td>\n",
       "      <td>First</td>\n",
       "      <td>20.77 kmpl</td>\n",
       "      <td>1248 CC</td>\n",
       "      <td>88.76 bhp</td>\n",
       "      <td>7.0</td>\n",
       "      <td>NaN</td>\n",
       "      <td>6.00</td>\n",
       "    </tr>\n",
       "    <tr>\n",
       "      <th>4</th>\n",
       "      <td>4</td>\n",
       "      <td>Audi A4 New 2.0 TDI Multitronic</td>\n",
       "      <td>Coimbatore</td>\n",
       "      <td>2013</td>\n",
       "      <td>40670</td>\n",
       "      <td>Diesel</td>\n",
       "      <td>Automatic</td>\n",
       "      <td>Second</td>\n",
       "      <td>15.2 kmpl</td>\n",
       "      <td>1968 CC</td>\n",
       "      <td>140.8 bhp</td>\n",
       "      <td>5.0</td>\n",
       "      <td>NaN</td>\n",
       "      <td>17.74</td>\n",
       "    </tr>\n",
       "  </tbody>\n",
       "</table>\n",
       "</div>"
      ],
      "text/plain": [
       "   Unnamed: 0                              Name    Location  Year  \\\n",
       "0           0            Maruti Wagon R LXI CNG      Mumbai  2010   \n",
       "1           1  Hyundai Creta 1.6 CRDi SX Option        Pune  2015   \n",
       "2           2                      Honda Jazz V     Chennai  2011   \n",
       "3           3                 Maruti Ertiga VDI     Chennai  2012   \n",
       "4           4   Audi A4 New 2.0 TDI Multitronic  Coimbatore  2013   \n",
       "\n",
       "   Kilometers_Driven Fuel_Type Transmission Owner_Type     Mileage   Engine  \\\n",
       "0              72000       CNG       Manual      First  26.6 km/kg   998 CC   \n",
       "1              41000    Diesel       Manual      First  19.67 kmpl  1582 CC   \n",
       "2              46000    Petrol       Manual      First   18.2 kmpl  1199 CC   \n",
       "3              87000    Diesel       Manual      First  20.77 kmpl  1248 CC   \n",
       "4              40670    Diesel    Automatic     Second   15.2 kmpl  1968 CC   \n",
       "\n",
       "       Power  Seats  New_Price  Price  \n",
       "0  58.16 bhp    5.0        NaN   1.75  \n",
       "1  126.2 bhp    5.0        NaN  12.50  \n",
       "2   88.7 bhp    5.0  8.61 Lakh   4.50  \n",
       "3  88.76 bhp    7.0        NaN   6.00  \n",
       "4  140.8 bhp    5.0        NaN  17.74  "
      ]
     },
     "execution_count": 3,
     "metadata": {},
     "output_type": "execute_result"
    }
   ],
   "source": [
    "data.head()"
   ]
  },
  {
   "cell_type": "raw",
   "id": "959ac064",
   "metadata": {},
   "source": [
    "2.2 Display basic information about the training set using the info method."
   ]
  },
  {
   "cell_type": "code",
   "execution_count": 4,
   "id": "c40e606b",
   "metadata": {},
   "outputs": [
    {
     "name": "stdout",
     "output_type": "stream",
     "text": [
      "<class 'pandas.core.frame.DataFrame'>\n",
      "RangeIndex: 6019 entries, 0 to 6018\n",
      "Data columns (total 14 columns):\n",
      " #   Column             Non-Null Count  Dtype  \n",
      "---  ------             --------------  -----  \n",
      " 0   Unnamed: 0         6019 non-null   int64  \n",
      " 1   Name               6019 non-null   object \n",
      " 2   Location           6019 non-null   object \n",
      " 3   Year               6019 non-null   int64  \n",
      " 4   Kilometers_Driven  6019 non-null   int64  \n",
      " 5   Fuel_Type          6019 non-null   object \n",
      " 6   Transmission       6019 non-null   object \n",
      " 7   Owner_Type         6019 non-null   object \n",
      " 8   Mileage            6017 non-null   object \n",
      " 9   Engine             5983 non-null   object \n",
      " 10  Power              5983 non-null   object \n",
      " 11  Seats              5977 non-null   float64\n",
      " 12  New_Price          824 non-null    object \n",
      " 13  Price              6019 non-null   float64\n",
      "dtypes: float64(2), int64(3), object(9)\n",
      "memory usage: 658.5+ KB\n"
     ]
    }
   ],
   "source": [
    "data.info()"
   ]
  },
  {
   "cell_type": "raw",
   "id": "f50e3570",
   "metadata": {},
   "source": [
    "Task 3: Exploratory Data Analysis (EDA)\n",
    "3.1 Remove the index column as it seems redundant."
   ]
  },
  {
   "cell_type": "code",
   "execution_count": 5,
   "id": "5d765315",
   "metadata": {},
   "outputs": [],
   "source": [
    "data.drop(\"Unnamed: 0\",axis=1,inplace=True)"
   ]
  },
  {
   "cell_type": "code",
   "execution_count": 6,
   "id": "f6fe6d1d",
   "metadata": {},
   "outputs": [
    {
     "data": {
      "text/html": [
       "<div>\n",
       "<style scoped>\n",
       "    .dataframe tbody tr th:only-of-type {\n",
       "        vertical-align: middle;\n",
       "    }\n",
       "\n",
       "    .dataframe tbody tr th {\n",
       "        vertical-align: top;\n",
       "    }\n",
       "\n",
       "    .dataframe thead th {\n",
       "        text-align: right;\n",
       "    }\n",
       "</style>\n",
       "<table border=\"1\" class=\"dataframe\">\n",
       "  <thead>\n",
       "    <tr style=\"text-align: right;\">\n",
       "      <th></th>\n",
       "      <th>Name</th>\n",
       "      <th>Location</th>\n",
       "      <th>Year</th>\n",
       "      <th>Kilometers_Driven</th>\n",
       "      <th>Fuel_Type</th>\n",
       "      <th>Transmission</th>\n",
       "      <th>Owner_Type</th>\n",
       "      <th>Mileage</th>\n",
       "      <th>Engine</th>\n",
       "      <th>Power</th>\n",
       "      <th>Seats</th>\n",
       "      <th>New_Price</th>\n",
       "      <th>Price</th>\n",
       "    </tr>\n",
       "  </thead>\n",
       "  <tbody>\n",
       "    <tr>\n",
       "      <th>0</th>\n",
       "      <td>Maruti Wagon R LXI CNG</td>\n",
       "      <td>Mumbai</td>\n",
       "      <td>2010</td>\n",
       "      <td>72000</td>\n",
       "      <td>CNG</td>\n",
       "      <td>Manual</td>\n",
       "      <td>First</td>\n",
       "      <td>26.6 km/kg</td>\n",
       "      <td>998 CC</td>\n",
       "      <td>58.16 bhp</td>\n",
       "      <td>5.0</td>\n",
       "      <td>NaN</td>\n",
       "      <td>1.75</td>\n",
       "    </tr>\n",
       "    <tr>\n",
       "      <th>1</th>\n",
       "      <td>Hyundai Creta 1.6 CRDi SX Option</td>\n",
       "      <td>Pune</td>\n",
       "      <td>2015</td>\n",
       "      <td>41000</td>\n",
       "      <td>Diesel</td>\n",
       "      <td>Manual</td>\n",
       "      <td>First</td>\n",
       "      <td>19.67 kmpl</td>\n",
       "      <td>1582 CC</td>\n",
       "      <td>126.2 bhp</td>\n",
       "      <td>5.0</td>\n",
       "      <td>NaN</td>\n",
       "      <td>12.50</td>\n",
       "    </tr>\n",
       "    <tr>\n",
       "      <th>2</th>\n",
       "      <td>Honda Jazz V</td>\n",
       "      <td>Chennai</td>\n",
       "      <td>2011</td>\n",
       "      <td>46000</td>\n",
       "      <td>Petrol</td>\n",
       "      <td>Manual</td>\n",
       "      <td>First</td>\n",
       "      <td>18.2 kmpl</td>\n",
       "      <td>1199 CC</td>\n",
       "      <td>88.7 bhp</td>\n",
       "      <td>5.0</td>\n",
       "      <td>8.61 Lakh</td>\n",
       "      <td>4.50</td>\n",
       "    </tr>\n",
       "    <tr>\n",
       "      <th>3</th>\n",
       "      <td>Maruti Ertiga VDI</td>\n",
       "      <td>Chennai</td>\n",
       "      <td>2012</td>\n",
       "      <td>87000</td>\n",
       "      <td>Diesel</td>\n",
       "      <td>Manual</td>\n",
       "      <td>First</td>\n",
       "      <td>20.77 kmpl</td>\n",
       "      <td>1248 CC</td>\n",
       "      <td>88.76 bhp</td>\n",
       "      <td>7.0</td>\n",
       "      <td>NaN</td>\n",
       "      <td>6.00</td>\n",
       "    </tr>\n",
       "    <tr>\n",
       "      <th>4</th>\n",
       "      <td>Audi A4 New 2.0 TDI Multitronic</td>\n",
       "      <td>Coimbatore</td>\n",
       "      <td>2013</td>\n",
       "      <td>40670</td>\n",
       "      <td>Diesel</td>\n",
       "      <td>Automatic</td>\n",
       "      <td>Second</td>\n",
       "      <td>15.2 kmpl</td>\n",
       "      <td>1968 CC</td>\n",
       "      <td>140.8 bhp</td>\n",
       "      <td>5.0</td>\n",
       "      <td>NaN</td>\n",
       "      <td>17.74</td>\n",
       "    </tr>\n",
       "  </tbody>\n",
       "</table>\n",
       "</div>"
      ],
      "text/plain": [
       "                               Name    Location  Year  Kilometers_Driven  \\\n",
       "0            Maruti Wagon R LXI CNG      Mumbai  2010              72000   \n",
       "1  Hyundai Creta 1.6 CRDi SX Option        Pune  2015              41000   \n",
       "2                      Honda Jazz V     Chennai  2011              46000   \n",
       "3                 Maruti Ertiga VDI     Chennai  2012              87000   \n",
       "4   Audi A4 New 2.0 TDI Multitronic  Coimbatore  2013              40670   \n",
       "\n",
       "  Fuel_Type Transmission Owner_Type     Mileage   Engine      Power  Seats  \\\n",
       "0       CNG       Manual      First  26.6 km/kg   998 CC  58.16 bhp    5.0   \n",
       "1    Diesel       Manual      First  19.67 kmpl  1582 CC  126.2 bhp    5.0   \n",
       "2    Petrol       Manual      First   18.2 kmpl  1199 CC   88.7 bhp    5.0   \n",
       "3    Diesel       Manual      First  20.77 kmpl  1248 CC  88.76 bhp    7.0   \n",
       "4    Diesel    Automatic     Second   15.2 kmpl  1968 CC  140.8 bhp    5.0   \n",
       "\n",
       "   New_Price  Price  \n",
       "0        NaN   1.75  \n",
       "1        NaN  12.50  \n",
       "2  8.61 Lakh   4.50  \n",
       "3        NaN   6.00  \n",
       "4        NaN  17.74  "
      ]
     },
     "execution_count": 6,
     "metadata": {},
     "output_type": "execute_result"
    }
   ],
   "source": [
    "data.head()"
   ]
  },
  {
   "cell_type": "raw",
   "id": "05a7322b",
   "metadata": {},
   "source": [
    "3.2 Explore the distribution of car manufacturers in the dataset. Extract the manufacturer from the 'Name' column and create a new column named 'Manufacturer'"
   ]
  },
  {
   "cell_type": "code",
   "execution_count": 7,
   "id": "46e9fc09",
   "metadata": {},
   "outputs": [],
   "source": [
    "data['Manufacturer']=data.Name.str.split(expand=True)[0]"
   ]
  },
  {
   "cell_type": "code",
   "execution_count": 8,
   "id": "6def6218",
   "metadata": {},
   "outputs": [
    {
     "data": {
      "text/html": [
       "<div>\n",
       "<style scoped>\n",
       "    .dataframe tbody tr th:only-of-type {\n",
       "        vertical-align: middle;\n",
       "    }\n",
       "\n",
       "    .dataframe tbody tr th {\n",
       "        vertical-align: top;\n",
       "    }\n",
       "\n",
       "    .dataframe thead th {\n",
       "        text-align: right;\n",
       "    }\n",
       "</style>\n",
       "<table border=\"1\" class=\"dataframe\">\n",
       "  <thead>\n",
       "    <tr style=\"text-align: right;\">\n",
       "      <th></th>\n",
       "      <th>Name</th>\n",
       "      <th>Location</th>\n",
       "      <th>Year</th>\n",
       "      <th>Kilometers_Driven</th>\n",
       "      <th>Fuel_Type</th>\n",
       "      <th>Transmission</th>\n",
       "      <th>Owner_Type</th>\n",
       "      <th>Mileage</th>\n",
       "      <th>Engine</th>\n",
       "      <th>Power</th>\n",
       "      <th>Seats</th>\n",
       "      <th>New_Price</th>\n",
       "      <th>Price</th>\n",
       "      <th>Manufacturer</th>\n",
       "    </tr>\n",
       "  </thead>\n",
       "  <tbody>\n",
       "    <tr>\n",
       "      <th>0</th>\n",
       "      <td>Maruti Wagon R LXI CNG</td>\n",
       "      <td>Mumbai</td>\n",
       "      <td>2010</td>\n",
       "      <td>72000</td>\n",
       "      <td>CNG</td>\n",
       "      <td>Manual</td>\n",
       "      <td>First</td>\n",
       "      <td>26.6 km/kg</td>\n",
       "      <td>998 CC</td>\n",
       "      <td>58.16 bhp</td>\n",
       "      <td>5.0</td>\n",
       "      <td>NaN</td>\n",
       "      <td>1.75</td>\n",
       "      <td>Maruti</td>\n",
       "    </tr>\n",
       "    <tr>\n",
       "      <th>1</th>\n",
       "      <td>Hyundai Creta 1.6 CRDi SX Option</td>\n",
       "      <td>Pune</td>\n",
       "      <td>2015</td>\n",
       "      <td>41000</td>\n",
       "      <td>Diesel</td>\n",
       "      <td>Manual</td>\n",
       "      <td>First</td>\n",
       "      <td>19.67 kmpl</td>\n",
       "      <td>1582 CC</td>\n",
       "      <td>126.2 bhp</td>\n",
       "      <td>5.0</td>\n",
       "      <td>NaN</td>\n",
       "      <td>12.50</td>\n",
       "      <td>Hyundai</td>\n",
       "    </tr>\n",
       "    <tr>\n",
       "      <th>2</th>\n",
       "      <td>Honda Jazz V</td>\n",
       "      <td>Chennai</td>\n",
       "      <td>2011</td>\n",
       "      <td>46000</td>\n",
       "      <td>Petrol</td>\n",
       "      <td>Manual</td>\n",
       "      <td>First</td>\n",
       "      <td>18.2 kmpl</td>\n",
       "      <td>1199 CC</td>\n",
       "      <td>88.7 bhp</td>\n",
       "      <td>5.0</td>\n",
       "      <td>8.61 Lakh</td>\n",
       "      <td>4.50</td>\n",
       "      <td>Honda</td>\n",
       "    </tr>\n",
       "    <tr>\n",
       "      <th>3</th>\n",
       "      <td>Maruti Ertiga VDI</td>\n",
       "      <td>Chennai</td>\n",
       "      <td>2012</td>\n",
       "      <td>87000</td>\n",
       "      <td>Diesel</td>\n",
       "      <td>Manual</td>\n",
       "      <td>First</td>\n",
       "      <td>20.77 kmpl</td>\n",
       "      <td>1248 CC</td>\n",
       "      <td>88.76 bhp</td>\n",
       "      <td>7.0</td>\n",
       "      <td>NaN</td>\n",
       "      <td>6.00</td>\n",
       "      <td>Maruti</td>\n",
       "    </tr>\n",
       "    <tr>\n",
       "      <th>4</th>\n",
       "      <td>Audi A4 New 2.0 TDI Multitronic</td>\n",
       "      <td>Coimbatore</td>\n",
       "      <td>2013</td>\n",
       "      <td>40670</td>\n",
       "      <td>Diesel</td>\n",
       "      <td>Automatic</td>\n",
       "      <td>Second</td>\n",
       "      <td>15.2 kmpl</td>\n",
       "      <td>1968 CC</td>\n",
       "      <td>140.8 bhp</td>\n",
       "      <td>5.0</td>\n",
       "      <td>NaN</td>\n",
       "      <td>17.74</td>\n",
       "      <td>Audi</td>\n",
       "    </tr>\n",
       "  </tbody>\n",
       "</table>\n",
       "</div>"
      ],
      "text/plain": [
       "                               Name    Location  Year  Kilometers_Driven  \\\n",
       "0            Maruti Wagon R LXI CNG      Mumbai  2010              72000   \n",
       "1  Hyundai Creta 1.6 CRDi SX Option        Pune  2015              41000   \n",
       "2                      Honda Jazz V     Chennai  2011              46000   \n",
       "3                 Maruti Ertiga VDI     Chennai  2012              87000   \n",
       "4   Audi A4 New 2.0 TDI Multitronic  Coimbatore  2013              40670   \n",
       "\n",
       "  Fuel_Type Transmission Owner_Type     Mileage   Engine      Power  Seats  \\\n",
       "0       CNG       Manual      First  26.6 km/kg   998 CC  58.16 bhp    5.0   \n",
       "1    Diesel       Manual      First  19.67 kmpl  1582 CC  126.2 bhp    5.0   \n",
       "2    Petrol       Manual      First   18.2 kmpl  1199 CC   88.7 bhp    5.0   \n",
       "3    Diesel       Manual      First  20.77 kmpl  1248 CC  88.76 bhp    7.0   \n",
       "4    Diesel    Automatic     Second   15.2 kmpl  1968 CC  140.8 bhp    5.0   \n",
       "\n",
       "   New_Price  Price Manufacturer  \n",
       "0        NaN   1.75       Maruti  \n",
       "1        NaN  12.50      Hyundai  \n",
       "2  8.61 Lakh   4.50        Honda  \n",
       "3        NaN   6.00       Maruti  \n",
       "4        NaN  17.74         Audi  "
      ]
     },
     "execution_count": 8,
     "metadata": {},
     "output_type": "execute_result"
    }
   ],
   "source": [
    "data.head()"
   ]
  },
  {
   "cell_type": "raw",
   "id": "8b70619a",
   "metadata": {},
   "source": [
    "3.3 Visualize the count of cars based on manufacturers using a countplot."
   ]
  },
  {
   "cell_type": "code",
   "execution_count": 9,
   "id": "c005e3ae",
   "metadata": {},
   "outputs": [
    {
     "data": {
      "image/png": "[encoded data removed]",
      "text/plain": [
       "<Figure size 1800x800 with 1 Axes>"
      ]
     },
     "metadata": {},
     "output_type": "display_data"
    }
   ],
   "source": [
    "plt.figure(figsize=(18,8))\n",
    "sns.countplot(x=data.Manufacturer)\n",
    "plt.xticks(rotation=45)\n",
    "plt.show()"
   ]
  },
  {
   "cell_type": "raw",
   "id": "cf48582d",
   "metadata": {},
   "source": [
    "3.4 Drop the 'Name' column as it is no longer needed."
   ]
  },
  {
   "cell_type": "code",
   "execution_count": 10,
   "id": "8cc924e9",
   "metadata": {},
   "outputs": [],
   "source": [
    "data.drop('Name',axis=1,inplace=True)"
   ]
  },
  {
   "cell_type": "code",
   "execution_count": 11,
   "id": "76d4c564",
   "metadata": {},
   "outputs": [
    {
     "data": {
      "text/html": [
       "<div>\n",
       "<style scoped>\n",
       "    .dataframe tbody tr th:only-of-type {\n",
       "        vertical-align: middle;\n",
       "    }\n",
       "\n",
       "    .dataframe tbody tr th {\n",
       "        vertical-align: top;\n",
       "    }\n",
       "\n",
       "    .dataframe thead th {\n",
       "        text-align: right;\n",
       "    }\n",
       "</style>\n",
       "<table border=\"1\" class=\"dataframe\">\n",
       "  <thead>\n",
       "    <tr style=\"text-align: right;\">\n",
       "      <th></th>\n",
       "      <th>Location</th>\n",
       "      <th>Year</th>\n",
       "      <th>Kilometers_Driven</th>\n",
       "      <th>Fuel_Type</th>\n",
       "      <th>Transmission</th>\n",
       "      <th>Owner_Type</th>\n",
       "      <th>Mileage</th>\n",
       "      <th>Engine</th>\n",
       "      <th>Power</th>\n",
       "      <th>Seats</th>\n",
       "      <th>New_Price</th>\n",
       "      <th>Price</th>\n",
       "      <th>Manufacturer</th>\n",
       "    </tr>\n",
       "  </thead>\n",
       "  <tbody>\n",
       "    <tr>\n",
       "      <th>0</th>\n",
       "      <td>Mumbai</td>\n",
       "      <td>2010</td>\n",
       "      <td>72000</td>\n",
       "      <td>CNG</td>\n",
       "      <td>Manual</td>\n",
       "      <td>First</td>\n",
       "      <td>26.6 km/kg</td>\n",
       "      <td>998 CC</td>\n",
       "      <td>58.16 bhp</td>\n",
       "      <td>5.0</td>\n",
       "      <td>NaN</td>\n",
       "      <td>1.75</td>\n",
       "      <td>Maruti</td>\n",
       "    </tr>\n",
       "    <tr>\n",
       "      <th>1</th>\n",
       "      <td>Pune</td>\n",
       "      <td>2015</td>\n",
       "      <td>41000</td>\n",
       "      <td>Diesel</td>\n",
       "      <td>Manual</td>\n",
       "      <td>First</td>\n",
       "      <td>19.67 kmpl</td>\n",
       "      <td>1582 CC</td>\n",
       "      <td>126.2 bhp</td>\n",
       "      <td>5.0</td>\n",
       "      <td>NaN</td>\n",
       "      <td>12.50</td>\n",
       "      <td>Hyundai</td>\n",
       "    </tr>\n",
       "    <tr>\n",
       "      <th>2</th>\n",
       "      <td>Chennai</td>\n",
       "      <td>2011</td>\n",
       "      <td>46000</td>\n",
       "      <td>Petrol</td>\n",
       "      <td>Manual</td>\n",
       "      <td>First</td>\n",
       "      <td>18.2 kmpl</td>\n",
       "      <td>1199 CC</td>\n",
       "      <td>88.7 bhp</td>\n",
       "      <td>5.0</td>\n",
       "      <td>8.61 Lakh</td>\n",
       "      <td>4.50</td>\n",
       "      <td>Honda</td>\n",
       "    </tr>\n",
       "    <tr>\n",
       "      <th>3</th>\n",
       "      <td>Chennai</td>\n",
       "      <td>2012</td>\n",
       "      <td>87000</td>\n",
       "      <td>Diesel</td>\n",
       "      <td>Manual</td>\n",
       "      <td>First</td>\n",
       "      <td>20.77 kmpl</td>\n",
       "      <td>1248 CC</td>\n",
       "      <td>88.76 bhp</td>\n",
       "      <td>7.0</td>\n",
       "      <td>NaN</td>\n",
       "      <td>6.00</td>\n",
       "      <td>Maruti</td>\n",
       "    </tr>\n",
       "    <tr>\n",
       "      <th>4</th>\n",
       "      <td>Coimbatore</td>\n",
       "      <td>2013</td>\n",
       "      <td>40670</td>\n",
       "      <td>Diesel</td>\n",
       "      <td>Automatic</td>\n",
       "      <td>Second</td>\n",
       "      <td>15.2 kmpl</td>\n",
       "      <td>1968 CC</td>\n",
       "      <td>140.8 bhp</td>\n",
       "      <td>5.0</td>\n",
       "      <td>NaN</td>\n",
       "      <td>17.74</td>\n",
       "      <td>Audi</td>\n",
       "    </tr>\n",
       "  </tbody>\n",
       "</table>\n",
       "</div>"
      ],
      "text/plain": [
       "     Location  Year  Kilometers_Driven Fuel_Type Transmission Owner_Type  \\\n",
       "0      Mumbai  2010              72000       CNG       Manual      First   \n",
       "1        Pune  2015              41000    Diesel       Manual      First   \n",
       "2     Chennai  2011              46000    Petrol       Manual      First   \n",
       "3     Chennai  2012              87000    Diesel       Manual      First   \n",
       "4  Coimbatore  2013              40670    Diesel    Automatic     Second   \n",
       "\n",
       "      Mileage   Engine      Power  Seats  New_Price  Price Manufacturer  \n",
       "0  26.6 km/kg   998 CC  58.16 bhp    5.0        NaN   1.75       Maruti  \n",
       "1  19.67 kmpl  1582 CC  126.2 bhp    5.0        NaN  12.50      Hyundai  \n",
       "2   18.2 kmpl  1199 CC   88.7 bhp    5.0  8.61 Lakh   4.50        Honda  \n",
       "3  20.77 kmpl  1248 CC  88.76 bhp    7.0        NaN   6.00       Maruti  \n",
       "4   15.2 kmpl  1968 CC  140.8 bhp    5.0        NaN  17.74         Audi  "
      ]
     },
     "execution_count": 11,
     "metadata": {},
     "output_type": "execute_result"
    }
   ],
   "source": [
    "data.head()"
   ]
  },
  {
   "cell_type": "raw",
   "id": "359ab291",
   "metadata": {},
   "source": [
    "3.5 Remove the 'Location' column as it is not expected to significantly influence car prices."
   ]
  },
  {
   "cell_type": "code",
   "execution_count": 12,
   "id": "d6b33f45",
   "metadata": {},
   "outputs": [],
   "source": [
    "data.drop('Location',axis=1,inplace=True)"
   ]
  },
  {
   "cell_type": "code",
   "execution_count": 13,
   "id": "42add61b",
   "metadata": {},
   "outputs": [
    {
     "data": {
      "text/html": [
       "<div>\n",
       "<style scoped>\n",
       "    .dataframe tbody tr th:only-of-type {\n",
       "        vertical-align: middle;\n",
       "    }\n",
       "\n",
       "    .dataframe tbody tr th {\n",
       "        vertical-align: top;\n",
       "    }\n",
       "\n",
       "    .dataframe thead th {\n",
       "        text-align: right;\n",
       "    }\n",
       "</style>\n",
       "<table border=\"1\" class=\"dataframe\">\n",
       "  <thead>\n",
       "    <tr style=\"text-align: right;\">\n",
       "      <th></th>\n",
       "      <th>Year</th>\n",
       "      <th>Kilometers_Driven</th>\n",
       "      <th>Fuel_Type</th>\n",
       "      <th>Transmission</th>\n",
       "      <th>Owner_Type</th>\n",
       "      <th>Mileage</th>\n",
       "      <th>Engine</th>\n",
       "      <th>Power</th>\n",
       "      <th>Seats</th>\n",
       "      <th>New_Price</th>\n",
       "      <th>Price</th>\n",
       "      <th>Manufacturer</th>\n",
       "    </tr>\n",
       "  </thead>\n",
       "  <tbody>\n",
       "    <tr>\n",
       "      <th>0</th>\n",
       "      <td>2010</td>\n",
       "      <td>72000</td>\n",
       "      <td>CNG</td>\n",
       "      <td>Manual</td>\n",
       "      <td>First</td>\n",
       "      <td>26.6 km/kg</td>\n",
       "      <td>998 CC</td>\n",
       "      <td>58.16 bhp</td>\n",
       "      <td>5.0</td>\n",
       "      <td>NaN</td>\n",
       "      <td>1.75</td>\n",
       "      <td>Maruti</td>\n",
       "    </tr>\n",
       "    <tr>\n",
       "      <th>1</th>\n",
       "      <td>2015</td>\n",
       "      <td>41000</td>\n",
       "      <td>Diesel</td>\n",
       "      <td>Manual</td>\n",
       "      <td>First</td>\n",
       "      <td>19.67 kmpl</td>\n",
       "      <td>1582 CC</td>\n",
       "      <td>126.2 bhp</td>\n",
       "      <td>5.0</td>\n",
       "      <td>NaN</td>\n",
       "      <td>12.50</td>\n",
       "      <td>Hyundai</td>\n",
       "    </tr>\n",
       "    <tr>\n",
       "      <th>2</th>\n",
       "      <td>2011</td>\n",
       "      <td>46000</td>\n",
       "      <td>Petrol</td>\n",
       "      <td>Manual</td>\n",
       "      <td>First</td>\n",
       "      <td>18.2 kmpl</td>\n",
       "      <td>1199 CC</td>\n",
       "      <td>88.7 bhp</td>\n",
       "      <td>5.0</td>\n",
       "      <td>8.61 Lakh</td>\n",
       "      <td>4.50</td>\n",
       "      <td>Honda</td>\n",
       "    </tr>\n",
       "    <tr>\n",
       "      <th>3</th>\n",
       "      <td>2012</td>\n",
       "      <td>87000</td>\n",
       "      <td>Diesel</td>\n",
       "      <td>Manual</td>\n",
       "      <td>First</td>\n",
       "      <td>20.77 kmpl</td>\n",
       "      <td>1248 CC</td>\n",
       "      <td>88.76 bhp</td>\n",
       "      <td>7.0</td>\n",
       "      <td>NaN</td>\n",
       "      <td>6.00</td>\n",
       "      <td>Maruti</td>\n",
       "    </tr>\n",
       "    <tr>\n",
       "      <th>4</th>\n",
       "      <td>2013</td>\n",
       "      <td>40670</td>\n",
       "      <td>Diesel</td>\n",
       "      <td>Automatic</td>\n",
       "      <td>Second</td>\n",
       "      <td>15.2 kmpl</td>\n",
       "      <td>1968 CC</td>\n",
       "      <td>140.8 bhp</td>\n",
       "      <td>5.0</td>\n",
       "      <td>NaN</td>\n",
       "      <td>17.74</td>\n",
       "      <td>Audi</td>\n",
       "    </tr>\n",
       "  </tbody>\n",
       "</table>\n",
       "</div>"
      ],
      "text/plain": [
       "   Year  Kilometers_Driven Fuel_Type Transmission Owner_Type     Mileage  \\\n",
       "0  2010              72000       CNG       Manual      First  26.6 km/kg   \n",
       "1  2015              41000    Diesel       Manual      First  19.67 kmpl   \n",
       "2  2011              46000    Petrol       Manual      First   18.2 kmpl   \n",
       "3  2012              87000    Diesel       Manual      First  20.77 kmpl   \n",
       "4  2013              40670    Diesel    Automatic     Second   15.2 kmpl   \n",
       "\n",
       "    Engine      Power  Seats  New_Price  Price Manufacturer  \n",
       "0   998 CC  58.16 bhp    5.0        NaN   1.75       Maruti  \n",
       "1  1582 CC  126.2 bhp    5.0        NaN  12.50      Hyundai  \n",
       "2  1199 CC   88.7 bhp    5.0  8.61 Lakh   4.50        Honda  \n",
       "3  1248 CC  88.76 bhp    7.0        NaN   6.00       Maruti  \n",
       "4  1968 CC  140.8 bhp    5.0        NaN  17.74         Audi  "
      ]
     },
     "execution_count": 13,
     "metadata": {},
     "output_type": "execute_result"
    }
   ],
   "source": [
    "data.head()"
   ]
  },
  {
   "cell_type": "raw",
   "id": "8da7cc54",
   "metadata": {},
   "source": [
    "Task 4: Feature Engineering\n",
    "4.1 Convert categorical columns ('Fuel_Type', 'Transmission', 'Owner_Type') into dummy variables."
   ]
  },
  {
   "cell_type": "code",
   "execution_count": 14,
   "id": "6bc55a58",
   "metadata": {},
   "outputs": [],
   "source": [
    "data=pd.get_dummies(data=data,columns=[\"Fuel_Type\",\"Transmission\",\"Owner_Type\",\"Manufacturer\"],drop_first=True)"
   ]
  },
  {
   "cell_type": "code",
   "execution_count": 15,
   "id": "364af844",
   "metadata": {},
   "outputs": [
    {
     "name": "stdout",
     "output_type": "stream",
     "text": [
      "<class 'pandas.core.frame.DataFrame'>\n",
      "RangeIndex: 6019 entries, 0 to 6018\n",
      "Data columns (total 46 columns):\n",
      " #   Column                      Non-Null Count  Dtype  \n",
      "---  ------                      --------------  -----  \n",
      " 0   Year                        6019 non-null   int64  \n",
      " 1   Kilometers_Driven           6019 non-null   int64  \n",
      " 2   Mileage                     6017 non-null   object \n",
      " 3   Engine                      5983 non-null   object \n",
      " 4   Power                       5983 non-null   object \n",
      " 5   Seats                       5977 non-null   float64\n",
      " 6   New_Price                   824 non-null    object \n",
      " 7   Price                       6019 non-null   float64\n",
      " 8   Fuel_Type_Diesel            6019 non-null   uint8  \n",
      " 9   Fuel_Type_Electric          6019 non-null   uint8  \n",
      " 10  Fuel_Type_LPG               6019 non-null   uint8  \n",
      " 11  Fuel_Type_Petrol            6019 non-null   uint8  \n",
      " 12  Transmission_Manual         6019 non-null   uint8  \n",
      " 13  Owner_Type_Fourth & Above   6019 non-null   uint8  \n",
      " 14  Owner_Type_Second           6019 non-null   uint8  \n",
      " 15  Owner_Type_Third            6019 non-null   uint8  \n",
      " 16  Manufacturer_Audi           6019 non-null   uint8  \n",
      " 17  Manufacturer_BMW            6019 non-null   uint8  \n",
      " 18  Manufacturer_Bentley        6019 non-null   uint8  \n",
      " 19  Manufacturer_Chevrolet      6019 non-null   uint8  \n",
      " 20  Manufacturer_Datsun         6019 non-null   uint8  \n",
      " 21  Manufacturer_Fiat           6019 non-null   uint8  \n",
      " 22  Manufacturer_Force          6019 non-null   uint8  \n",
      " 23  Manufacturer_Ford           6019 non-null   uint8  \n",
      " 24  Manufacturer_Honda          6019 non-null   uint8  \n",
      " 25  Manufacturer_Hyundai        6019 non-null   uint8  \n",
      " 26  Manufacturer_ISUZU          6019 non-null   uint8  \n",
      " 27  Manufacturer_Isuzu          6019 non-null   uint8  \n",
      " 28  Manufacturer_Jaguar         6019 non-null   uint8  \n",
      " 29  Manufacturer_Jeep           6019 non-null   uint8  \n",
      " 30  Manufacturer_Lamborghini    6019 non-null   uint8  \n",
      " 31  Manufacturer_Land           6019 non-null   uint8  \n",
      " 32  Manufacturer_Mahindra       6019 non-null   uint8  \n",
      " 33  Manufacturer_Maruti         6019 non-null   uint8  \n",
      " 34  Manufacturer_Mercedes-Benz  6019 non-null   uint8  \n",
      " 35  Manufacturer_Mini           6019 non-null   uint8  \n",
      " 36  Manufacturer_Mitsubishi     6019 non-null   uint8  \n",
      " 37  Manufacturer_Nissan         6019 non-null   uint8  \n",
      " 38  Manufacturer_Porsche        6019 non-null   uint8  \n",
      " 39  Manufacturer_Renault        6019 non-null   uint8  \n",
      " 40  Manufacturer_Skoda          6019 non-null   uint8  \n",
      " 41  Manufacturer_Smart          6019 non-null   uint8  \n",
      " 42  Manufacturer_Tata           6019 non-null   uint8  \n",
      " 43  Manufacturer_Toyota         6019 non-null   uint8  \n",
      " 44  Manufacturer_Volkswagen     6019 non-null   uint8  \n",
      " 45  Manufacturer_Volvo          6019 non-null   uint8  \n",
      "dtypes: float64(2), int64(2), object(4), uint8(38)\n",
      "memory usage: 599.7+ KB\n"
     ]
    }
   ],
   "source": [
    "data.info()"
   ]
  },
  {
   "cell_type": "code",
   "execution_count": 16,
   "id": "21dde3d7",
   "metadata": {},
   "outputs": [],
   "source": [
    "data.drop(\"Manufacturer_Isuzu\",axis=1,inplace=True)"
   ]
  },
  {
   "cell_type": "code",
   "execution_count": 17,
   "id": "7922ed79",
   "metadata": {},
   "outputs": [
    {
     "name": "stdout",
     "output_type": "stream",
     "text": [
      "<class 'pandas.core.frame.DataFrame'>\n",
      "RangeIndex: 6019 entries, 0 to 6018\n",
      "Data columns (total 45 columns):\n",
      " #   Column                      Non-Null Count  Dtype  \n",
      "---  ------                      --------------  -----  \n",
      " 0   Year                        6019 non-null   int64  \n",
      " 1   Kilometers_Driven           6019 non-null   int64  \n",
      " 2   Mileage                     6017 non-null   object \n",
      " 3   Engine                      5983 non-null   object \n",
      " 4   Power                       5983 non-null   object \n",
      " 5   Seats                       5977 non-null   float64\n",
      " 6   New_Price                   824 non-null    object \n",
      " 7   Price                       6019 non-null   float64\n",
      " 8   Fuel_Type_Diesel            6019 non-null   uint8  \n",
      " 9   Fuel_Type_Electric          6019 non-null   uint8  \n",
      " 10  Fuel_Type_LPG               6019 non-null   uint8  \n",
      " 11  Fuel_Type_Petrol            6019 non-null   uint8  \n",
      " 12  Transmission_Manual         6019 non-null   uint8  \n",
      " 13  Owner_Type_Fourth & Above   6019 non-null   uint8  \n",
      " 14  Owner_Type_Second           6019 non-null   uint8  \n",
      " 15  Owner_Type_Third            6019 non-null   uint8  \n",
      " 16  Manufacturer_Audi           6019 non-null   uint8  \n",
      " 17  Manufacturer_BMW            6019 non-null   uint8  \n",
      " 18  Manufacturer_Bentley        6019 non-null   uint8  \n",
      " 19  Manufacturer_Chevrolet      6019 non-null   uint8  \n",
      " 20  Manufacturer_Datsun         6019 non-null   uint8  \n",
      " 21  Manufacturer_Fiat           6019 non-null   uint8  \n",
      " 22  Manufacturer_Force          6019 non-null   uint8  \n",
      " 23  Manufacturer_Ford           6019 non-null   uint8  \n",
      " 24  Manufacturer_Honda          6019 non-null   uint8  \n",
      " 25  Manufacturer_Hyundai        6019 non-null   uint8  \n",
      " 26  Manufacturer_ISUZU          6019 non-null   uint8  \n",
      " 27  Manufacturer_Jaguar         6019 non-null   uint8  \n",
      " 28  Manufacturer_Jeep           6019 non-null   uint8  \n",
      " 29  Manufacturer_Lamborghini    6019 non-null   uint8  \n",
      " 30  Manufacturer_Land           6019 non-null   uint8  \n",
      " 31  Manufacturer_Mahindra       6019 non-null   uint8  \n",
      " 32  Manufacturer_Maruti         6019 non-null   uint8  \n",
      " 33  Manufacturer_Mercedes-Benz  6019 non-null   uint8  \n",
      " 34  Manufacturer_Mini           6019 non-null   uint8  \n",
      " 35  Manufacturer_Mitsubishi     6019 non-null   uint8  \n",
      " 36  Manufacturer_Nissan         6019 non-null   uint8  \n",
      " 37  Manufacturer_Porsche        6019 non-null   uint8  \n",
      " 38  Manufacturer_Renault        6019 non-null   uint8  \n",
      " 39  Manufacturer_Skoda          6019 non-null   uint8  \n",
      " 40  Manufacturer_Smart          6019 non-null   uint8  \n",
      " 41  Manufacturer_Tata           6019 non-null   uint8  \n",
      " 42  Manufacturer_Toyota         6019 non-null   uint8  \n",
      " 43  Manufacturer_Volkswagen     6019 non-null   uint8  \n",
      " 44  Manufacturer_Volvo          6019 non-null   uint8  \n",
      "dtypes: float64(2), int64(2), object(4), uint8(37)\n",
      "memory usage: 593.8+ KB\n"
     ]
    }
   ],
   "source": [
    "data.info()"
   ]
  },
  {
   "cell_type": "code",
   "execution_count": 18,
   "id": "8ae91a97",
   "metadata": {},
   "outputs": [
    {
     "data": {
      "text/html": [
       "<div>\n",
       "<style scoped>\n",
       "    .dataframe tbody tr th:only-of-type {\n",
       "        vertical-align: middle;\n",
       "    }\n",
       "\n",
       "    .dataframe tbody tr th {\n",
       "        vertical-align: top;\n",
       "    }\n",
       "\n",
       "    .dataframe thead th {\n",
       "        text-align: right;\n",
       "    }\n",
       "</style>\n",
       "<table border=\"1\" class=\"dataframe\">\n",
       "  <thead>\n",
       "    <tr style=\"text-align: right;\">\n",
       "      <th></th>\n",
       "      <th>Year</th>\n",
       "      <th>Kilometers_Driven</th>\n",
       "      <th>Mileage</th>\n",
       "      <th>Engine</th>\n",
       "      <th>Power</th>\n",
       "      <th>Seats</th>\n",
       "      <th>New_Price</th>\n",
       "      <th>Price</th>\n",
       "      <th>Fuel_Type_Diesel</th>\n",
       "      <th>Fuel_Type_Electric</th>\n",
       "      <th>...</th>\n",
       "      <th>Manufacturer_Mitsubishi</th>\n",
       "      <th>Manufacturer_Nissan</th>\n",
       "      <th>Manufacturer_Porsche</th>\n",
       "      <th>Manufacturer_Renault</th>\n",
       "      <th>Manufacturer_Skoda</th>\n",
       "      <th>Manufacturer_Smart</th>\n",
       "      <th>Manufacturer_Tata</th>\n",
       "      <th>Manufacturer_Toyota</th>\n",
       "      <th>Manufacturer_Volkswagen</th>\n",
       "      <th>Manufacturer_Volvo</th>\n",
       "    </tr>\n",
       "  </thead>\n",
       "  <tbody>\n",
       "    <tr>\n",
       "      <th>0</th>\n",
       "      <td>2010</td>\n",
       "      <td>72000</td>\n",
       "      <td>26.6 km/kg</td>\n",
       "      <td>998 CC</td>\n",
       "      <td>58.16 bhp</td>\n",
       "      <td>5.0</td>\n",
       "      <td>NaN</td>\n",
       "      <td>1.75</td>\n",
       "      <td>0</td>\n",
       "      <td>0</td>\n",
       "      <td>...</td>\n",
       "      <td>0</td>\n",
       "      <td>0</td>\n",
       "      <td>0</td>\n",
       "      <td>0</td>\n",
       "      <td>0</td>\n",
       "      <td>0</td>\n",
       "      <td>0</td>\n",
       "      <td>0</td>\n",
       "      <td>0</td>\n",
       "      <td>0</td>\n",
       "    </tr>\n",
       "    <tr>\n",
       "      <th>1</th>\n",
       "      <td>2015</td>\n",
       "      <td>41000</td>\n",
       "      <td>19.67 kmpl</td>\n",
       "      <td>1582 CC</td>\n",
       "      <td>126.2 bhp</td>\n",
       "      <td>5.0</td>\n",
       "      <td>NaN</td>\n",
       "      <td>12.50</td>\n",
       "      <td>1</td>\n",
       "      <td>0</td>\n",
       "      <td>...</td>\n",
       "      <td>0</td>\n",
       "      <td>0</td>\n",
       "      <td>0</td>\n",
       "      <td>0</td>\n",
       "      <td>0</td>\n",
       "      <td>0</td>\n",
       "      <td>0</td>\n",
       "      <td>0</td>\n",
       "      <td>0</td>\n",
       "      <td>0</td>\n",
       "    </tr>\n",
       "    <tr>\n",
       "      <th>2</th>\n",
       "      <td>2011</td>\n",
       "      <td>46000</td>\n",
       "      <td>18.2 kmpl</td>\n",
       "      <td>1199 CC</td>\n",
       "      <td>88.7 bhp</td>\n",
       "      <td>5.0</td>\n",
       "      <td>8.61 Lakh</td>\n",
       "      <td>4.50</td>\n",
       "      <td>0</td>\n",
       "      <td>0</td>\n",
       "      <td>...</td>\n",
       "      <td>0</td>\n",
       "      <td>0</td>\n",
       "      <td>0</td>\n",
       "      <td>0</td>\n",
       "      <td>0</td>\n",
       "      <td>0</td>\n",
       "      <td>0</td>\n",
       "      <td>0</td>\n",
       "      <td>0</td>\n",
       "      <td>0</td>\n",
       "    </tr>\n",
       "    <tr>\n",
       "      <th>3</th>\n",
       "      <td>2012</td>\n",
       "      <td>87000</td>\n",
       "      <td>20.77 kmpl</td>\n",
       "      <td>1248 CC</td>\n",
       "      <td>88.76 bhp</td>\n",
       "      <td>7.0</td>\n",
       "      <td>NaN</td>\n",
       "      <td>6.00</td>\n",
       "      <td>1</td>\n",
       "      <td>0</td>\n",
       "      <td>...</td>\n",
       "      <td>0</td>\n",
       "      <td>0</td>\n",
       "      <td>0</td>\n",
       "      <td>0</td>\n",
       "      <td>0</td>\n",
       "      <td>0</td>\n",
       "      <td>0</td>\n",
       "      <td>0</td>\n",
       "      <td>0</td>\n",
       "      <td>0</td>\n",
       "    </tr>\n",
       "    <tr>\n",
       "      <th>4</th>\n",
       "      <td>2013</td>\n",
       "      <td>40670</td>\n",
       "      <td>15.2 kmpl</td>\n",
       "      <td>1968 CC</td>\n",
       "      <td>140.8 bhp</td>\n",
       "      <td>5.0</td>\n",
       "      <td>NaN</td>\n",
       "      <td>17.74</td>\n",
       "      <td>1</td>\n",
       "      <td>0</td>\n",
       "      <td>...</td>\n",
       "      <td>0</td>\n",
       "      <td>0</td>\n",
       "      <td>0</td>\n",
       "      <td>0</td>\n",
       "      <td>0</td>\n",
       "      <td>0</td>\n",
       "      <td>0</td>\n",
       "      <td>0</td>\n",
       "      <td>0</td>\n",
       "      <td>0</td>\n",
       "    </tr>\n",
       "  </tbody>\n",
       "</table>\n",
       "<p>5 rows × 45 columns</p>\n",
       "</div>"
      ],
      "text/plain": [
       "   Year  Kilometers_Driven     Mileage   Engine      Power  Seats  New_Price  \\\n",
       "0  2010              72000  26.6 km/kg   998 CC  58.16 bhp    5.0        NaN   \n",
       "1  2015              41000  19.67 kmpl  1582 CC  126.2 bhp    5.0        NaN   \n",
       "2  2011              46000   18.2 kmpl  1199 CC   88.7 bhp    5.0  8.61 Lakh   \n",
       "3  2012              87000  20.77 kmpl  1248 CC  88.76 bhp    7.0        NaN   \n",
       "4  2013              40670   15.2 kmpl  1968 CC  140.8 bhp    5.0        NaN   \n",
       "\n",
       "   Price  Fuel_Type_Diesel  Fuel_Type_Electric  ...  Manufacturer_Mitsubishi  \\\n",
       "0   1.75                 0                   0  ...                        0   \n",
       "1  12.50                 1                   0  ...                        0   \n",
       "2   4.50                 0                   0  ...                        0   \n",
       "3   6.00                 1                   0  ...                        0   \n",
       "4  17.74                 1                   0  ...                        0   \n",
       "\n",
       "   Manufacturer_Nissan  Manufacturer_Porsche  Manufacturer_Renault  \\\n",
       "0                    0                     0                     0   \n",
       "1                    0                     0                     0   \n",
       "2                    0                     0                     0   \n",
       "3                    0                     0                     0   \n",
       "4                    0                     0                     0   \n",
       "\n",
       "   Manufacturer_Skoda  Manufacturer_Smart  Manufacturer_Tata  \\\n",
       "0                   0                   0                  0   \n",
       "1                   0                   0                  0   \n",
       "2                   0                   0                  0   \n",
       "3                   0                   0                  0   \n",
       "4                   0                   0                  0   \n",
       "\n",
       "   Manufacturer_Toyota  Manufacturer_Volkswagen  Manufacturer_Volvo  \n",
       "0                    0                        0                   0  \n",
       "1                    0                        0                   0  \n",
       "2                    0                        0                   0  \n",
       "3                    0                        0                   0  \n",
       "4                    0                        0                   0  \n",
       "\n",
       "[5 rows x 45 columns]"
      ]
     },
     "execution_count": 18,
     "metadata": {},
     "output_type": "execute_result"
    }
   ],
   "source": [
    "data.head()"
   ]
  },
  {
   "cell_type": "raw",
   "id": "cae7e07a",
   "metadata": {},
   "source": [
    "4.3 Extract the numerical values from the 'Mileage' column and handle missing values."
   ]
  },
  {
   "cell_type": "code",
   "execution_count": 19,
   "id": "19887d4d",
   "metadata": {},
   "outputs": [],
   "source": [
    "data['Mileage']=data.Mileage.str.split(expand=True)[0]"
   ]
  },
  {
   "cell_type": "code",
   "execution_count": 20,
   "id": "b284801b",
   "metadata": {},
   "outputs": [
    {
     "data": {
      "text/html": [
       "<div>\n",
       "<style scoped>\n",
       "    .dataframe tbody tr th:only-of-type {\n",
       "        vertical-align: middle;\n",
       "    }\n",
       "\n",
       "    .dataframe tbody tr th {\n",
       "        vertical-align: top;\n",
       "    }\n",
       "\n",
       "    .dataframe thead th {\n",
       "        text-align: right;\n",
       "    }\n",
       "</style>\n",
       "<table border=\"1\" class=\"dataframe\">\n",
       "  <thead>\n",
       "    <tr style=\"text-align: right;\">\n",
       "      <th></th>\n",
       "      <th>Year</th>\n",
       "      <th>Kilometers_Driven</th>\n",
       "      <th>Mileage</th>\n",
       "      <th>Engine</th>\n",
       "      <th>Power</th>\n",
       "      <th>Seats</th>\n",
       "      <th>New_Price</th>\n",
       "      <th>Price</th>\n",
       "      <th>Fuel_Type_Diesel</th>\n",
       "      <th>Fuel_Type_Electric</th>\n",
       "      <th>...</th>\n",
       "      <th>Manufacturer_Mitsubishi</th>\n",
       "      <th>Manufacturer_Nissan</th>\n",
       "      <th>Manufacturer_Porsche</th>\n",
       "      <th>Manufacturer_Renault</th>\n",
       "      <th>Manufacturer_Skoda</th>\n",
       "      <th>Manufacturer_Smart</th>\n",
       "      <th>Manufacturer_Tata</th>\n",
       "      <th>Manufacturer_Toyota</th>\n",
       "      <th>Manufacturer_Volkswagen</th>\n",
       "      <th>Manufacturer_Volvo</th>\n",
       "    </tr>\n",
       "  </thead>\n",
       "  <tbody>\n",
       "    <tr>\n",
       "      <th>0</th>\n",
       "      <td>2010</td>\n",
       "      <td>72000</td>\n",
       "      <td>26.6</td>\n",
       "      <td>998 CC</td>\n",
       "      <td>58.16 bhp</td>\n",
       "      <td>5.0</td>\n",
       "      <td>NaN</td>\n",
       "      <td>1.75</td>\n",
       "      <td>0</td>\n",
       "      <td>0</td>\n",
       "      <td>...</td>\n",
       "      <td>0</td>\n",
       "      <td>0</td>\n",
       "      <td>0</td>\n",
       "      <td>0</td>\n",
       "      <td>0</td>\n",
       "      <td>0</td>\n",
       "      <td>0</td>\n",
       "      <td>0</td>\n",
       "      <td>0</td>\n",
       "      <td>0</td>\n",
       "    </tr>\n",
       "    <tr>\n",
       "      <th>1</th>\n",
       "      <td>2015</td>\n",
       "      <td>41000</td>\n",
       "      <td>19.67</td>\n",
       "      <td>1582 CC</td>\n",
       "      <td>126.2 bhp</td>\n",
       "      <td>5.0</td>\n",
       "      <td>NaN</td>\n",
       "      <td>12.50</td>\n",
       "      <td>1</td>\n",
       "      <td>0</td>\n",
       "      <td>...</td>\n",
       "      <td>0</td>\n",
       "      <td>0</td>\n",
       "      <td>0</td>\n",
       "      <td>0</td>\n",
       "      <td>0</td>\n",
       "      <td>0</td>\n",
       "      <td>0</td>\n",
       "      <td>0</td>\n",
       "      <td>0</td>\n",
       "      <td>0</td>\n",
       "    </tr>\n",
       "    <tr>\n",
       "      <th>2</th>\n",
       "      <td>2011</td>\n",
       "      <td>46000</td>\n",
       "      <td>18.2</td>\n",
       "      <td>1199 CC</td>\n",
       "      <td>88.7 bhp</td>\n",
       "      <td>5.0</td>\n",
       "      <td>8.61 Lakh</td>\n",
       "      <td>4.50</td>\n",
       "      <td>0</td>\n",
       "      <td>0</td>\n",
       "      <td>...</td>\n",
       "      <td>0</td>\n",
       "      <td>0</td>\n",
       "      <td>0</td>\n",
       "      <td>0</td>\n",
       "      <td>0</td>\n",
       "      <td>0</td>\n",
       "      <td>0</td>\n",
       "      <td>0</td>\n",
       "      <td>0</td>\n",
       "      <td>0</td>\n",
       "    </tr>\n",
       "    <tr>\n",
       "      <th>3</th>\n",
       "      <td>2012</td>\n",
       "      <td>87000</td>\n",
       "      <td>20.77</td>\n",
       "      <td>1248 CC</td>\n",
       "      <td>88.76 bhp</td>\n",
       "      <td>7.0</td>\n",
       "      <td>NaN</td>\n",
       "      <td>6.00</td>\n",
       "      <td>1</td>\n",
       "      <td>0</td>\n",
       "      <td>...</td>\n",
       "      <td>0</td>\n",
       "      <td>0</td>\n",
       "      <td>0</td>\n",
       "      <td>0</td>\n",
       "      <td>0</td>\n",
       "      <td>0</td>\n",
       "      <td>0</td>\n",
       "      <td>0</td>\n",
       "      <td>0</td>\n",
       "      <td>0</td>\n",
       "    </tr>\n",
       "    <tr>\n",
       "      <th>4</th>\n",
       "      <td>2013</td>\n",
       "      <td>40670</td>\n",
       "      <td>15.2</td>\n",
       "      <td>1968 CC</td>\n",
       "      <td>140.8 bhp</td>\n",
       "      <td>5.0</td>\n",
       "      <td>NaN</td>\n",
       "      <td>17.74</td>\n",
       "      <td>1</td>\n",
       "      <td>0</td>\n",
       "      <td>...</td>\n",
       "      <td>0</td>\n",
       "      <td>0</td>\n",
       "      <td>0</td>\n",
       "      <td>0</td>\n",
       "      <td>0</td>\n",
       "      <td>0</td>\n",
       "      <td>0</td>\n",
       "      <td>0</td>\n",
       "      <td>0</td>\n",
       "      <td>0</td>\n",
       "    </tr>\n",
       "  </tbody>\n",
       "</table>\n",
       "<p>5 rows × 45 columns</p>\n",
       "</div>"
      ],
      "text/plain": [
       "   Year  Kilometers_Driven Mileage   Engine      Power  Seats  New_Price  \\\n",
       "0  2010              72000    26.6   998 CC  58.16 bhp    5.0        NaN   \n",
       "1  2015              41000   19.67  1582 CC  126.2 bhp    5.0        NaN   \n",
       "2  2011              46000    18.2  1199 CC   88.7 bhp    5.0  8.61 Lakh   \n",
       "3  2012              87000   20.77  1248 CC  88.76 bhp    7.0        NaN   \n",
       "4  2013              40670    15.2  1968 CC  140.8 bhp    5.0        NaN   \n",
       "\n",
       "   Price  Fuel_Type_Diesel  Fuel_Type_Electric  ...  Manufacturer_Mitsubishi  \\\n",
       "0   1.75                 0                   0  ...                        0   \n",
       "1  12.50                 1                   0  ...                        0   \n",
       "2   4.50                 0                   0  ...                        0   \n",
       "3   6.00                 1                   0  ...                        0   \n",
       "4  17.74                 1                   0  ...                        0   \n",
       "\n",
       "   Manufacturer_Nissan  Manufacturer_Porsche  Manufacturer_Renault  \\\n",
       "0                    0                     0                     0   \n",
       "1                    0                     0                     0   \n",
       "2                    0                     0                     0   \n",
       "3                    0                     0                     0   \n",
       "4                    0                     0                     0   \n",
       "\n",
       "   Manufacturer_Skoda  Manufacturer_Smart  Manufacturer_Tata  \\\n",
       "0                   0                   0                  0   \n",
       "1                   0                   0                  0   \n",
       "2                   0                   0                  0   \n",
       "3                   0                   0                  0   \n",
       "4                   0                   0                  0   \n",
       "\n",
       "   Manufacturer_Toyota  Manufacturer_Volkswagen  Manufacturer_Volvo  \n",
       "0                    0                        0                   0  \n",
       "1                    0                        0                   0  \n",
       "2                    0                        0                   0  \n",
       "3                    0                        0                   0  \n",
       "4                    0                        0                   0  \n",
       "\n",
       "[5 rows x 45 columns]"
      ]
     },
     "execution_count": 20,
     "metadata": {},
     "output_type": "execute_result"
    }
   ],
   "source": [
    "data.head()"
   ]
  },
  {
   "cell_type": "code",
   "execution_count": 21,
   "id": "0c5e1f05",
   "metadata": {},
   "outputs": [
    {
     "data": {
      "text/plain": [
       "2"
      ]
     },
     "execution_count": 21,
     "metadata": {},
     "output_type": "execute_result"
    }
   ],
   "source": [
    "data.Mileage.isnull().sum()"
   ]
  },
  {
   "cell_type": "code",
   "execution_count": 22,
   "id": "56fa2fbd",
   "metadata": {},
   "outputs": [],
   "source": [
    "\n",
    "data['Mileage']=pd.to_numeric(data.Mileage,errors=\"coerce\")"
   ]
  },
  {
   "cell_type": "code",
   "execution_count": 23,
   "id": "e4242b1b",
   "metadata": {},
   "outputs": [
    {
     "data": {
      "text/plain": [
       "2"
      ]
     },
     "execution_count": 23,
     "metadata": {},
     "output_type": "execute_result"
    }
   ],
   "source": [
    "data.Mileage.isnull().sum()"
   ]
  },
  {
   "cell_type": "code",
   "execution_count": 24,
   "id": "8362d44e",
   "metadata": {},
   "outputs": [],
   "source": [
    "data.Mileage.fillna(data.Mileage.mean(),inplace=True)"
   ]
  },
  {
   "cell_type": "code",
   "execution_count": 25,
   "id": "48ab3d02",
   "metadata": {},
   "outputs": [
    {
     "data": {
      "text/plain": [
       "0"
      ]
     },
     "execution_count": 25,
     "metadata": {},
     "output_type": "execute_result"
    }
   ],
   "source": [
    "data.Mileage.isnull().sum()"
   ]
  },
  {
   "cell_type": "code",
   "execution_count": 26,
   "id": "da118f36",
   "metadata": {},
   "outputs": [
    {
     "data": {
      "text/plain": [
       "dtype('float64')"
      ]
     },
     "execution_count": 26,
     "metadata": {},
     "output_type": "execute_result"
    }
   ],
   "source": [
    "data.Mileage.dtype"
   ]
  },
  {
   "cell_type": "raw",
   "id": "f06c5b20",
   "metadata": {},
   "source": [
    "4.4 Process the 'Engine', 'Power', and 'Seats' columns by removing units, converting to numeric, and handling missing values."
   ]
  },
  {
   "cell_type": "code",
   "execution_count": 27,
   "id": "1534d6d2",
   "metadata": {},
   "outputs": [],
   "source": [
    "data['Engine']=data.Engine.str.split(expand=True)[0]"
   ]
  },
  {
   "cell_type": "code",
   "execution_count": 28,
   "id": "b85d1cfc",
   "metadata": {},
   "outputs": [
    {
     "data": {
      "text/html": [
       "<div>\n",
       "<style scoped>\n",
       "    .dataframe tbody tr th:only-of-type {\n",
       "        vertical-align: middle;\n",
       "    }\n",
       "\n",
       "    .dataframe tbody tr th {\n",
       "        vertical-align: top;\n",
       "    }\n",
       "\n",
       "    .dataframe thead th {\n",
       "        text-align: right;\n",
       "    }\n",
       "</style>\n",
       "<table border=\"1\" class=\"dataframe\">\n",
       "  <thead>\n",
       "    <tr style=\"text-align: right;\">\n",
       "      <th></th>\n",
       "      <th>Year</th>\n",
       "      <th>Kilometers_Driven</th>\n",
       "      <th>Mileage</th>\n",
       "      <th>Engine</th>\n",
       "      <th>Power</th>\n",
       "      <th>Seats</th>\n",
       "      <th>New_Price</th>\n",
       "      <th>Price</th>\n",
       "      <th>Fuel_Type_Diesel</th>\n",
       "      <th>Fuel_Type_Electric</th>\n",
       "      <th>...</th>\n",
       "      <th>Manufacturer_Mitsubishi</th>\n",
       "      <th>Manufacturer_Nissan</th>\n",
       "      <th>Manufacturer_Porsche</th>\n",
       "      <th>Manufacturer_Renault</th>\n",
       "      <th>Manufacturer_Skoda</th>\n",
       "      <th>Manufacturer_Smart</th>\n",
       "      <th>Manufacturer_Tata</th>\n",
       "      <th>Manufacturer_Toyota</th>\n",
       "      <th>Manufacturer_Volkswagen</th>\n",
       "      <th>Manufacturer_Volvo</th>\n",
       "    </tr>\n",
       "  </thead>\n",
       "  <tbody>\n",
       "    <tr>\n",
       "      <th>0</th>\n",
       "      <td>2010</td>\n",
       "      <td>72000</td>\n",
       "      <td>26.60</td>\n",
       "      <td>998</td>\n",
       "      <td>58.16 bhp</td>\n",
       "      <td>5.0</td>\n",
       "      <td>NaN</td>\n",
       "      <td>1.75</td>\n",
       "      <td>0</td>\n",
       "      <td>0</td>\n",
       "      <td>...</td>\n",
       "      <td>0</td>\n",
       "      <td>0</td>\n",
       "      <td>0</td>\n",
       "      <td>0</td>\n",
       "      <td>0</td>\n",
       "      <td>0</td>\n",
       "      <td>0</td>\n",
       "      <td>0</td>\n",
       "      <td>0</td>\n",
       "      <td>0</td>\n",
       "    </tr>\n",
       "    <tr>\n",
       "      <th>1</th>\n",
       "      <td>2015</td>\n",
       "      <td>41000</td>\n",
       "      <td>19.67</td>\n",
       "      <td>1582</td>\n",
       "      <td>126.2 bhp</td>\n",
       "      <td>5.0</td>\n",
       "      <td>NaN</td>\n",
       "      <td>12.50</td>\n",
       "      <td>1</td>\n",
       "      <td>0</td>\n",
       "      <td>...</td>\n",
       "      <td>0</td>\n",
       "      <td>0</td>\n",
       "      <td>0</td>\n",
       "      <td>0</td>\n",
       "      <td>0</td>\n",
       "      <td>0</td>\n",
       "      <td>0</td>\n",
       "      <td>0</td>\n",
       "      <td>0</td>\n",
       "      <td>0</td>\n",
       "    </tr>\n",
       "    <tr>\n",
       "      <th>2</th>\n",
       "      <td>2011</td>\n",
       "      <td>46000</td>\n",
       "      <td>18.20</td>\n",
       "      <td>1199</td>\n",
       "      <td>88.7 bhp</td>\n",
       "      <td>5.0</td>\n",
       "      <td>8.61 Lakh</td>\n",
       "      <td>4.50</td>\n",
       "      <td>0</td>\n",
       "      <td>0</td>\n",
       "      <td>...</td>\n",
       "      <td>0</td>\n",
       "      <td>0</td>\n",
       "      <td>0</td>\n",
       "      <td>0</td>\n",
       "      <td>0</td>\n",
       "      <td>0</td>\n",
       "      <td>0</td>\n",
       "      <td>0</td>\n",
       "      <td>0</td>\n",
       "      <td>0</td>\n",
       "    </tr>\n",
       "    <tr>\n",
       "      <th>3</th>\n",
       "      <td>2012</td>\n",
       "      <td>87000</td>\n",
       "      <td>20.77</td>\n",
       "      <td>1248</td>\n",
       "      <td>88.76 bhp</td>\n",
       "      <td>7.0</td>\n",
       "      <td>NaN</td>\n",
       "      <td>6.00</td>\n",
       "      <td>1</td>\n",
       "      <td>0</td>\n",
       "      <td>...</td>\n",
       "      <td>0</td>\n",
       "      <td>0</td>\n",
       "      <td>0</td>\n",
       "      <td>0</td>\n",
       "      <td>0</td>\n",
       "      <td>0</td>\n",
       "      <td>0</td>\n",
       "      <td>0</td>\n",
       "      <td>0</td>\n",
       "      <td>0</td>\n",
       "    </tr>\n",
       "    <tr>\n",
       "      <th>4</th>\n",
       "      <td>2013</td>\n",
       "      <td>40670</td>\n",
       "      <td>15.20</td>\n",
       "      <td>1968</td>\n",
       "      <td>140.8 bhp</td>\n",
       "      <td>5.0</td>\n",
       "      <td>NaN</td>\n",
       "      <td>17.74</td>\n",
       "      <td>1</td>\n",
       "      <td>0</td>\n",
       "      <td>...</td>\n",
       "      <td>0</td>\n",
       "      <td>0</td>\n",
       "      <td>0</td>\n",
       "      <td>0</td>\n",
       "      <td>0</td>\n",
       "      <td>0</td>\n",
       "      <td>0</td>\n",
       "      <td>0</td>\n",
       "      <td>0</td>\n",
       "      <td>0</td>\n",
       "    </tr>\n",
       "  </tbody>\n",
       "</table>\n",
       "<p>5 rows × 45 columns</p>\n",
       "</div>"
      ],
      "text/plain": [
       "   Year  Kilometers_Driven  Mileage Engine      Power  Seats  New_Price  \\\n",
       "0  2010              72000    26.60    998  58.16 bhp    5.0        NaN   \n",
       "1  2015              41000    19.67   1582  126.2 bhp    5.0        NaN   \n",
       "2  2011              46000    18.20   1199   88.7 bhp    5.0  8.61 Lakh   \n",
       "3  2012              87000    20.77   1248  88.76 bhp    7.0        NaN   \n",
       "4  2013              40670    15.20   1968  140.8 bhp    5.0        NaN   \n",
       "\n",
       "   Price  Fuel_Type_Diesel  Fuel_Type_Electric  ...  Manufacturer_Mitsubishi  \\\n",
       "0   1.75                 0                   0  ...                        0   \n",
       "1  12.50                 1                   0  ...                        0   \n",
       "2   4.50                 0                   0  ...                        0   \n",
       "3   6.00                 1                   0  ...                        0   \n",
       "4  17.74                 1                   0  ...                        0   \n",
       "\n",
       "   Manufacturer_Nissan  Manufacturer_Porsche  Manufacturer_Renault  \\\n",
       "0                    0                     0                     0   \n",
       "1                    0                     0                     0   \n",
       "2                    0                     0                     0   \n",
       "3                    0                     0                     0   \n",
       "4                    0                     0                     0   \n",
       "\n",
       "   Manufacturer_Skoda  Manufacturer_Smart  Manufacturer_Tata  \\\n",
       "0                   0                   0                  0   \n",
       "1                   0                   0                  0   \n",
       "2                   0                   0                  0   \n",
       "3                   0                   0                  0   \n",
       "4                   0                   0                  0   \n",
       "\n",
       "   Manufacturer_Toyota  Manufacturer_Volkswagen  Manufacturer_Volvo  \n",
       "0                    0                        0                   0  \n",
       "1                    0                        0                   0  \n",
       "2                    0                        0                   0  \n",
       "3                    0                        0                   0  \n",
       "4                    0                        0                   0  \n",
       "\n",
       "[5 rows x 45 columns]"
      ]
     },
     "execution_count": 28,
     "metadata": {},
     "output_type": "execute_result"
    }
   ],
   "source": [
    "data.head()"
   ]
  },
  {
   "cell_type": "code",
   "execution_count": 29,
   "id": "091a471d",
   "metadata": {},
   "outputs": [],
   "source": [
    "data['Engine']=pd.to_numeric(data.Engine,errors=\"coerce\")"
   ]
  },
  {
   "cell_type": "code",
   "execution_count": 30,
   "id": "1186112e",
   "metadata": {},
   "outputs": [
    {
     "data": {
      "text/plain": [
       "36"
      ]
     },
     "execution_count": 30,
     "metadata": {},
     "output_type": "execute_result"
    }
   ],
   "source": [
    "data.Engine.isnull().sum()"
   ]
  },
  {
   "cell_type": "code",
   "execution_count": 31,
   "id": "047850e5",
   "metadata": {},
   "outputs": [],
   "source": [
    "data.Engine.fillna(data.Engine.mean(),inplace=True)"
   ]
  },
  {
   "cell_type": "code",
   "execution_count": 32,
   "id": "79103e42",
   "metadata": {},
   "outputs": [
    {
     "data": {
      "text/plain": [
       "0"
      ]
     },
     "execution_count": 32,
     "metadata": {},
     "output_type": "execute_result"
    }
   ],
   "source": [
    "data.Engine.isnull().sum()"
   ]
  },
  {
   "cell_type": "code",
   "execution_count": 33,
   "id": "89b3b81f",
   "metadata": {},
   "outputs": [],
   "source": [
    "data['Power']=data.Power.str.split(expand=True)[0]"
   ]
  },
  {
   "cell_type": "code",
   "execution_count": 34,
   "id": "7108758b",
   "metadata": {},
   "outputs": [],
   "source": [
    "data['Power']=pd.to_numeric(data.Power,errors=\"coerce\")"
   ]
  },
  {
   "cell_type": "code",
   "execution_count": 35,
   "id": "3c240ba0",
   "metadata": {},
   "outputs": [
    {
     "data": {
      "text/plain": [
       "143"
      ]
     },
     "execution_count": 35,
     "metadata": {},
     "output_type": "execute_result"
    }
   ],
   "source": [
    "data.Power.isnull().sum()"
   ]
  },
  {
   "cell_type": "code",
   "execution_count": 36,
   "id": "b6f9a2e4",
   "metadata": {},
   "outputs": [],
   "source": [
    "data.Power.fillna(data.Power.mean(),inplace=True)"
   ]
  },
  {
   "cell_type": "code",
   "execution_count": 37,
   "id": "cb227ad1",
   "metadata": {},
   "outputs": [
    {
     "data": {
      "text/plain": [
       "0"
      ]
     },
     "execution_count": 37,
     "metadata": {},
     "output_type": "execute_result"
    }
   ],
   "source": [
    "data.Power.isnull().sum()"
   ]
  },
  {
   "cell_type": "code",
   "execution_count": 38,
   "id": "7513a873",
   "metadata": {},
   "outputs": [
    {
     "data": {
      "text/plain": [
       "42"
      ]
     },
     "execution_count": 38,
     "metadata": {},
     "output_type": "execute_result"
    }
   ],
   "source": [
    "data.Seats.isnull().sum()"
   ]
  },
  {
   "cell_type": "code",
   "execution_count": 39,
   "id": "44dad65f",
   "metadata": {},
   "outputs": [],
   "source": [
    "data.Seats.fillna(data.Seats.mean(),inplace=True)"
   ]
  },
  {
   "cell_type": "code",
   "execution_count": 40,
   "id": "9ccf6337",
   "metadata": {},
   "outputs": [
    {
     "data": {
      "text/plain": [
       "0"
      ]
     },
     "execution_count": 40,
     "metadata": {},
     "output_type": "execute_result"
    }
   ],
   "source": [
    "data.Seats.isnull().sum()"
   ]
  },
  {
   "cell_type": "code",
   "execution_count": 41,
   "id": "118737b3",
   "metadata": {},
   "outputs": [
    {
     "name": "stdout",
     "output_type": "stream",
     "text": [
      "<class 'pandas.core.frame.DataFrame'>\n",
      "RangeIndex: 6019 entries, 0 to 6018\n",
      "Data columns (total 45 columns):\n",
      " #   Column                      Non-Null Count  Dtype  \n",
      "---  ------                      --------------  -----  \n",
      " 0   Year                        6019 non-null   int64  \n",
      " 1   Kilometers_Driven           6019 non-null   int64  \n",
      " 2   Mileage                     6019 non-null   float64\n",
      " 3   Engine                      6019 non-null   float64\n",
      " 4   Power                       6019 non-null   float64\n",
      " 5   Seats                       6019 non-null   float64\n",
      " 6   New_Price                   824 non-null    object \n",
      " 7   Price                       6019 non-null   float64\n",
      " 8   Fuel_Type_Diesel            6019 non-null   uint8  \n",
      " 9   Fuel_Type_Electric          6019 non-null   uint8  \n",
      " 10  Fuel_Type_LPG               6019 non-null   uint8  \n",
      " 11  Fuel_Type_Petrol            6019 non-null   uint8  \n",
      " 12  Transmission_Manual         6019 non-null   uint8  \n",
      " 13  Owner_Type_Fourth & Above   6019 non-null   uint8  \n",
      " 14  Owner_Type_Second           6019 non-null   uint8  \n",
      " 15  Owner_Type_Third            6019 non-null   uint8  \n",
      " 16  Manufacturer_Audi           6019 non-null   uint8  \n",
      " 17  Manufacturer_BMW            6019 non-null   uint8  \n",
      " 18  Manufacturer_Bentley        6019 non-null   uint8  \n",
      " 19  Manufacturer_Chevrolet      6019 non-null   uint8  \n",
      " 20  Manufacturer_Datsun         6019 non-null   uint8  \n",
      " 21  Manufacturer_Fiat           6019 non-null   uint8  \n",
      " 22  Manufacturer_Force          6019 non-null   uint8  \n",
      " 23  Manufacturer_Ford           6019 non-null   uint8  \n",
      " 24  Manufacturer_Honda          6019 non-null   uint8  \n",
      " 25  Manufacturer_Hyundai        6019 non-null   uint8  \n",
      " 26  Manufacturer_ISUZU          6019 non-null   uint8  \n",
      " 27  Manufacturer_Jaguar         6019 non-null   uint8  \n",
      " 28  Manufacturer_Jeep           6019 non-null   uint8  \n",
      " 29  Manufacturer_Lamborghini    6019 non-null   uint8  \n",
      " 30  Manufacturer_Land           6019 non-null   uint8  \n",
      " 31  Manufacturer_Mahindra       6019 non-null   uint8  \n",
      " 32  Manufacturer_Maruti         6019 non-null   uint8  \n",
      " 33  Manufacturer_Mercedes-Benz  6019 non-null   uint8  \n",
      " 34  Manufacturer_Mini           6019 non-null   uint8  \n",
      " 35  Manufacturer_Mitsubishi     6019 non-null   uint8  \n",
      " 36  Manufacturer_Nissan         6019 non-null   uint8  \n",
      " 37  Manufacturer_Porsche        6019 non-null   uint8  \n",
      " 38  Manufacturer_Renault        6019 non-null   uint8  \n",
      " 39  Manufacturer_Skoda          6019 non-null   uint8  \n",
      " 40  Manufacturer_Smart          6019 non-null   uint8  \n",
      " 41  Manufacturer_Tata           6019 non-null   uint8  \n",
      " 42  Manufacturer_Toyota         6019 non-null   uint8  \n",
      " 43  Manufacturer_Volkswagen     6019 non-null   uint8  \n",
      " 44  Manufacturer_Volvo          6019 non-null   uint8  \n",
      "dtypes: float64(5), int64(2), object(1), uint8(37)\n",
      "memory usage: 593.8+ KB\n"
     ]
    }
   ],
   "source": [
    "data.info()"
   ]
  },
  {
   "cell_type": "raw",
   "id": "11399ac9",
   "metadata": {},
   "source": [
    "4.5 Drop the 'New_Price' column due to a high number of missing values."
   ]
  },
  {
   "cell_type": "code",
   "execution_count": 42,
   "id": "765ffe41",
   "metadata": {},
   "outputs": [],
   "source": [
    "data.drop('New_Price',axis=1,inplace=True )"
   ]
  },
  {
   "cell_type": "code",
   "execution_count": 43,
   "id": "4af2e9b2",
   "metadata": {},
   "outputs": [
    {
     "name": "stdout",
     "output_type": "stream",
     "text": [
      "<class 'pandas.core.frame.DataFrame'>\n",
      "RangeIndex: 6019 entries, 0 to 6018\n",
      "Data columns (total 44 columns):\n",
      " #   Column                      Non-Null Count  Dtype  \n",
      "---  ------                      --------------  -----  \n",
      " 0   Year                        6019 non-null   int64  \n",
      " 1   Kilometers_Driven           6019 non-null   int64  \n",
      " 2   Mileage                     6019 non-null   float64\n",
      " 3   Engine                      6019 non-null   float64\n",
      " 4   Power                       6019 non-null   float64\n",
      " 5   Seats                       6019 non-null   float64\n",
      " 6   Price                       6019 non-null   float64\n",
      " 7   Fuel_Type_Diesel            6019 non-null   uint8  \n",
      " 8   Fuel_Type_Electric          6019 non-null   uint8  \n",
      " 9   Fuel_Type_LPG               6019 non-null   uint8  \n",
      " 10  Fuel_Type_Petrol            6019 non-null   uint8  \n",
      " 11  Transmission_Manual         6019 non-null   uint8  \n",
      " 12  Owner_Type_Fourth & Above   6019 non-null   uint8  \n",
      " 13  Owner_Type_Second           6019 non-null   uint8  \n",
      " 14  Owner_Type_Third            6019 non-null   uint8  \n",
      " 15  Manufacturer_Audi           6019 non-null   uint8  \n",
      " 16  Manufacturer_BMW            6019 non-null   uint8  \n",
      " 17  Manufacturer_Bentley        6019 non-null   uint8  \n",
      " 18  Manufacturer_Chevrolet      6019 non-null   uint8  \n",
      " 19  Manufacturer_Datsun         6019 non-null   uint8  \n",
      " 20  Manufacturer_Fiat           6019 non-null   uint8  \n",
      " 21  Manufacturer_Force          6019 non-null   uint8  \n",
      " 22  Manufacturer_Ford           6019 non-null   uint8  \n",
      " 23  Manufacturer_Honda          6019 non-null   uint8  \n",
      " 24  Manufacturer_Hyundai        6019 non-null   uint8  \n",
      " 25  Manufacturer_ISUZU          6019 non-null   uint8  \n",
      " 26  Manufacturer_Jaguar         6019 non-null   uint8  \n",
      " 27  Manufacturer_Jeep           6019 non-null   uint8  \n",
      " 28  Manufacturer_Lamborghini    6019 non-null   uint8  \n",
      " 29  Manufacturer_Land           6019 non-null   uint8  \n",
      " 30  Manufacturer_Mahindra       6019 non-null   uint8  \n",
      " 31  Manufacturer_Maruti         6019 non-null   uint8  \n",
      " 32  Manufacturer_Mercedes-Benz  6019 non-null   uint8  \n",
      " 33  Manufacturer_Mini           6019 non-null   uint8  \n",
      " 34  Manufacturer_Mitsubishi     6019 non-null   uint8  \n",
      " 35  Manufacturer_Nissan         6019 non-null   uint8  \n",
      " 36  Manufacturer_Porsche        6019 non-null   uint8  \n",
      " 37  Manufacturer_Renault        6019 non-null   uint8  \n",
      " 38  Manufacturer_Skoda          6019 non-null   uint8  \n",
      " 39  Manufacturer_Smart          6019 non-null   uint8  \n",
      " 40  Manufacturer_Tata           6019 non-null   uint8  \n",
      " 41  Manufacturer_Toyota         6019 non-null   uint8  \n",
      " 42  Manufacturer_Volkswagen     6019 non-null   uint8  \n",
      " 43  Manufacturer_Volvo          6019 non-null   uint8  \n",
      "dtypes: float64(5), int64(2), uint8(37)\n",
      "memory usage: 546.8 KB\n"
     ]
    }
   ],
   "source": [
    "data.info()"
   ]
  },
  {
   "cell_type": "code",
   "execution_count": 44,
   "id": "0ffd4410",
   "metadata": {},
   "outputs": [
    {
     "data": {
      "text/html": [
       "<div>\n",
       "<style scoped>\n",
       "    .dataframe tbody tr th:only-of-type {\n",
       "        vertical-align: middle;\n",
       "    }\n",
       "\n",
       "    .dataframe tbody tr th {\n",
       "        vertical-align: top;\n",
       "    }\n",
       "\n",
       "    .dataframe thead th {\n",
       "        text-align: right;\n",
       "    }\n",
       "</style>\n",
       "<table border=\"1\" class=\"dataframe\">\n",
       "  <thead>\n",
       "    <tr style=\"text-align: right;\">\n",
       "      <th></th>\n",
       "      <th>Year</th>\n",
       "      <th>Kilometers_Driven</th>\n",
       "      <th>Mileage</th>\n",
       "      <th>Engine</th>\n",
       "      <th>Power</th>\n",
       "      <th>Seats</th>\n",
       "      <th>Price</th>\n",
       "      <th>Fuel_Type_Diesel</th>\n",
       "      <th>Fuel_Type_Electric</th>\n",
       "      <th>Fuel_Type_LPG</th>\n",
       "      <th>...</th>\n",
       "      <th>Manufacturer_Mitsubishi</th>\n",
       "      <th>Manufacturer_Nissan</th>\n",
       "      <th>Manufacturer_Porsche</th>\n",
       "      <th>Manufacturer_Renault</th>\n",
       "      <th>Manufacturer_Skoda</th>\n",
       "      <th>Manufacturer_Smart</th>\n",
       "      <th>Manufacturer_Tata</th>\n",
       "      <th>Manufacturer_Toyota</th>\n",
       "      <th>Manufacturer_Volkswagen</th>\n",
       "      <th>Manufacturer_Volvo</th>\n",
       "    </tr>\n",
       "  </thead>\n",
       "  <tbody>\n",
       "    <tr>\n",
       "      <th>0</th>\n",
       "      <td>2010</td>\n",
       "      <td>72000</td>\n",
       "      <td>26.60</td>\n",
       "      <td>998.0</td>\n",
       "      <td>58.16</td>\n",
       "      <td>5.0</td>\n",
       "      <td>1.75</td>\n",
       "      <td>0</td>\n",
       "      <td>0</td>\n",
       "      <td>0</td>\n",
       "      <td>...</td>\n",
       "      <td>0</td>\n",
       "      <td>0</td>\n",
       "      <td>0</td>\n",
       "      <td>0</td>\n",
       "      <td>0</td>\n",
       "      <td>0</td>\n",
       "      <td>0</td>\n",
       "      <td>0</td>\n",
       "      <td>0</td>\n",
       "      <td>0</td>\n",
       "    </tr>\n",
       "    <tr>\n",
       "      <th>1</th>\n",
       "      <td>2015</td>\n",
       "      <td>41000</td>\n",
       "      <td>19.67</td>\n",
       "      <td>1582.0</td>\n",
       "      <td>126.20</td>\n",
       "      <td>5.0</td>\n",
       "      <td>12.50</td>\n",
       "      <td>1</td>\n",
       "      <td>0</td>\n",
       "      <td>0</td>\n",
       "      <td>...</td>\n",
       "      <td>0</td>\n",
       "      <td>0</td>\n",
       "      <td>0</td>\n",
       "      <td>0</td>\n",
       "      <td>0</td>\n",
       "      <td>0</td>\n",
       "      <td>0</td>\n",
       "      <td>0</td>\n",
       "      <td>0</td>\n",
       "      <td>0</td>\n",
       "    </tr>\n",
       "    <tr>\n",
       "      <th>2</th>\n",
       "      <td>2011</td>\n",
       "      <td>46000</td>\n",
       "      <td>18.20</td>\n",
       "      <td>1199.0</td>\n",
       "      <td>88.70</td>\n",
       "      <td>5.0</td>\n",
       "      <td>4.50</td>\n",
       "      <td>0</td>\n",
       "      <td>0</td>\n",
       "      <td>0</td>\n",
       "      <td>...</td>\n",
       "      <td>0</td>\n",
       "      <td>0</td>\n",
       "      <td>0</td>\n",
       "      <td>0</td>\n",
       "      <td>0</td>\n",
       "      <td>0</td>\n",
       "      <td>0</td>\n",
       "      <td>0</td>\n",
       "      <td>0</td>\n",
       "      <td>0</td>\n",
       "    </tr>\n",
       "    <tr>\n",
       "      <th>3</th>\n",
       "      <td>2012</td>\n",
       "      <td>87000</td>\n",
       "      <td>20.77</td>\n",
       "      <td>1248.0</td>\n",
       "      <td>88.76</td>\n",
       "      <td>7.0</td>\n",
       "      <td>6.00</td>\n",
       "      <td>1</td>\n",
       "      <td>0</td>\n",
       "      <td>0</td>\n",
       "      <td>...</td>\n",
       "      <td>0</td>\n",
       "      <td>0</td>\n",
       "      <td>0</td>\n",
       "      <td>0</td>\n",
       "      <td>0</td>\n",
       "      <td>0</td>\n",
       "      <td>0</td>\n",
       "      <td>0</td>\n",
       "      <td>0</td>\n",
       "      <td>0</td>\n",
       "    </tr>\n",
       "    <tr>\n",
       "      <th>4</th>\n",
       "      <td>2013</td>\n",
       "      <td>40670</td>\n",
       "      <td>15.20</td>\n",
       "      <td>1968.0</td>\n",
       "      <td>140.80</td>\n",
       "      <td>5.0</td>\n",
       "      <td>17.74</td>\n",
       "      <td>1</td>\n",
       "      <td>0</td>\n",
       "      <td>0</td>\n",
       "      <td>...</td>\n",
       "      <td>0</td>\n",
       "      <td>0</td>\n",
       "      <td>0</td>\n",
       "      <td>0</td>\n",
       "      <td>0</td>\n",
       "      <td>0</td>\n",
       "      <td>0</td>\n",
       "      <td>0</td>\n",
       "      <td>0</td>\n",
       "      <td>0</td>\n",
       "    </tr>\n",
       "  </tbody>\n",
       "</table>\n",
       "<p>5 rows × 44 columns</p>\n",
       "</div>"
      ],
      "text/plain": [
       "   Year  Kilometers_Driven  Mileage  Engine   Power  Seats  Price  \\\n",
       "0  2010              72000    26.60   998.0   58.16    5.0   1.75   \n",
       "1  2015              41000    19.67  1582.0  126.20    5.0  12.50   \n",
       "2  2011              46000    18.20  1199.0   88.70    5.0   4.50   \n",
       "3  2012              87000    20.77  1248.0   88.76    7.0   6.00   \n",
       "4  2013              40670    15.20  1968.0  140.80    5.0  17.74   \n",
       "\n",
       "   Fuel_Type_Diesel  Fuel_Type_Electric  Fuel_Type_LPG  ...  \\\n",
       "0                 0                   0              0  ...   \n",
       "1                 1                   0              0  ...   \n",
       "2                 0                   0              0  ...   \n",
       "3                 1                   0              0  ...   \n",
       "4                 1                   0              0  ...   \n",
       "\n",
       "   Manufacturer_Mitsubishi  Manufacturer_Nissan  Manufacturer_Porsche  \\\n",
       "0                        0                    0                     0   \n",
       "1                        0                    0                     0   \n",
       "2                        0                    0                     0   \n",
       "3                        0                    0                     0   \n",
       "4                        0                    0                     0   \n",
       "\n",
       "   Manufacturer_Renault  Manufacturer_Skoda  Manufacturer_Smart  \\\n",
       "0                     0                   0                   0   \n",
       "1                     0                   0                   0   \n",
       "2                     0                   0                   0   \n",
       "3                     0                   0                   0   \n",
       "4                     0                   0                   0   \n",
       "\n",
       "   Manufacturer_Tata  Manufacturer_Toyota  Manufacturer_Volkswagen  \\\n",
       "0                  0                    0                        0   \n",
       "1                  0                    0                        0   \n",
       "2                  0                    0                        0   \n",
       "3                  0                    0                        0   \n",
       "4                  0                    0                        0   \n",
       "\n",
       "   Manufacturer_Volvo  \n",
       "0                   0  \n",
       "1                   0  \n",
       "2                   0  \n",
       "3                   0  \n",
       "4                   0  \n",
       "\n",
       "[5 rows x 44 columns]"
      ]
     },
     "execution_count": 44,
     "metadata": {},
     "output_type": "execute_result"
    }
   ],
   "source": [
    "data.head()"
   ]
  },
  {
   "cell_type": "code",
   "execution_count": 45,
   "id": "13a7ca16",
   "metadata": {},
   "outputs": [],
   "source": [
    "import datetime\n"
   ]
  },
  {
   "cell_type": "code",
   "execution_count": 46,
   "id": "10806e24",
   "metadata": {},
   "outputs": [],
   "source": [
    "curr_year=datetime.datetime.now().year"
   ]
  },
  {
   "cell_type": "code",
   "execution_count": 47,
   "id": "bc4ab40f",
   "metadata": {},
   "outputs": [],
   "source": [
    "data['Car_Age']=curr_year-data.Year"
   ]
  },
  {
   "cell_type": "code",
   "execution_count": 48,
   "id": "3576ccba",
   "metadata": {},
   "outputs": [],
   "source": [
    "data.drop(\"Year\",axis=1,inplace=True)"
   ]
  },
  {
   "cell_type": "code",
   "execution_count": 49,
   "id": "46715e1e",
   "metadata": {},
   "outputs": [
    {
     "data": {
      "text/html": [
       "<div>\n",
       "<style scoped>\n",
       "    .dataframe tbody tr th:only-of-type {\n",
       "        vertical-align: middle;\n",
       "    }\n",
       "\n",
       "    .dataframe tbody tr th {\n",
       "        vertical-align: top;\n",
       "    }\n",
       "\n",
       "    .dataframe thead th {\n",
       "        text-align: right;\n",
       "    }\n",
       "</style>\n",
       "<table border=\"1\" class=\"dataframe\">\n",
       "  <thead>\n",
       "    <tr style=\"text-align: right;\">\n",
       "      <th></th>\n",
       "      <th>Kilometers_Driven</th>\n",
       "      <th>Mileage</th>\n",
       "      <th>Engine</th>\n",
       "      <th>Power</th>\n",
       "      <th>Seats</th>\n",
       "      <th>Price</th>\n",
       "      <th>Fuel_Type_Diesel</th>\n",
       "      <th>Fuel_Type_Electric</th>\n",
       "      <th>Fuel_Type_LPG</th>\n",
       "      <th>Fuel_Type_Petrol</th>\n",
       "      <th>...</th>\n",
       "      <th>Manufacturer_Nissan</th>\n",
       "      <th>Manufacturer_Porsche</th>\n",
       "      <th>Manufacturer_Renault</th>\n",
       "      <th>Manufacturer_Skoda</th>\n",
       "      <th>Manufacturer_Smart</th>\n",
       "      <th>Manufacturer_Tata</th>\n",
       "      <th>Manufacturer_Toyota</th>\n",
       "      <th>Manufacturer_Volkswagen</th>\n",
       "      <th>Manufacturer_Volvo</th>\n",
       "      <th>Car_Age</th>\n",
       "    </tr>\n",
       "  </thead>\n",
       "  <tbody>\n",
       "    <tr>\n",
       "      <th>0</th>\n",
       "      <td>72000</td>\n",
       "      <td>26.60</td>\n",
       "      <td>998.0</td>\n",
       "      <td>58.16</td>\n",
       "      <td>5.0</td>\n",
       "      <td>1.75</td>\n",
       "      <td>0</td>\n",
       "      <td>0</td>\n",
       "      <td>0</td>\n",
       "      <td>0</td>\n",
       "      <td>...</td>\n",
       "      <td>0</td>\n",
       "      <td>0</td>\n",
       "      <td>0</td>\n",
       "      <td>0</td>\n",
       "      <td>0</td>\n",
       "      <td>0</td>\n",
       "      <td>0</td>\n",
       "      <td>0</td>\n",
       "      <td>0</td>\n",
       "      <td>13</td>\n",
       "    </tr>\n",
       "    <tr>\n",
       "      <th>1</th>\n",
       "      <td>41000</td>\n",
       "      <td>19.67</td>\n",
       "      <td>1582.0</td>\n",
       "      <td>126.20</td>\n",
       "      <td>5.0</td>\n",
       "      <td>12.50</td>\n",
       "      <td>1</td>\n",
       "      <td>0</td>\n",
       "      <td>0</td>\n",
       "      <td>0</td>\n",
       "      <td>...</td>\n",
       "      <td>0</td>\n",
       "      <td>0</td>\n",
       "      <td>0</td>\n",
       "      <td>0</td>\n",
       "      <td>0</td>\n",
       "      <td>0</td>\n",
       "      <td>0</td>\n",
       "      <td>0</td>\n",
       "      <td>0</td>\n",
       "      <td>8</td>\n",
       "    </tr>\n",
       "    <tr>\n",
       "      <th>2</th>\n",
       "      <td>46000</td>\n",
       "      <td>18.20</td>\n",
       "      <td>1199.0</td>\n",
       "      <td>88.70</td>\n",
       "      <td>5.0</td>\n",
       "      <td>4.50</td>\n",
       "      <td>0</td>\n",
       "      <td>0</td>\n",
       "      <td>0</td>\n",
       "      <td>1</td>\n",
       "      <td>...</td>\n",
       "      <td>0</td>\n",
       "      <td>0</td>\n",
       "      <td>0</td>\n",
       "      <td>0</td>\n",
       "      <td>0</td>\n",
       "      <td>0</td>\n",
       "      <td>0</td>\n",
       "      <td>0</td>\n",
       "      <td>0</td>\n",
       "      <td>12</td>\n",
       "    </tr>\n",
       "    <tr>\n",
       "      <th>3</th>\n",
       "      <td>87000</td>\n",
       "      <td>20.77</td>\n",
       "      <td>1248.0</td>\n",
       "      <td>88.76</td>\n",
       "      <td>7.0</td>\n",
       "      <td>6.00</td>\n",
       "      <td>1</td>\n",
       "      <td>0</td>\n",
       "      <td>0</td>\n",
       "      <td>0</td>\n",
       "      <td>...</td>\n",
       "      <td>0</td>\n",
       "      <td>0</td>\n",
       "      <td>0</td>\n",
       "      <td>0</td>\n",
       "      <td>0</td>\n",
       "      <td>0</td>\n",
       "      <td>0</td>\n",
       "      <td>0</td>\n",
       "      <td>0</td>\n",
       "      <td>11</td>\n",
       "    </tr>\n",
       "    <tr>\n",
       "      <th>4</th>\n",
       "      <td>40670</td>\n",
       "      <td>15.20</td>\n",
       "      <td>1968.0</td>\n",
       "      <td>140.80</td>\n",
       "      <td>5.0</td>\n",
       "      <td>17.74</td>\n",
       "      <td>1</td>\n",
       "      <td>0</td>\n",
       "      <td>0</td>\n",
       "      <td>0</td>\n",
       "      <td>...</td>\n",
       "      <td>0</td>\n",
       "      <td>0</td>\n",
       "      <td>0</td>\n",
       "      <td>0</td>\n",
       "      <td>0</td>\n",
       "      <td>0</td>\n",
       "      <td>0</td>\n",
       "      <td>0</td>\n",
       "      <td>0</td>\n",
       "      <td>10</td>\n",
       "    </tr>\n",
       "  </tbody>\n",
       "</table>\n",
       "<p>5 rows × 44 columns</p>\n",
       "</div>"
      ],
      "text/plain": [
       "   Kilometers_Driven  Mileage  Engine   Power  Seats  Price  Fuel_Type_Diesel  \\\n",
       "0              72000    26.60   998.0   58.16    5.0   1.75                 0   \n",
       "1              41000    19.67  1582.0  126.20    5.0  12.50                 1   \n",
       "2              46000    18.20  1199.0   88.70    5.0   4.50                 0   \n",
       "3              87000    20.77  1248.0   88.76    7.0   6.00                 1   \n",
       "4              40670    15.20  1968.0  140.80    5.0  17.74                 1   \n",
       "\n",
       "   Fuel_Type_Electric  Fuel_Type_LPG  Fuel_Type_Petrol  ...  \\\n",
       "0                   0              0                 0  ...   \n",
       "1                   0              0                 0  ...   \n",
       "2                   0              0                 1  ...   \n",
       "3                   0              0                 0  ...   \n",
       "4                   0              0                 0  ...   \n",
       "\n",
       "   Manufacturer_Nissan  Manufacturer_Porsche  Manufacturer_Renault  \\\n",
       "0                    0                     0                     0   \n",
       "1                    0                     0                     0   \n",
       "2                    0                     0                     0   \n",
       "3                    0                     0                     0   \n",
       "4                    0                     0                     0   \n",
       "\n",
       "   Manufacturer_Skoda  Manufacturer_Smart  Manufacturer_Tata  \\\n",
       "0                   0                   0                  0   \n",
       "1                   0                   0                  0   \n",
       "2                   0                   0                  0   \n",
       "3                   0                   0                  0   \n",
       "4                   0                   0                  0   \n",
       "\n",
       "   Manufacturer_Toyota  Manufacturer_Volkswagen  Manufacturer_Volvo  Car_Age  \n",
       "0                    0                        0                   0       13  \n",
       "1                    0                        0                   0        8  \n",
       "2                    0                        0                   0       12  \n",
       "3                    0                        0                   0       11  \n",
       "4                    0                        0                   0       10  \n",
       "\n",
       "[5 rows x 44 columns]"
      ]
     },
     "execution_count": 49,
     "metadata": {},
     "output_type": "execute_result"
    }
   ],
   "source": [
    "data.head()"
   ]
  },
  {
   "cell_type": "code",
   "execution_count": 50,
   "id": "ba34fad4",
   "metadata": {},
   "outputs": [],
   "source": [
    "y=data['Price']"
   ]
  },
  {
   "cell_type": "code",
   "execution_count": 51,
   "id": "c255788b",
   "metadata": {},
   "outputs": [],
   "source": [
    "X=data.drop(\"Price\",axis=1)"
   ]
  },
  {
   "cell_type": "code",
   "execution_count": 52,
   "id": "3d346418",
   "metadata": {},
   "outputs": [
    {
     "data": {
      "text/html": [
       "<div>\n",
       "<style scoped>\n",
       "    .dataframe tbody tr th:only-of-type {\n",
       "        vertical-align: middle;\n",
       "    }\n",
       "\n",
       "    .dataframe tbody tr th {\n",
       "        vertical-align: top;\n",
       "    }\n",
       "\n",
       "    .dataframe thead th {\n",
       "        text-align: right;\n",
       "    }\n",
       "</style>\n",
       "<table border=\"1\" class=\"dataframe\">\n",
       "  <thead>\n",
       "    <tr style=\"text-align: right;\">\n",
       "      <th></th>\n",
       "      <th>Kilometers_Driven</th>\n",
       "      <th>Mileage</th>\n",
       "      <th>Engine</th>\n",
       "      <th>Power</th>\n",
       "      <th>Seats</th>\n",
       "      <th>Fuel_Type_Diesel</th>\n",
       "      <th>Fuel_Type_Electric</th>\n",
       "      <th>Fuel_Type_LPG</th>\n",
       "      <th>Fuel_Type_Petrol</th>\n",
       "      <th>Transmission_Manual</th>\n",
       "      <th>...</th>\n",
       "      <th>Manufacturer_Nissan</th>\n",
       "      <th>Manufacturer_Porsche</th>\n",
       "      <th>Manufacturer_Renault</th>\n",
       "      <th>Manufacturer_Skoda</th>\n",
       "      <th>Manufacturer_Smart</th>\n",
       "      <th>Manufacturer_Tata</th>\n",
       "      <th>Manufacturer_Toyota</th>\n",
       "      <th>Manufacturer_Volkswagen</th>\n",
       "      <th>Manufacturer_Volvo</th>\n",
       "      <th>Car_Age</th>\n",
       "    </tr>\n",
       "  </thead>\n",
       "  <tbody>\n",
       "    <tr>\n",
       "      <th>0</th>\n",
       "      <td>72000</td>\n",
       "      <td>26.60</td>\n",
       "      <td>998.0</td>\n",
       "      <td>58.16</td>\n",
       "      <td>5.0</td>\n",
       "      <td>0</td>\n",
       "      <td>0</td>\n",
       "      <td>0</td>\n",
       "      <td>0</td>\n",
       "      <td>1</td>\n",
       "      <td>...</td>\n",
       "      <td>0</td>\n",
       "      <td>0</td>\n",
       "      <td>0</td>\n",
       "      <td>0</td>\n",
       "      <td>0</td>\n",
       "      <td>0</td>\n",
       "      <td>0</td>\n",
       "      <td>0</td>\n",
       "      <td>0</td>\n",
       "      <td>13</td>\n",
       "    </tr>\n",
       "    <tr>\n",
       "      <th>1</th>\n",
       "      <td>41000</td>\n",
       "      <td>19.67</td>\n",
       "      <td>1582.0</td>\n",
       "      <td>126.20</td>\n",
       "      <td>5.0</td>\n",
       "      <td>1</td>\n",
       "      <td>0</td>\n",
       "      <td>0</td>\n",
       "      <td>0</td>\n",
       "      <td>1</td>\n",
       "      <td>...</td>\n",
       "      <td>0</td>\n",
       "      <td>0</td>\n",
       "      <td>0</td>\n",
       "      <td>0</td>\n",
       "      <td>0</td>\n",
       "      <td>0</td>\n",
       "      <td>0</td>\n",
       "      <td>0</td>\n",
       "      <td>0</td>\n",
       "      <td>8</td>\n",
       "    </tr>\n",
       "    <tr>\n",
       "      <th>2</th>\n",
       "      <td>46000</td>\n",
       "      <td>18.20</td>\n",
       "      <td>1199.0</td>\n",
       "      <td>88.70</td>\n",
       "      <td>5.0</td>\n",
       "      <td>0</td>\n",
       "      <td>0</td>\n",
       "      <td>0</td>\n",
       "      <td>1</td>\n",
       "      <td>1</td>\n",
       "      <td>...</td>\n",
       "      <td>0</td>\n",
       "      <td>0</td>\n",
       "      <td>0</td>\n",
       "      <td>0</td>\n",
       "      <td>0</td>\n",
       "      <td>0</td>\n",
       "      <td>0</td>\n",
       "      <td>0</td>\n",
       "      <td>0</td>\n",
       "      <td>12</td>\n",
       "    </tr>\n",
       "    <tr>\n",
       "      <th>3</th>\n",
       "      <td>87000</td>\n",
       "      <td>20.77</td>\n",
       "      <td>1248.0</td>\n",
       "      <td>88.76</td>\n",
       "      <td>7.0</td>\n",
       "      <td>1</td>\n",
       "      <td>0</td>\n",
       "      <td>0</td>\n",
       "      <td>0</td>\n",
       "      <td>1</td>\n",
       "      <td>...</td>\n",
       "      <td>0</td>\n",
       "      <td>0</td>\n",
       "      <td>0</td>\n",
       "      <td>0</td>\n",
       "      <td>0</td>\n",
       "      <td>0</td>\n",
       "      <td>0</td>\n",
       "      <td>0</td>\n",
       "      <td>0</td>\n",
       "      <td>11</td>\n",
       "    </tr>\n",
       "    <tr>\n",
       "      <th>4</th>\n",
       "      <td>40670</td>\n",
       "      <td>15.20</td>\n",
       "      <td>1968.0</td>\n",
       "      <td>140.80</td>\n",
       "      <td>5.0</td>\n",
       "      <td>1</td>\n",
       "      <td>0</td>\n",
       "      <td>0</td>\n",
       "      <td>0</td>\n",
       "      <td>0</td>\n",
       "      <td>...</td>\n",
       "      <td>0</td>\n",
       "      <td>0</td>\n",
       "      <td>0</td>\n",
       "      <td>0</td>\n",
       "      <td>0</td>\n",
       "      <td>0</td>\n",
       "      <td>0</td>\n",
       "      <td>0</td>\n",
       "      <td>0</td>\n",
       "      <td>10</td>\n",
       "    </tr>\n",
       "  </tbody>\n",
       "</table>\n",
       "<p>5 rows × 43 columns</p>\n",
       "</div>"
      ],
      "text/plain": [
       "   Kilometers_Driven  Mileage  Engine   Power  Seats  Fuel_Type_Diesel  \\\n",
       "0              72000    26.60   998.0   58.16    5.0                 0   \n",
       "1              41000    19.67  1582.0  126.20    5.0                 1   \n",
       "2              46000    18.20  1199.0   88.70    5.0                 0   \n",
       "3              87000    20.77  1248.0   88.76    7.0                 1   \n",
       "4              40670    15.20  1968.0  140.80    5.0                 1   \n",
       "\n",
       "   Fuel_Type_Electric  Fuel_Type_LPG  Fuel_Type_Petrol  Transmission_Manual  \\\n",
       "0                   0              0                 0                    1   \n",
       "1                   0              0                 0                    1   \n",
       "2                   0              0                 1                    1   \n",
       "3                   0              0                 0                    1   \n",
       "4                   0              0                 0                    0   \n",
       "\n",
       "   ...  Manufacturer_Nissan  Manufacturer_Porsche  Manufacturer_Renault  \\\n",
       "0  ...                    0                     0                     0   \n",
       "1  ...                    0                     0                     0   \n",
       "2  ...                    0                     0                     0   \n",
       "3  ...                    0                     0                     0   \n",
       "4  ...                    0                     0                     0   \n",
       "\n",
       "   Manufacturer_Skoda  Manufacturer_Smart  Manufacturer_Tata  \\\n",
       "0                   0                   0                  0   \n",
       "1                   0                   0                  0   \n",
       "2                   0                   0                  0   \n",
       "3                   0                   0                  0   \n",
       "4                   0                   0                  0   \n",
       "\n",
       "   Manufacturer_Toyota  Manufacturer_Volkswagen  Manufacturer_Volvo  Car_Age  \n",
       "0                    0                        0                   0       13  \n",
       "1                    0                        0                   0        8  \n",
       "2                    0                        0                   0       12  \n",
       "3                    0                        0                   0       11  \n",
       "4                    0                        0                   0       10  \n",
       "\n",
       "[5 rows x 43 columns]"
      ]
     },
     "execution_count": 52,
     "metadata": {},
     "output_type": "execute_result"
    }
   ],
   "source": [
    "X.head()"
   ]
  },
  {
   "cell_type": "raw",
   "id": "62489238",
   "metadata": {},
   "source": [
    "Task 2: Data Splitting\n",
    "2.1 Split the dataset into training and testing sets using the train_test_split function from sklearn."
   ]
  },
  {
   "cell_type": "code",
   "execution_count": 53,
   "id": "ab51db0f",
   "metadata": {},
   "outputs": [],
   "source": [
    "from sklearn.model_selection import train_test_split\n",
    "X_train,X_test,y_train,y_test= train_test_split(X,y, test_size=0.3, random_state=42)"
   ]
  },
  {
   "cell_type": "code",
   "execution_count": 54,
   "id": "a7f79842",
   "metadata": {},
   "outputs": [
    {
     "data": {
      "text/plain": [
       "(4213, 43)"
      ]
     },
     "execution_count": 54,
     "metadata": {},
     "output_type": "execute_result"
    }
   ],
   "source": [
    "X_train.shape"
   ]
  },
  {
   "cell_type": "code",
   "execution_count": 55,
   "id": "e62e9edb",
   "metadata": {},
   "outputs": [
    {
     "data": {
      "text/plain": [
       "(1806, 43)"
      ]
     },
     "execution_count": 55,
     "metadata": {},
     "output_type": "execute_result"
    }
   ],
   "source": [
    "X_test.shape"
   ]
  },
  {
   "cell_type": "code",
   "execution_count": 56,
   "id": "312a91db",
   "metadata": {},
   "outputs": [
    {
     "data": {
      "text/plain": [
       "(4213,)"
      ]
     },
     "execution_count": 56,
     "metadata": {},
     "output_type": "execute_result"
    }
   ],
   "source": [
    "y_train.shape"
   ]
  },
  {
   "cell_type": "code",
   "execution_count": 57,
   "id": "fed75603",
   "metadata": {},
   "outputs": [
    {
     "data": {
      "text/plain": [
       "(1806,)"
      ]
     },
     "execution_count": 57,
     "metadata": {},
     "output_type": "execute_result"
    }
   ],
   "source": [
    "y_test.shape"
   ]
  },
  {
   "cell_type": "code",
   "execution_count": 58,
   "id": "1c710d09",
   "metadata": {},
   "outputs": [
    {
     "data": {
      "text/plain": [
       "0       0.011051\n",
       "1       0.006282\n",
       "2       0.007051\n",
       "3       0.013359\n",
       "4       0.006231\n",
       "          ...   \n",
       "6014    0.004184\n",
       "6015    0.015359\n",
       "6016    0.008435\n",
       "6017    0.007051\n",
       "6018    0.007205\n",
       "Name: Kilometers_Driven, Length: 6019, dtype: float64"
      ]
     },
     "execution_count": 58,
     "metadata": {},
     "output_type": "execute_result"
    }
   ],
   "source": [
    "# 4.2 Scale the 'Kilometers_Driven' column using MinMaxScaler.\n",
    "from sklearn.preprocessing import MinMaxScaler\n",
    "scaler = MinMaxScaler()\n",
    "data['Kilometers_Driven'] = scaler.fit_transform(data['Kilometers_Driven'].values.reshape(-1, 1))\n",
    "data['Kilometers_Driven']"
   ]
  },
  {
   "cell_type": "raw",
   "id": "6c65d0bb",
   "metadata": {},
   "source": [
    "Task 5: Data Processing\n",
    "5.1 Normalize Numerical Features.\n",
    "\n",
    "5.2 Scale the datasets using StandardScaler."
   ]
  },
  {
   "cell_type": "code",
   "execution_count": 59,
   "id": "15875e3c",
   "metadata": {},
   "outputs": [],
   "source": [
    "from sklearn.preprocessing import StandardScaler"
   ]
  },
  {
   "cell_type": "code",
   "execution_count": 60,
   "id": "5e8d82f8",
   "metadata": {},
   "outputs": [],
   "source": [
    "scaler=StandardScaler()"
   ]
  },
  {
   "cell_type": "code",
   "execution_count": 61,
   "id": "dd29ff56",
   "metadata": {},
   "outputs": [],
   "source": [
    "X_train=scaler.fit_transform(X_train)"
   ]
  },
  {
   "cell_type": "code",
   "execution_count": 62,
   "id": "b37f4fd5",
   "metadata": {},
   "outputs": [],
   "source": [
    "X_test=scaler.transform(X_test)"
   ]
  },
  {
   "cell_type": "code",
   "execution_count": 63,
   "id": "fb27235b",
   "metadata": {},
   "outputs": [
    {
     "data": {
      "text/plain": [
       "array([[ 0.51111027,  0.85689938, -0.70246029, ...,  4.23998555,\n",
       "        -0.0617434 ,  0.74026657],\n",
       "       [-0.98653885,  0.48304626, -0.70577735, ..., -0.23584986,\n",
       "        -0.0617434 , -0.80427733],\n",
       "       [ 0.35263818, -0.66693471,  0.92289991, ..., -0.23584986,\n",
       "        -0.0617434 , -0.18645977],\n",
       "       ...,\n",
       "       [ 2.16486895, -0.66693471,  0.92289991, ..., -0.23584986,\n",
       "        -0.0617434 ,  0.12244901],\n",
       "       [ 0.49572769,  1.67238018, -0.20655957, ..., -0.23584986,\n",
       "        -0.0617434 , -0.18645977],\n",
       "       [ 1.06236316, -1.1697781 ,  1.44533711, ..., -0.23584986,\n",
       "        -0.0617434 ,  0.74026657]])"
      ]
     },
     "execution_count": 63,
     "metadata": {},
     "output_type": "execute_result"
    }
   ],
   "source": [
    "X_train"
   ]
  },
  {
   "cell_type": "code",
   "execution_count": 64,
   "id": "1700c0be",
   "metadata": {},
   "outputs": [
    {
     "data": {
      "text/plain": [
       "array([[ 0.30110916,  1.14767404, -0.62119228, ..., -0.23584986,\n",
       "        -0.0617434 ,  0.12244901],\n",
       "       [-0.80819541, -0.60134644,  0.6210473 , ..., -0.23584986,\n",
       "        -0.0617434 , -1.11318611],\n",
       "       [ 0.74736151, -0.66693471,  0.92289991, ..., -0.23584986,\n",
       "        -0.0617434 , -0.18645977],\n",
       "       ...,\n",
       "       [-0.22914362,  0.20757553, -0.70577735, ..., -0.23584986,\n",
       "        -0.0617434 , -0.18645977],\n",
       "       [-0.85140314,  0.00206563, -0.70743588, ..., -0.23584986,\n",
       "        -0.0617434 , -1.11318611],\n",
       "       [-1.01139773,  1.89100774, -0.62119228, ..., -0.23584986,\n",
       "        -0.0617434 , -1.11318611]])"
      ]
     },
     "execution_count": 64,
     "metadata": {},
     "output_type": "execute_result"
    }
   ],
   "source": [
    "X_test"
   ]
  },
  {
   "cell_type": "raw",
   "id": "7b58b7c1",
   "metadata": {},
   "source": [
    "Task 6: Model Training and Evaluation\n",
    "6.1 Train a Linear Regression model on the preprocessed training data."
   ]
  },
  {
   "cell_type": "code",
   "execution_count": 65,
   "id": "3d82e4d9",
   "metadata": {},
   "outputs": [
    {
     "data": {
      "text/html": [
       "<style>#sk-container-id-1 {color: black;}#sk-container-id-1 pre{padding: 0;}#sk-container-id-1 div.sk-toggleable {background-color: white;}#sk-container-id-1 label.sk-toggleable__label {cursor: pointer;display: block;width: 100%;margin-bottom: 0;padding: 0.3em;box-sizing: border-box;text-align: center;}#sk-container-id-1 label.sk-toggleable__label-arrow:before {content: \"▸\";float: left;margin-right: 0.25em;color: #696969;}#sk-container-id-1 label.sk-toggleable__label-arrow:hover:before {color: black;}#sk-container-id-1 div.sk-estimator:hover label.sk-toggleable__label-arrow:before {color: black;}#sk-container-id-1 div.sk-toggleable__content {max-height: 0;max-width: 0;overflow: hidden;text-align: left;background-color: #f0f8ff;}#sk-container-id-1 div.sk-toggleable__content pre {margin: 0.2em;color: black;border-radius: 0.25em;background-color: #f0f8ff;}#sk-container-id-1 input.sk-toggleable__control:checked~div.sk-toggleable__content {max-height: 200px;max-width: 100%;overflow: auto;}#sk-container-id-1 input.sk-toggleable__control:checked~label.sk-toggleable__label-arrow:before {content: \"▾\";}#sk-container-id-1 div.sk-estimator input.sk-toggleable__control:checked~label.sk-toggleable__label {background-color: #d4ebff;}#sk-container-id-1 div.sk-label input.sk-toggleable__control:checked~label.sk-toggleable__label {background-color: #d4ebff;}#sk-container-id-1 input.sk-hidden--visually {border: 0;clip: rect(1px 1px 1px 1px);clip: rect(1px, 1px, 1px, 1px);height: 1px;margin: -1px;overflow: hidden;padding: 0;position: absolute;width: 1px;}#sk-container-id-1 div.sk-estimator {font-family: monospace;background-color: #f0f8ff;border: 1px dotted black;border-radius: 0.25em;box-sizing: border-box;margin-bottom: 0.5em;}#sk-container-id-1 div.sk-estimator:hover {background-color: #d4ebff;}#sk-container-id-1 div.sk-parallel-item::after {content: \"\";width: 100%;border-bottom: 1px solid gray;flex-grow: 1;}#sk-container-id-1 div.sk-label:hover label.sk-toggleable__label {background-color: #d4ebff;}#sk-container-id-1 div.sk-serial::before {content: \"\";position: absolute;border-left: 1px solid gray;box-sizing: border-box;top: 0;bottom: 0;left: 50%;z-index: 0;}#sk-container-id-1 div.sk-serial {display: flex;flex-direction: column;align-items: center;background-color: white;padding-right: 0.2em;padding-left: 0.2em;position: relative;}#sk-container-id-1 div.sk-item {position: relative;z-index: 1;}#sk-container-id-1 div.sk-parallel {display: flex;align-items: stretch;justify-content: center;background-color: white;position: relative;}#sk-container-id-1 div.sk-item::before, #sk-container-id-1 div.sk-parallel-item::before {content: \"\";position: absolute;border-left: 1px solid gray;box-sizing: border-box;top: 0;bottom: 0;left: 50%;z-index: -1;}#sk-container-id-1 div.sk-parallel-item {display: flex;flex-direction: column;z-index: 1;position: relative;background-color: white;}#sk-container-id-1 div.sk-parallel-item:first-child::after {align-self: flex-end;width: 50%;}#sk-container-id-1 div.sk-parallel-item:last-child::after {align-self: flex-start;width: 50%;}#sk-container-id-1 div.sk-parallel-item:only-child::after {width: 0;}#sk-container-id-1 div.sk-dashed-wrapped {border: 1px dashed gray;margin: 0 0.4em 0.5em 0.4em;box-sizing: border-box;padding-bottom: 0.4em;background-color: white;}#sk-container-id-1 div.sk-label label {font-family: monospace;font-weight: bold;display: inline-block;line-height: 1.2em;}#sk-container-id-1 div.sk-label-container {text-align: center;}#sk-container-id-1 div.sk-container {/* jupyter's `normalize.less` sets `[hidden] { display: none; }` but bootstrap.min.css set `[hidden] { display: none !important; }` so we also need the `!important` here to be able to override the default hidden behavior on the sphinx rendered scikit-learn.org. See: https://github.com/scikit-learn/scikit-learn/issues/21755 */display: inline-block !important;position: relative;}#sk-container-id-1 div.sk-text-repr-fallback {display: none;}</style><div id=\"sk-container-id-1\" class=\"sk-top-container\"><div class=\"sk-text-repr-fallback\"><pre>LinearRegression()</pre><b>In a Jupyter environment, please rerun this cell to show the HTML representation or trust the notebook. <br />On GitHub, the HTML representation is unable to render, please try loading this page with nbviewer.org.</b></div><div class=\"sk-container\" hidden><div class=\"sk-item\"><div class=\"sk-estimator sk-toggleable\"><input class=\"sk-toggleable__control sk-hidden--visually\" id=\"sk-estimator-id-1\" type=\"checkbox\" checked><label for=\"sk-estimator-id-1\" class=\"sk-toggleable__label sk-toggleable__label-arrow\">LinearRegression</label><div class=\"sk-toggleable__content\"><pre>LinearRegression()</pre></div></div></div></div></div>"
      ],
      "text/plain": [
       "LinearRegression()"
      ]
     },
     "execution_count": 65,
     "metadata": {},
     "output_type": "execute_result"
    }
   ],
   "source": [
    "from sklearn.linear_model import LinearRegression\n",
    "model=LinearRegression()\n",
    "model.fit(X_train,y_train)"
   ]
  },
  {
   "cell_type": "code",
   "execution_count": 66,
   "id": "4f1568e0",
   "metadata": {},
   "outputs": [
    {
     "data": {
      "text/plain": [
       "array([ 4.36239385, 11.48133312,  9.7479761 , ...,  5.79006318,\n",
       "        8.60064655,  8.60630827])"
      ]
     },
     "execution_count": 66,
     "metadata": {},
     "output_type": "execute_result"
    }
   ],
   "source": [
    "predict=model.predict(X_test)\n",
    "predict"
   ]
  },
  {
   "cell_type": "raw",
   "id": "53f2cc71",
   "metadata": {},
   "source": [
    "6.2 Evaluate the performance of the Linear Regression model using the R-squared score on the test set."
   ]
  },
  {
   "cell_type": "code",
   "execution_count": 67,
   "id": "fa127722",
   "metadata": {},
   "outputs": [
    {
     "data": {
      "text/plain": [
       "0.7000578139040627"
      ]
     },
     "execution_count": 67,
     "metadata": {},
     "output_type": "execute_result"
    }
   ],
   "source": [
    "from sklearn.metrics import r2_score\n",
    "r2_score(y_test,predict)"
   ]
  },
  {
   "cell_type": "code",
   "execution_count": 68,
   "id": "7ba93b8c",
   "metadata": {},
   "outputs": [
    {
     "data": {
      "image/png": "[encoded data removed]",
      "text/plain": [
       "<Figure size 1000x600 with 1 Axes>"
      ]
     },
     "metadata": {},
     "output_type": "display_data"
    }
   ],
   "source": [
    "plt.figure(figsize=(10, 6))\n",
    "sns.scatterplot(x=y_test, y=predict)\n",
    "r2=r2_score(y_test,predict)\n",
    "plt.title('Scatter Plot with Regression Line')\n",
    "plt.xlabel('Actual Values')\n",
    "plt.ylabel('Predicted Values')\n",
    "plt.text(0.1, 0.9, f'R-squared = {r2:.2f}', transform=plt.gca().transAxes, fontsize=12, verticalalignment='top')\n",
    "plt.show()"
   ]
  },
  {
   "cell_type": "code",
   "execution_count": 69,
   "id": "912244ff",
   "metadata": {},
   "outputs": [
    {
     "data": {
      "text/plain": [
       "6.073918732709638"
      ]
     },
     "execution_count": 69,
     "metadata": {},
     "output_type": "execute_result"
    }
   ],
   "source": [
    "from sklearn.metrics import mean_squared_error\n",
    "rmse=np.sqrt(mean_squared_error(y_test,predict))\n",
    "rmse"
   ]
  },
  {
   "cell_type": "code",
   "execution_count": 70,
   "id": "d5c24a2d",
   "metadata": {},
   "outputs": [
    {
     "data": {
      "text/plain": [
       "1.7650568767332682"
      ]
     },
     "execution_count": 70,
     "metadata": {},
     "output_type": "execute_result"
    }
   ],
   "source": [
    "from sklearn.metrics import mean_absolute_error\n",
    "rmae=np.sqrt(mean_absolute_error(y_test,predict))\n",
    "rmae"
   ]
  },
  {
   "cell_type": "raw",
   "id": "8c6d2ecf",
   "metadata": {},
   "source": [
    "6.3 Train a Random Forest Regressor model with 100 estimators on the preprocessed training data."
   ]
  },
  {
   "cell_type": "code",
   "execution_count": 71,
   "id": "20355582",
   "metadata": {},
   "outputs": [
    {
     "data": {
      "text/html": [
       "<style>#sk-container-id-2 {color: black;}#sk-container-id-2 pre{padding: 0;}#sk-container-id-2 div.sk-toggleable {background-color: white;}#sk-container-id-2 label.sk-toggleable__label {cursor: pointer;display: block;width: 100%;margin-bottom: 0;padding: 0.3em;box-sizing: border-box;text-align: center;}#sk-container-id-2 label.sk-toggleable__label-arrow:before {content: \"▸\";float: left;margin-right: 0.25em;color: #696969;}#sk-container-id-2 label.sk-toggleable__label-arrow:hover:before {color: black;}#sk-container-id-2 div.sk-estimator:hover label.sk-toggleable__label-arrow:before {color: black;}#sk-container-id-2 div.sk-toggleable__content {max-height: 0;max-width: 0;overflow: hidden;text-align: left;background-color: #f0f8ff;}#sk-container-id-2 div.sk-toggleable__content pre {margin: 0.2em;color: black;border-radius: 0.25em;background-color: #f0f8ff;}#sk-container-id-2 input.sk-toggleable__control:checked~div.sk-toggleable__content {max-height: 200px;max-width: 100%;overflow: auto;}#sk-container-id-2 input.sk-toggleable__control:checked~label.sk-toggleable__label-arrow:before {content: \"▾\";}#sk-container-id-2 div.sk-estimator input.sk-toggleable__control:checked~label.sk-toggleable__label {background-color: #d4ebff;}#sk-container-id-2 div.sk-label input.sk-toggleable__control:checked~label.sk-toggleable__label {background-color: #d4ebff;}#sk-container-id-2 input.sk-hidden--visually {border: 0;clip: rect(1px 1px 1px 1px);clip: rect(1px, 1px, 1px, 1px);height: 1px;margin: -1px;overflow: hidden;padding: 0;position: absolute;width: 1px;}#sk-container-id-2 div.sk-estimator {font-family: monospace;background-color: #f0f8ff;border: 1px dotted black;border-radius: 0.25em;box-sizing: border-box;margin-bottom: 0.5em;}#sk-container-id-2 div.sk-estimator:hover {background-color: #d4ebff;}#sk-container-id-2 div.sk-parallel-item::after {content: \"\";width: 100%;border-bottom: 1px solid gray;flex-grow: 1;}#sk-container-id-2 div.sk-label:hover label.sk-toggleable__label {background-color: #d4ebff;}#sk-container-id-2 div.sk-serial::before {content: \"\";position: absolute;border-left: 1px solid gray;box-sizing: border-box;top: 0;bottom: 0;left: 50%;z-index: 0;}#sk-container-id-2 div.sk-serial {display: flex;flex-direction: column;align-items: center;background-color: white;padding-right: 0.2em;padding-left: 0.2em;position: relative;}#sk-container-id-2 div.sk-item {position: relative;z-index: 1;}#sk-container-id-2 div.sk-parallel {display: flex;align-items: stretch;justify-content: center;background-color: white;position: relative;}#sk-container-id-2 div.sk-item::before, #sk-container-id-2 div.sk-parallel-item::before {content: \"\";position: absolute;border-left: 1px solid gray;box-sizing: border-box;top: 0;bottom: 0;left: 50%;z-index: -1;}#sk-container-id-2 div.sk-parallel-item {display: flex;flex-direction: column;z-index: 1;position: relative;background-color: white;}#sk-container-id-2 div.sk-parallel-item:first-child::after {align-self: flex-end;width: 50%;}#sk-container-id-2 div.sk-parallel-item:last-child::after {align-self: flex-start;width: 50%;}#sk-container-id-2 div.sk-parallel-item:only-child::after {width: 0;}#sk-container-id-2 div.sk-dashed-wrapped {border: 1px dashed gray;margin: 0 0.4em 0.5em 0.4em;box-sizing: border-box;padding-bottom: 0.4em;background-color: white;}#sk-container-id-2 div.sk-label label {font-family: monospace;font-weight: bold;display: inline-block;line-height: 1.2em;}#sk-container-id-2 div.sk-label-container {text-align: center;}#sk-container-id-2 div.sk-container {/* jupyter's `normalize.less` sets `[hidden] { display: none; }` but bootstrap.min.css set `[hidden] { display: none !important; }` so we also need the `!important` here to be able to override the default hidden behavior on the sphinx rendered scikit-learn.org. See: https://github.com/scikit-learn/scikit-learn/issues/21755 */display: inline-block !important;position: relative;}#sk-container-id-2 div.sk-text-repr-fallback {display: none;}</style><div id=\"sk-container-id-2\" class=\"sk-top-container\"><div class=\"sk-text-repr-fallback\"><pre>RandomForestRegressor()</pre><b>In a Jupyter environment, please rerun this cell to show the HTML representation or trust the notebook. <br />On GitHub, the HTML representation is unable to render, please try loading this page with nbviewer.org.</b></div><div class=\"sk-container\" hidden><div class=\"sk-item\"><div class=\"sk-estimator sk-toggleable\"><input class=\"sk-toggleable__control sk-hidden--visually\" id=\"sk-estimator-id-2\" type=\"checkbox\" checked><label for=\"sk-estimator-id-2\" class=\"sk-toggleable__label sk-toggleable__label-arrow\">RandomForestRegressor</label><div class=\"sk-toggleable__content\"><pre>RandomForestRegressor()</pre></div></div></div></div></div>"
      ],
      "text/plain": [
       "RandomForestRegressor()"
      ]
     },
     "execution_count": 71,
     "metadata": {},
     "output_type": "execute_result"
    }
   ],
   "source": [
    "from sklearn.ensemble import RandomForestRegressor\n",
    "rf_model=RandomForestRegressor()\n",
    "rf_model.fit(X_train,y_train)"
   ]
  },
  {
   "cell_type": "code",
   "execution_count": 72,
   "id": "6ce29821",
   "metadata": {},
   "outputs": [
    {
     "data": {
      "text/plain": [
       "0.8859889855305751"
      ]
     },
     "execution_count": 72,
     "metadata": {},
     "output_type": "execute_result"
    }
   ],
   "source": [
    "rf_predict=rf_model.predict(X_test)\n",
    "r2_score(y_test,rf_predict)"
   ]
  },
  {
   "cell_type": "code",
   "execution_count": 73,
   "id": "991ef8f5",
   "metadata": {},
   "outputs": [
    {
     "data": {
      "image/png": "[encoded data removed]",
      "text/plain": [
       "<Figure size 1000x600 with 1 Axes>"
      ]
     },
     "metadata": {},
     "output_type": "display_data"
    }
   ],
   "source": [
    "plt.figure(figsize=(10, 6))\n",
    "r2=r2_score(y_test,rf_predict)\n",
    "sns.scatterplot(x=y_test, y=rf_predict)\n",
    "plt.title('Scatter Plot of Actual vs. Predicted Values (Random Forest)')\n",
    "plt.xlabel('Actual Values')\n",
    "plt.ylabel('Predicted Values')\n",
    "plt.text(0.1, 0.9, f'R-squared = {r2:.2f}', transform=plt.gca().transAxes, fontsize=12, verticalalignment='top')\n",
    "plt.show()"
   ]
  },
  {
   "cell_type": "raw",
   "id": "534f681e",
   "metadata": {},
   "source": [
    "6.4 Evaluate the performance of the Random Forest Regressor model using the R-squared score on the test set."
   ]
  },
  {
   "cell_type": "code",
   "execution_count": 74,
   "id": "5c6c244d",
   "metadata": {},
   "outputs": [
    {
     "data": {
      "text/plain": [
       "3.7447566931388936"
      ]
     },
     "execution_count": 74,
     "metadata": {},
     "output_type": "execute_result"
    }
   ],
   "source": [
    "from sklearn.metrics import mean_squared_error\n",
    "rmse=np.sqrt(mean_squared_error(y_test,rf_predict))\n",
    "rmse"
   ]
  },
  {
   "cell_type": "code",
   "execution_count": 75,
   "id": "bc9e7608",
   "metadata": {},
   "outputs": [
    {
     "data": {
      "text/plain": [
       "1.2835565099019564"
      ]
     },
     "execution_count": 75,
     "metadata": {},
     "output_type": "execute_result"
    }
   ],
   "source": [
    "from sklearn.metrics import mean_absolute_error\n",
    "rmae=np.sqrt(mean_absolute_error(y_test,rf_predict))\n",
    "rmae"
   ]
  },
  {
   "cell_type": "raw",
   "id": "6bf50808",
   "metadata": {},
   "source": [
    "Task 7: Conclusion\n",
    "7.1 Summarize the key findings from the exploration, feature engineering, and model training process.\n",
    "1.Handling Missing Values:handled missing values in the 'Mileage', 'Engine', 'Power', and 'Seats' columns effectively by converting them to appropriate data types and imputing missing values.\n",
    "2.Categorical Columns:Converting categorical columns into dummy variables \n",
    "3.Data Visualization:countplot for the distribution of car manufacturers \n",
    "4. Feature Engineering:The creation of a 'Manufacturer' column from the 'Name' column .Dropping redundant or unnecessary columns like 'Unnamed: 0' and 'Location'\n",
    "5.Data Cleaning:Dropping the 'New_Price' column due to a high number of missing values\n",
    "6.Train&Test:split your dataset into training and testing sets before further analysis or model building. \n",
    "\n",
    "7.2 Discuss the performance of the Linear Regression and Random Forest models.\n",
    "The Performance of the Linear Regression :\n",
    "R-Square score is 0.7000578139040627\n",
    "RMSE(Root Mean Squared Error) is6.073918732709638\n",
    "RMAE(Root Mean Absolute Error)is1.7650568767332682\n",
    "The Performance of the Random Forest model :\n",
    "R-Square score is0.8840193070572853\n",
    "RMSE(Root Mean Squared Error) is3.776965781616581\n",
    "RMAE(Root Mean Absolute Error)is1.2840735278574158\n",
    "In conclusion the performance of Random Forest Model is high than the Linear Regression Model\n",
    "\n",
    "7.3 Provide any insights into the factors influencing used car prices based on the analysis.\n",
    "Manufacturer Influence:\n",
    "The countplot of cars based on manufacturers shows that some manufacturers are more prevalent in the dataset, suggesting certain brands are more popular in the used car market.\n",
    "Dummy variables for manufacturers have been created, allowing the model to consider the impact of different brands on car prices.\n",
    "Year of Manufacture:\n",
    "The 'Year' column represents the manufacturing year of the car. Newer cars are generally expected to have higher prices, reflecting the depreciation of value over time."
   ]
  }
 ],
 "metadata": {
  "kernelspec": {
   "display_name": "Python 3 (ipykernel)",
   "language": "python",
   "name": "python3"
  },
  "language_info": {
   "codemirror_mode": {
    "name": "ipython",
    "version": 3
   },
   "file_extension": ".py",
   "mimetype": "text/x-python",
   "name": "python",
   "nbconvert_exporter": "python",
   "pygments_lexer": "ipython3",
   "version": "3.11.4"
  }
 },
 "nbformat": 4,
 "nbformat_minor": 5
}
