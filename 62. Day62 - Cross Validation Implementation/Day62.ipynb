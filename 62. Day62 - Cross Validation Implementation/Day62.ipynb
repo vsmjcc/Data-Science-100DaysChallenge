{
 "cells": [
  {
   "cell_type": "markdown",
   "id": "f42b9871",
   "metadata": {},
   "source": [
    "# Cross-Validation implementation"
   ]
  },
  {
   "cell_type": "markdown",
   "id": "beb59ac6",
   "metadata": {},
   "source": [
    "# There are different Cross-Validation techniques\n",
    "\n",
    "- Hold-out cross-validation\n",
    "- K-folds cross-validation\n",
    "- Leave-one-out cross-validation\n",
    "- Leave-p-out cross-validation\n",
    "- Stratified K-folds cross-validation\n",
    "- Repeated K-folds cross-validation\n",
    "- Group K-Fold Cross-Validation\n",
    "- Time series CV cross-validation"
   ]
  },
  {
   "cell_type": "markdown",
   "id": "bc57affd",
   "metadata": {},
   "source": [
    "Hold-Out based Validation\n"
   ]
  },
  {
   "cell_type": "code",
   "execution_count": 1,
   "id": "db5471c4",
   "metadata": {},
   "outputs": [],
   "source": [
    "import numpy as np\n",
    "from sklearn.model_selection import train_test_split\n",
    "X, y = np.arange(10).reshape((5, 2)), range(5)\n",
    "X_train, X_test, y_train, y_test = train_test_split(X, y,test_size=0.2,random_state=111)"
   ]
  },
  {
   "cell_type": "markdown",
   "id": "56af2fbe",
   "metadata": {},
   "source": [
    "K-folds cross-validation"
   ]
  },
  {
   "cell_type": "code",
   "execution_count": 2,
   "id": "8d4fff0b",
   "metadata": {},
   "outputs": [
    {
     "name": "stdout",
     "output_type": "stream",
     "text": [
      "TRAIN: [2 3] TEST: [0 1]\n",
      "TRAIN: [0 1] TEST: [2 3]\n"
     ]
    }
   ],
   "source": [
    "import numpy as np\n",
    "from sklearn.model_selection import KFold\n",
    "\n",
    "X = np.array([[1, 2], [3, 4], [1, 2], [3, 4]])\n",
    "y = np.array([1, 2, 3, 4])\n",
    "kf = KFold(n_splits=2)\n",
    "\n",
    "for train_index, test_index in kf.split(X):\n",
    "    print(\"TRAIN:\", train_index, \"TEST:\", test_index)\n",
    "    X_train, X_test = X[train_index], X[test_index]\n",
    "    y_train, y_test = y[train_index], y[test_index]"
   ]
  },
  {
   "cell_type": "markdown",
   "id": "a911acb9",
   "metadata": {},
   "source": [
    "- Leave-one-out cross-validation\n"
   ]
  },
  {
   "cell_type": "code",
   "execution_count": 3,
   "id": "e781ff0d",
   "metadata": {},
   "outputs": [
    {
     "name": "stdout",
     "output_type": "stream",
     "text": [
      "TRAIN: [1] TEST: [0]\n",
      "TRAIN: [0] TEST: [1]\n"
     ]
    }
   ],
   "source": [
    "import numpy as np\n",
    "from sklearn.model_selection import LeaveOneOut\n",
    "\n",
    "X = np.array([[1, 2], [3, 4]])\n",
    "y = np.array([1, 2])\n",
    "loo = LeaveOneOut()\n",
    "\n",
    "for train_index, test_index in loo.split(X):\n",
    "    print(\"TRAIN:\", train_index, \"TEST:\", test_index)\n",
    "    X_train, X_test = X[train_index], X[test_index]\n",
    "    y_train, y_test = y[train_index], y[test_index]"
   ]
  },
  {
   "cell_type": "markdown",
   "id": "b8d3f7c6",
   "metadata": {},
   "source": [
    "- Leave-p-out cross-validation\n"
   ]
  },
  {
   "cell_type": "code",
   "execution_count": 4,
   "id": "76b25d82",
   "metadata": {},
   "outputs": [
    {
     "name": "stdout",
     "output_type": "stream",
     "text": [
      "TRAIN: [2 3] TEST: [0 1]\n",
      "TRAIN: [1 3] TEST: [0 2]\n",
      "TRAIN: [1 2] TEST: [0 3]\n",
      "TRAIN: [0 3] TEST: [1 2]\n",
      "TRAIN: [0 2] TEST: [1 3]\n",
      "TRAIN: [0 1] TEST: [2 3]\n"
     ]
    }
   ],
   "source": [
    "import numpy as np\n",
    "from sklearn.model_selection import LeavePOut\n",
    "\n",
    "X = np.array([[1, 2], [3, 4], [5, 6], [7, 8]])\n",
    "y = np.array([1, 2, 3, 4])\n",
    "lpo = LeavePOut(2)\n",
    "\n",
    "for train_index, test_index in lpo.split(X):\n",
    "    print(\"TRAIN:\", train_index, \"TEST:\", test_index)\n",
    "    X_train, X_test = X[train_index], X[test_index]\n",
    "    y_train, y_test = y[train_index], y[test_index]"
   ]
  },
  {
   "cell_type": "markdown",
   "id": "e8edc89d",
   "metadata": {},
   "source": [
    "- Stratified k-Fold cross-validation\n"
   ]
  },
  {
   "cell_type": "code",
   "execution_count": 5,
   "id": "d57852cc",
   "metadata": {},
   "outputs": [
    {
     "name": "stdout",
     "output_type": "stream",
     "text": [
      "TRAIN: [1 3] TEST: [0 2]\n",
      "TRAIN: [0 2] TEST: [1 3]\n"
     ]
    }
   ],
   "source": [
    "import numpy as np\n",
    "from sklearn.model_selection import StratifiedKFold\n",
    "\n",
    "X = np.array([[1, 2], [3, 4], [1, 2], [3, 4]])\n",
    "y = np.array([0, 0, 1, 1])\n",
    "skf = StratifiedKFold(n_splits=2)\n",
    "\n",
    "for train_index, test_index in skf.split(X, y):\n",
    "    print(\"TRAIN:\", train_index, \"TEST:\", test_index)\n",
    "    X_train, X_test = X[train_index], X[test_index]\n",
    "    y_train, y_test = y[train_index], y[test_index]"
   ]
  },
  {
   "cell_type": "markdown",
   "id": "17011d7a",
   "metadata": {},
   "source": [
    "- Repeated k-Fold cross-validation\n"
   ]
  },
  {
   "cell_type": "code",
   "execution_count": 6,
   "id": "32ffbe2d",
   "metadata": {},
   "outputs": [
    {
     "name": "stdout",
     "output_type": "stream",
     "text": [
      "TRAIN: [0 2] TEST: [1 3]\n",
      "TRAIN: [1 3] TEST: [0 2]\n",
      "TRAIN: [0 2] TEST: [1 3]\n",
      "TRAIN: [1 3] TEST: [0 2]\n"
     ]
    }
   ],
   "source": [
    "import numpy as np\n",
    "from sklearn.model_selection import RepeatedKFold\n",
    "\n",
    "X = np.array([[1, 2], [3, 4], [1, 2], [3, 4]])\n",
    "y = np.array([0, 0, 1, 1])\n",
    "rkf = RepeatedKFold(n_splits=2, n_repeats=2, random_state=42)\n",
    "\n",
    "for train_index, test_index in rkf.split(X):\n",
    "    print(\"TRAIN:\", train_index, \"TEST:\", test_index)\n",
    "    X_train, X_test = X[train_index], X[test_index]\n",
    "    y_train, y_test = y[train_index], y[test_index]"
   ]
  },
  {
   "cell_type": "markdown",
   "id": "1647a0a6",
   "metadata": {},
   "source": [
    "- Group K-Fold Cross-Validation\n"
   ]
  },
  {
   "cell_type": "code",
   "execution_count": 7,
   "id": "2524b6eb",
   "metadata": {},
   "outputs": [
    {
     "name": "stdout",
     "output_type": "stream",
     "text": [
      "Accuracy: 0.863849765258216\n",
      "Accuracy: 0.8883495145631068\n",
      "Accuracy: 0.8578680203045685\n",
      "Accuracy: 0.8808290155440415\n",
      "Accuracy: 0.8743455497382199\n"
     ]
    }
   ],
   "source": [
    "from sklearn.model_selection import GroupKFold\n",
    "from sklearn.datasets import make_classification\n",
    "from sklearn.linear_model import LogisticRegression\n",
    "from sklearn.metrics import accuracy_score\n",
    "\n",
    "# Generate some sample data\n",
    "X, y = make_classification(n_samples=1000, n_features=20, n_classes=2, random_state=42)\n",
    "\n",
    "# Generate random groups\n",
    "import numpy as np\n",
    "groups = np.random.randint(0, 5, size=len(X))\n",
    "\n",
    "# Define the number of folds\n",
    "n_splits = 5\n",
    "\n",
    "# Initialize the GroupKFold object\n",
    "gkf = GroupKFold(n_splits=n_splits)\n",
    "\n",
    "# Initialize a classifier (you can use any model of your choice)\n",
    "classifier = LogisticRegression()\n",
    "\n",
    "# Iterate over the splits\n",
    "for train_index, test_index in gkf.split(X, y, groups=groups):\n",
    "    # Split the data into train and test sets based on the current split\n",
    "    X_train, X_test = X[train_index], X[test_index]\n",
    "    y_train, y_test = y[train_index], y[test_index]\n",
    "\n",
    "    classifier.fit(X_train, y_train)\n",
    "    y_pred = classifier.predict(X_test)\n",
    "    accuracy = accuracy_score(y_test, y_pred)\n",
    "    print(\"Accuracy:\", accuracy)\n"
   ]
  },
  {
   "cell_type": "markdown",
   "id": "4e6b3a0e",
   "metadata": {},
   "source": [
    "Time series CV cross-validation"
   ]
  },
  {
   "cell_type": "code",
   "execution_count": 8,
   "id": "ec4e901e",
   "metadata": {},
   "outputs": [
    {
     "name": "stdout",
     "output_type": "stream",
     "text": [
      "Mean Squared Error: 1.07780361818398\n",
      "Mean Squared Error: 1.0416604122069493\n",
      "Mean Squared Error: 0.5946104630946154\n",
      "Mean Squared Error: 1.9091032877040826\n",
      "Mean Squared Error: 0.5664471358732494\n",
      "Mean MSE: 1.0379249834125754\n"
     ]
    }
   ],
   "source": [
    "import numpy as np\n",
    "import pandas as pd\n",
    "from sklearn.model_selection import TimeSeriesSplit\n",
    "from sklearn.tree import DecisionTreeRegressor\n",
    "from sklearn.metrics import mean_squared_error\n",
    "\n",
    "# Generate synthetic time series data\n",
    "np.random.seed(42)\n",
    "dates = pd.date_range(start='2022-01-01', periods=100, freq='D')\n",
    "values = np.sin(np.arange(100) * np.pi / 10) + np.random.randn(100) * 0.1  # Sinusoidal with noise\n",
    "df = pd.DataFrame({'Date': dates, 'Value': values})\n",
    "\n",
    "# Define the number of splits (number of folds)\n",
    "n_splits = 5\n",
    "\n",
    "# Initialize the TimeSeriesSplit object\n",
    "tscv = TimeSeriesSplit(n_splits=n_splits)\n",
    "\n",
    "# Initialize a model (Decision Tree Regressor)\n",
    "model = DecisionTreeRegressor(max_depth=3)  # Limiting depth for simplicity\n",
    "\n",
    "# Initialize lists to store evaluation metrics\n",
    "mse_scores = []\n",
    "\n",
    "# Perform time series cross-validation\n",
    "for train_index, test_index in tscv.split(df):\n",
    "    # Split the data into train and test sets based on the current split\n",
    "    train_data, test_data = df.iloc[train_index], df.iloc[test_index]\n",
    "    \n",
    "    # Prepare features and target variables\n",
    "    X_train, y_train = train_data[['Date']], train_data['Value']\n",
    "    X_test, y_test = test_data[['Date']], test_data['Value']\n",
    "    \n",
    "    # Fit the model on the training data\n",
    "    model.fit(X_train, y_train)\n",
    "    \n",
    "    # Make predictions on the test data\n",
    "    y_pred = model.predict(X_test)\n",
    "    \n",
    "    # Calculate mean squared error (you can use any other evaluation metric)\n",
    "    mse = mean_squared_error(y_test, y_pred)\n",
    "    mse_scores.append(mse)\n",
    "\n",
    "    # Optionally, you can print or store other evaluation metrics as needed\n",
    "    print(\"Mean Squared Error:\", mse)\n",
    "\n",
    "# Calculate the mean of the evaluation metric scores\n",
    "mean_mse = np.mean(mse_scores)\n",
    "print(\"Mean MSE:\", mean_mse)\n"
   ]
  },
  {
   "cell_type": "code",
   "execution_count": null,
   "id": "2faa3f79",
   "metadata": {},
   "outputs": [],
   "source": []
  }
 ],
 "metadata": {
  "kernelspec": {
   "display_name": "Python 3 (ipykernel)",
   "language": "python",
   "name": "python3"
  },
  "language_info": {
   "codemirror_mode": {
    "name": "ipython",
    "version": 3
   },
   "file_extension": ".py",
   "mimetype": "text/x-python",
   "name": "python",
   "nbconvert_exporter": "python",
   "pygments_lexer": "ipython3",
   "version": "3.11.4"
  }
 },
 "nbformat": 4,
 "nbformat_minor": 5
}
