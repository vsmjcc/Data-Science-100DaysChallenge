{
 "cells": [
  {
   "cell_type": "markdown",
   "metadata": {},
   "source": [
    "## Classes by Mrittika Megaraj"
   ]
  },
  {
   "cell_type": "markdown",
   "metadata": {},
   "source": [
    "## Python Objects and Classes   "
   ]
  },
  {
   "cell_type": "markdown",
   "metadata": {
    "id": "74onC0ncVCYo"
   },
   "source": [
    "                      \n",
    "Python classes:\n",
    " A class is a blueprint or a template for creating objects.                       "
   ]
  },
  {
   "cell_type": "code",
   "execution_count": 1,
   "metadata": {
    "id": "YYFSjM6HSssv"
   },
   "outputs": [],
   "source": [
    "#name of the class\n",
    "class Car:\n",
    "    name = \"\"   #defining class\n",
    "    gear = 0"
   ]
  },
  {
   "cell_type": "markdown",
   "metadata": {
    "id": "ciloxC5tYa9D"
   },
   "source": [
    "Python Objects:\n",
    "An object is called an instance of a class"
   ]
  },
  {
   "cell_type": "markdown",
   "metadata": {
    "id": "bz8QQFy9YlK8"
   },
   "source": [
    "For example: Car is class . So, we take Car1,Car2 as objects"
   ]
  },
  {
   "cell_type": "code",
   "execution_count": 2,
   "metadata": {
    "id": "29bbG8RWYUWj"
   },
   "outputs": [],
   "source": [
    "# create class\n",
    "class Car:\n",
    "    name = \"\"\n",
    "    gear = 0\n",
    "\n",
    "# create objects of class\n",
    "Car1 = Car()"
   ]
  },
  {
   "cell_type": "markdown",
   "metadata": {
    "id": "txtyGZToZHKp"
   },
   "source": [
    "Example Python program of Class and Objects"
   ]
  },
  {
   "cell_type": "code",
   "execution_count": 3,
   "metadata": {
    "colab": {
     "base_uri": "https://localhost:8080/"
    },
    "id": "GZTYqTIwZFaa",
    "outputId": "052a3f92-d21c-43e0-aaab-69f624014f9e"
   },
   "outputs": [
    {
     "name": "stdout",
     "output_type": "stream",
     "text": [
      "Name: Mountain Bike, Gears: 11 \n"
     ]
    }
   ],
   "source": [
    "# define a class\n",
    "class Car:\n",
    "  name = \"\"\n",
    "  gear = 0\n",
    "\n",
    "# create object of class\n",
    "Car1 = Car()\n",
    "\n",
    "# access attributes and assign new values\n",
    "Car1.gear = 11\n",
    "Car1.name = \"Mountain Bike\"\n",
    "\n",
    "print(f\"Name: {Car1.name}, Gears: {Car1.gear} \")"
   ]
  },
  {
   "cell_type": "markdown",
   "metadata": {
    "id": "hnpZA9NxZte7"
   },
   "source": [
    "**Python Constructors**"
   ]
  },
  {
   "cell_type": "code",
   "execution_count": 4,
   "metadata": {
    "id": "6S-_tXCQZvOQ"
   },
   "outputs": [
    {
     "name": "stdout",
     "output_type": "stream",
     "text": [
      "Name: Aswin\n",
      "Age: 20\n"
     ]
    }
   ],
   "source": [
    "class person:\n",
    "  def __init__(self, name, age):\n",
    "    self.name = name\n",
    "    self.age = age\n",
    "person1 = person(\"Aswin\",20)    #creating a person object\n",
    "print(f\"Name: {person1.name}\")\n",
    "print(f\"Age: {person1.age}\")\n"
   ]
  },
  {
   "cell_type": "markdown",
   "metadata": {
    "id": "bThz196I_UA8"
   },
   "source": [
    "**Destructor**"
   ]
  },
  {
   "cell_type": "code",
   "execution_count": 5,
   "metadata": {
    "colab": {
     "base_uri": "https://localhost:8080/"
    },
    "id": "240FfVUy_W88",
    "outputId": "308697e0-6e83-48dd-8fda-e23a73b72202"
   },
   "outputs": [
    {
     "name": "stdout",
     "output_type": "stream",
     "text": [
      "Object 1 is being destroyed!\n",
      "Object 2 is being destroyed!\n"
     ]
    }
   ],
   "source": [
    "class MyClass:\n",
    "    def __init__(self, name):\n",
    "        self.name = name\n",
    "\n",
    "    def __del__(self):\n",
    "        print(f\"{self.name} is being destroyed!\")\n",
    "\n",
    "# Creating objects\n",
    "obj1 = MyClass(\"Object 1\")\n",
    "obj2 = MyClass(\"Object 2\")\n",
    "\n",
    "# Deleting references to objects\n",
    "del obj1\n",
    "del obj2\n"
   ]
  },
  {
   "cell_type": "markdown",
   "metadata": {
    "id": "Gaq9iAGlIk1Y"
   },
   "source": [
    "**Class and Static Variable**"
   ]
  },
  {
   "cell_type": "code",
   "execution_count": 6,
   "metadata": {
    "id": "ULgjXWgXI-aT"
   },
   "outputs": [],
   "source": [
    "#Class and Static Variables:\n",
    "class Voter:\n",
    "    # Class variable for voting age\n",
    "    voting_age = 18\n",
    "\n",
    "    # Class variable to keep track of the total number of voters\n",
    "    num_voters = 0\n"
   ]
  },
  {
   "cell_type": "code",
   "execution_count": 7,
   "metadata": {
    "colab": {
     "base_uri": "https://localhost:8080/"
    },
    "id": "CVc-YKTNI4Oy",
    "outputId": "43d6a4ed-1b1a-42dc-ee3b-7115c4d388eb"
   },
   "outputs": [
    {
     "name": "stdout",
     "output_type": "stream",
     "text": [
      "You are eligible to vote at age 20.\n",
      "Sorry, you are not eligible to vote at age 16.\n",
      "You are eligible to vote at age 25.\n",
      "Total voters: 3\n"
     ]
    }
   ],
   "source": [
    "#Class and Static Methods:\n",
    "class Voter:\n",
    "    voting_age = 18\n",
    "    num_voters = 0\n",
    "\n",
    "    def __init__(self, age):\n",
    "        self.age = age\n",
    "        Voter.num_voters += 1\n",
    "\n",
    "    @staticmethod\n",
    "    def is_eligible(age):\n",
    "        return age >= Voter.voting_age\n",
    "\n",
    "    @classmethod\n",
    "    def get_total_voters(cls):\n",
    "        return cls.num_voters\n",
    "\n",
    "    def check_eligibility(self):\n",
    "        if Voter.is_eligible(self.age):\n",
    "            print(f\"You are eligible to vote at age {self.age}.\")\n",
    "        else:\n",
    "            print(f\"Sorry, you are not eligible to vote at age {self.age}.\")\n",
    "\n",
    "\n",
    "# Create voter instances\n",
    "voter1 = Voter(20)\n",
    "voter2 = Voter(16)\n",
    "voter3 = Voter(25)\n",
    "\n",
    "# Check eligibility and total voters\n",
    "voter1.check_eligibility()  # Output: You are eligible to vote at age 20.\n",
    "voter2.check_eligibility()  # Output: Sorry, you are not eligible to vote at age 16.\n",
    "voter3.check_eligibility()  # Output: You are eligible to vote at age 25.\n",
    "print(f\"Total voters: {Voter.get_total_voters()}\")  # Output: Total voters: 3\n"
   ]
  },
  {
   "cell_type": "markdown",
   "metadata": {},
   "source": [
    "## Class vs Static Variables and Methods"
   ]
  },
  {
   "cell_type": "markdown",
   "metadata": {},
   "source": [
    "1. Class and Static Variables"
   ]
  },
  {
   "cell_type": "code",
   "execution_count": 9,
   "metadata": {},
   "outputs": [
    {
     "name": "stdout",
     "output_type": "stream",
     "text": [
      "Count:1, Type:Saving,\n",
      "Acct No.:11, Name:Snehal\n",
      "Count:2, Type:Saving,\n",
      "Acct No.:12, Name:Kal\n",
      "Count:3, Type:Saving,\n",
      "Acct No.:13, Name:Shiv\n",
      "Count:4, Type:Saving,\n",
      "Acct No.:14, Name:Shubh\n",
      "Accounts: 4\n"
     ]
    }
   ],
   "source": [
    "class Account:\n",
    "    '''Create Account Class'''\n",
    "    count = 0\n",
    "    acct_type = 'Saving'\n",
    "\n",
    "    def __init__(self, acct:int, name:str) -> None:\n",
    "        self.acct = acct\n",
    "        self.name = name\n",
    "        Account.count += 1\n",
    "        # print('Object created..')\n",
    "    def __str__(self) -> str:\n",
    "        st = f'Count:{Account.count}, Type:{Account.acct_type}'\n",
    "        inst = f'Acct No.:{self.acct}, Name:{self.name}'\n",
    "        return f'{st},\\n{inst}'\n",
    "\n",
    "acct1 = Account(11, 'Snehal')\n",
    "# print(acct1.__getstate__())\n",
    "# print(acct1.count,acct1.acct,acct1.name,acct1.acct_type)\n",
    "print(acct1)\n",
    "acct2 = Account(12, 'Kal')\n",
    "# print(acct2.__getstate__())\n",
    "print(acct2)\n",
    "\n",
    "acct3 = Account(13, 'Shiv')\n",
    "# print(acct3.__getstate__())\n",
    "print(acct3)\n",
    "\n",
    "acct4 = Account(14, 'Shubh')\n",
    "# print(acct4.__getstate__())\n",
    "print(acct4)\n",
    "\n",
    "print('Accounts:', Account.count)"
   ]
  },
  {
   "cell_type": "markdown",
   "metadata": {},
   "source": [
    "2. Class and Static Methods"
   ]
  },
  {
   "cell_type": "code",
   "execution_count": 10,
   "metadata": {},
   "outputs": [
    {
     "name": "stdout",
     "output_type": "stream",
     "text": [
      "1\n",
      "1\n",
      "Saving\n",
      "Saving\n"
     ]
    }
   ],
   "source": [
    "class Account:\n",
    "    '''Create Account Class'''\n",
    "    count = 0\n",
    "    acct_type = 'Saving'\n",
    "    # Instance method\n",
    "    def __init__(self, acct:int, name:str) -> None:\n",
    "        self.acct = acct\n",
    "        self.name = name\n",
    "        Account.count += 1\n",
    "    def set_name(self: Account, name:str) -> None:\n",
    "        self.name = name\n",
    "    @classmethod\n",
    "    def get_count(cls) -> int:\n",
    "        return cls.count\n",
    "    @staticmethod\n",
    "    def get_type() -> str:\n",
    "        return Account.acct_type\n",
    "acct1 = Account(1, 'Snehal')\n",
    "print(Account.get_count())\n",
    "Account.set_name(acct1, name='Shubh')\n",
    "print(acct1.get_count())\n",
    "\n",
    "print(Account.get_type())\n",
    "print(acct1.get_type())"
   ]
  },
  {
   "cell_type": "code",
   "execution_count": null,
   "metadata": {},
   "outputs": [],
   "source": []
  }
 ],
 "metadata": {
  "colab": {
   "authorship_tag": "ABX9TyPwoU7/aBC7p90IXgxHD0uY",
   "include_colab_link": true,
   "provenance": []
  },
  "kernelspec": {
   "display_name": "Python 3 (ipykernel)",
   "language": "python",
   "name": "python3"
  },
  "language_info": {
   "codemirror_mode": {
    "name": "ipython",
    "version": 3
   },
   "file_extension": ".py",
   "mimetype": "text/x-python",
   "name": "python",
   "nbconvert_exporter": "python",
   "pygments_lexer": "ipython3",
   "version": "3.11.4"
  }
 },
 "nbformat": 4,
 "nbformat_minor": 1
}
