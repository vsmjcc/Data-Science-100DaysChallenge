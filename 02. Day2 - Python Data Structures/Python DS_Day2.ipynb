{
 "cells": [
  {
   "cell_type": "markdown",
   "id": "b06e9b07",
   "metadata": {},
   "source": [
    "# Python Data Structures by Mrittika"
   ]
  },
  {
   "cell_type": "markdown",
   "id": "3a9a5420",
   "metadata": {},
   "source": [
    "## List"
   ]
  },
  {
   "cell_type": "raw",
   "id": "709d5bc2",
   "metadata": {},
   "source": [
    "In Python, a list is a built-in data structure that allows you to store and organize a collection of items. These items can be of any data type, including other lists. Lists are one of the most commonly used data structures in Python due to their versatility and ease of use.\n",
    "\n",
    "Lists are defined using square brackets [], and the items within the list are separated by commas. Here's an example of how you can create a simple list:\n",
    "\n",
    "my_list = [1, 2, 3, 4, 5]\n",
    "\n",
    "\n",
    "Lists can contain elements of different types, such as integers, strings, floats, and even other lists:\n",
    "\n",
    "mixed_list = [1, \"hello\", 3.14, [5, 6, 7]]\n",
    "\n",
    "You can access individual elements of a list using indexing. Python uses zero-based indexing, so the first element is at index 0, the second element is at index 1, and so on. For example:\n",
    "\n",
    "print(my_list[0])  # Output: 1\n",
    "print(mixed_list[1])  # Output: \"hello\"\n",
    "print(mixed_list[3][0])  # Output: 5 (accessing the first element of the nested list)\n",
    "\n",
    "Lists are mutable, which means you can modify them by changing, adding, or removing elements:\n",
    "\n",
    "my_list[2] = 10  # Change the third element to 10\n",
    "my_list.append(6)  # Add an element to the end of the list\n",
    "my_list.pop(1)  # Remove the element at index 1\n",
    "\n",
    "You can also perform various operations on lists, such as slicing (extracting a sublist), concatenating (joining two or more lists), sorting, and more."
   ]
  },
  {
   "cell_type": "raw",
   "id": "76fe2902",
   "metadata": {},
   "source": [
    "List : To store collection of objects in one variable\n",
    "heterogenous : To store mixed datatypes in the same variable\n",
    "mutable : Values can be changed\n"
   ]
  },
  {
   "cell_type": "raw",
   "id": "eb5d94e0",
   "metadata": {},
   "source": [
    "Subsetting or slicing a list in Python involves extracting a portion of the list based on specified indices.\n",
    "\n",
    "The slicing syntax is as follows:\n",
    "\n",
    "new_list = original_list[start:end:step]\n",
    "\n",
    "start: The index of the first element you want in the new list.\n",
    "end: The index up to which you want to slice (exclusive, i.e., the element at this index will not be included).\n",
    "step: The interval between elements to include in the new list (optional)."
   ]
  },
  {
   "cell_type": "code",
   "execution_count": 1,
   "id": "3b93b313",
   "metadata": {},
   "outputs": [],
   "source": [
    "student_names=[\"Robert\",\"John\",\"Skeen Lee\",\"Mike\",\"Josh\"]"
   ]
  },
  {
   "cell_type": "code",
   "execution_count": 2,
   "id": "8c893d15",
   "metadata": {},
   "outputs": [
    {
     "data": {
      "text/plain": [
       "['Robert', 'John', 'Skeen Lee', 'Mike', 'Josh']"
      ]
     },
     "execution_count": 2,
     "metadata": {},
     "output_type": "execute_result"
    }
   ],
   "source": [
    "student_names"
   ]
  },
  {
   "cell_type": "code",
   "execution_count": 3,
   "id": "a4dc7e06",
   "metadata": {},
   "outputs": [],
   "source": [
    "l2=[\"Robert\",25,78.45,True]"
   ]
  },
  {
   "cell_type": "code",
   "execution_count": 4,
   "id": "df1f67b3",
   "metadata": {},
   "outputs": [
    {
     "data": {
      "text/plain": [
       "['Robert', 25, 78.45, True]"
      ]
     },
     "execution_count": 4,
     "metadata": {},
     "output_type": "execute_result"
    }
   ],
   "source": [
    "l2"
   ]
  },
  {
   "cell_type": "code",
   "execution_count": 5,
   "id": "e68f9ff4",
   "metadata": {},
   "outputs": [
    {
     "data": {
      "text/plain": [
       "'Robert'"
      ]
     },
     "execution_count": 5,
     "metadata": {},
     "output_type": "execute_result"
    }
   ],
   "source": [
    "l2[0]"
   ]
  },
  {
   "cell_type": "code",
   "execution_count": 6,
   "id": "b67b97b1",
   "metadata": {},
   "outputs": [
    {
     "data": {
      "text/plain": [
       "25"
      ]
     },
     "execution_count": 6,
     "metadata": {},
     "output_type": "execute_result"
    }
   ],
   "source": [
    "l2[1]"
   ]
  },
  {
   "cell_type": "code",
   "execution_count": 7,
   "id": "1705ad67",
   "metadata": {},
   "outputs": [],
   "source": [
    "l2[2]=81"
   ]
  },
  {
   "cell_type": "code",
   "execution_count": 8,
   "id": "fa05fa04",
   "metadata": {},
   "outputs": [
    {
     "data": {
      "text/plain": [
       "['Robert', 25, 81, True]"
      ]
     },
     "execution_count": 8,
     "metadata": {},
     "output_type": "execute_result"
    }
   ],
   "source": [
    "l2"
   ]
  },
  {
   "cell_type": "raw",
   "id": "8c3cf246",
   "metadata": {},
   "source": [
    "Append: append() adds an element at the end of the list"
   ]
  },
  {
   "cell_type": "code",
   "execution_count": 9,
   "id": "f3973eeb",
   "metadata": {},
   "outputs": [
    {
     "name": "stdout",
     "output_type": "stream",
     "text": [
      "[1, 2, 3, 4, 5, 6, 5, [7, 8, 9], 6, 7, 8]\n"
     ]
    }
   ],
   "source": [
    "sample = [1, 2, 3, 4, 5, 6]\n",
    "sample.append(5)\n",
    "sample.append([7, 8, 9])\n",
    "sample.extend([6, 7, 8])\n",
    "print(sample)"
   ]
  },
  {
   "cell_type": "raw",
   "id": "53660378",
   "metadata": {},
   "source": [
    "Slicing"
   ]
  },
  {
   "cell_type": "code",
   "execution_count": 10,
   "id": "6af5c3b9",
   "metadata": {},
   "outputs": [
    {
     "name": "stdout",
     "output_type": "stream",
     "text": [
      "[1, 2, 3, 4]\n",
      "[1, 2, 3, 4, 5, 6, 7]\n",
      "[7, 6, 5, 4, 3, 2, 1]\n",
      "[7]\n"
     ]
    }
   ],
   "source": [
    "list = [1, 2, 3, 4, 5, 6, 7]\n",
    "print(list[0:4])\n",
    "print(list[::])\n",
    "print(list[::-1])\n",
    "print(list[-1::])"
   ]
  },
  {
   "cell_type": "raw",
   "id": "44aff083",
   "metadata": {},
   "source": [
    "Deleting elements in list"
   ]
  },
  {
   "cell_type": "code",
   "execution_count": 11,
   "id": "1274457d",
   "metadata": {},
   "outputs": [
    {
     "name": "stdout",
     "output_type": "stream",
     "text": [
      "3\n",
      "[1, 2, 4, 5, 6, 7]\n",
      "[1, 2, 5, 6, 7]\n",
      "[]\n"
     ]
    }
   ],
   "source": [
    "list = [1, 2, 3, 4, 5, 6, 7]\n",
    "print(list.pop(2))\n",
    "print(list)\n",
    "list.remove(4)\n",
    "print(list)\n",
    "list.clear()\n",
    "print(list)"
   ]
  },
  {
   "cell_type": "markdown",
   "id": "d76e1aac",
   "metadata": {},
   "source": [
    "## Tuple"
   ]
  },
  {
   "cell_type": "raw",
   "id": "9d7d8adb",
   "metadata": {},
   "source": [
    "Collection of items/objects in the same variable\n",
    "hetergenous : It can mixed datatypes as well\n",
    "immutable"
   ]
  },
  {
   "cell_type": "code",
   "execution_count": 12,
   "id": "b4f74e58",
   "metadata": {},
   "outputs": [],
   "source": [
    "t1=(\"Robert\",34,60.67)"
   ]
  },
  {
   "cell_type": "code",
   "execution_count": 13,
   "id": "ac7c2cb6",
   "metadata": {},
   "outputs": [
    {
     "data": {
      "text/plain": [
       "('Robert', 34, 60.67)"
      ]
     },
     "execution_count": 13,
     "metadata": {},
     "output_type": "execute_result"
    }
   ],
   "source": [
    "t1"
   ]
  },
  {
   "cell_type": "code",
   "execution_count": 14,
   "id": "8bf69620",
   "metadata": {},
   "outputs": [
    {
     "data": {
      "text/plain": [
       "tuple"
      ]
     },
     "execution_count": 14,
     "metadata": {},
     "output_type": "execute_result"
    }
   ],
   "source": [
    "type(t1)"
   ]
  },
  {
   "cell_type": "code",
   "execution_count": 15,
   "id": "d41ee135",
   "metadata": {},
   "outputs": [
    {
     "data": {
      "text/plain": [
       "'Robert'"
      ]
     },
     "execution_count": 15,
     "metadata": {},
     "output_type": "execute_result"
    }
   ],
   "source": [
    "t1[0]"
   ]
  },
  {
   "cell_type": "code",
   "execution_count": 16,
   "id": "a176855e",
   "metadata": {},
   "outputs": [
    {
     "ename": "TypeError",
     "evalue": "'tuple' object does not support item assignment",
     "output_type": "error",
     "traceback": [
      "\u001b[1;31m---------------------------------------------------------------------------\u001b[0m",
      "\u001b[1;31mTypeError\u001b[0m                                 Traceback (most recent call last)",
      "Cell \u001b[1;32mIn[16], line 1\u001b[0m\n\u001b[1;32m----> 1\u001b[0m t1[\u001b[38;5;241m2\u001b[39m]\u001b[38;5;241m=\u001b[39m\u001b[38;5;241m65\u001b[39m\n",
      "\u001b[1;31mTypeError\u001b[0m: 'tuple' object does not support item assignment"
     ]
    }
   ],
   "source": [
    "t1[2]=65"
   ]
  },
  {
   "cell_type": "raw",
   "id": "5991054c",
   "metadata": {},
   "source": [
    "Slicing"
   ]
  },
  {
   "cell_type": "code",
   "execution_count": 17,
   "id": "8bac072f",
   "metadata": {},
   "outputs": [
    {
     "name": "stdout",
     "output_type": "stream",
     "text": [
      "(2, 3, 4)\n",
      "(1, 2)\n",
      "(8, 9)\n",
      "(1, 2, 3, 4, 5, 6, 7, 8, 9)\n"
     ]
    }
   ],
   "source": [
    "# accessing tuple\n",
    "tuple = (1,2,3,4,5,6,7,8,9)\n",
    "\n",
    "print(tuple[1:4])\n",
    "\n",
    "print(tuple[:-7])\n",
    "\n",
    "print(tuple[7:])\n",
    "\n",
    "print(tuple[:])"
   ]
  },
  {
   "cell_type": "markdown",
   "id": "7c99c3be",
   "metadata": {},
   "source": [
    "## Dictionary"
   ]
  },
  {
   "cell_type": "raw",
   "id": "ff9e2e75",
   "metadata": {},
   "source": [
    "They store key value pairs\n",
    "mutable"
   ]
  },
  {
   "cell_type": "code",
   "execution_count": 18,
   "id": "9ca14f4c",
   "metadata": {},
   "outputs": [],
   "source": [
    "student={\"Name\":\"john\",\"Age\":34,\"Height\":156,\"Grade\":\"A\"}"
   ]
  },
  {
   "cell_type": "code",
   "execution_count": 19,
   "id": "b17dacf1",
   "metadata": {},
   "outputs": [
    {
     "data": {
      "text/plain": [
       "'john'"
      ]
     },
     "execution_count": 19,
     "metadata": {},
     "output_type": "execute_result"
    }
   ],
   "source": [
    "student[\"Name\"]"
   ]
  },
  {
   "cell_type": "code",
   "execution_count": 20,
   "id": "863936a7",
   "metadata": {},
   "outputs": [
    {
     "data": {
      "text/plain": [
       "156"
      ]
     },
     "execution_count": 20,
     "metadata": {},
     "output_type": "execute_result"
    }
   ],
   "source": [
    "student[\"Height\"]"
   ]
  },
  {
   "cell_type": "code",
   "execution_count": 21,
   "id": "a3fb9783",
   "metadata": {},
   "outputs": [],
   "source": [
    "student[\"Age\"]=35"
   ]
  },
  {
   "cell_type": "code",
   "execution_count": 22,
   "id": "0e1bacb4",
   "metadata": {},
   "outputs": [
    {
     "data": {
      "text/plain": [
       "{'Name': 'john', 'Age': 35, 'Height': 156, 'Grade': 'A'}"
      ]
     },
     "execution_count": 22,
     "metadata": {},
     "output_type": "execute_result"
    }
   ],
   "source": [
    "student"
   ]
  },
  {
   "cell_type": "code",
   "execution_count": 23,
   "id": "8ff7ee7a",
   "metadata": {},
   "outputs": [],
   "source": [
    "student[\"Gender\"]=\"Male\""
   ]
  },
  {
   "cell_type": "code",
   "execution_count": 24,
   "id": "fcc52c38",
   "metadata": {},
   "outputs": [
    {
     "data": {
      "text/plain": [
       "{'Name': 'john', 'Age': 35, 'Height': 156, 'Grade': 'A', 'Gender': 'Male'}"
      ]
     },
     "execution_count": 24,
     "metadata": {},
     "output_type": "execute_result"
    }
   ],
   "source": [
    "student"
   ]
  },
  {
   "cell_type": "markdown",
   "id": "d21963b4",
   "metadata": {},
   "source": [
    "## Sets"
   ]
  },
  {
   "cell_type": "raw",
   "id": "00706b66",
   "metadata": {},
   "source": [
    "Empty curly braces { } will make an empty dictionary in Python."
   ]
  },
  {
   "cell_type": "code",
   "execution_count": 25,
   "id": "b7474779",
   "metadata": {},
   "outputs": [
    {
     "name": "stdout",
     "output_type": "stream",
     "text": [
      "{8, 2, 4, 6}\n"
     ]
    }
   ],
   "source": [
    "num = {2, 4, 6, 6, 2, 8}\n",
    "print(num)"
   ]
  },
  {
   "cell_type": "code",
   "execution_count": 26,
   "id": "437b31a4",
   "metadata": {},
   "outputs": [
    {
     "name": "stdout",
     "output_type": "stream",
     "text": [
      "before: {75, 45, 30, 39}\n",
      "after: {32, 39, 75, 45, 30}\n"
     ]
    }
   ],
   "source": [
    "num = {45, 39, 30, 75}\n",
    "\n",
    "print('before:',num)\n",
    "num.add(32)\n",
    "print('after:', num)\n",
    "     "
   ]
  },
  {
   "cell_type": "code",
   "execution_count": 27,
   "id": "ece587d5",
   "metadata": {},
   "outputs": [
    {
     "name": "stdout",
     "output_type": "stream",
     "text": [
      "before: {'Python', 'Java', 'React'}\n",
      "after: {'Python', 'React'}\n"
     ]
    }
   ],
   "source": [
    "languages = {'React', 'Java', 'Python'}\n",
    "\n",
    "print('before:',languages)\n",
    "removedValue = languages.discard('Java')\n",
    "print('after:', languages)"
   ]
  },
  {
   "cell_type": "code",
   "execution_count": 28,
   "id": "05d86c50",
   "metadata": {},
   "outputs": [
    {
     "name": "stdout",
     "output_type": "stream",
     "text": [
      "4\n"
     ]
    }
   ],
   "source": [
    "num = {2, 4, 6, 6, 2, 8}\n",
    "print(len(num))\n",
    "     "
   ]
  },
  {
   "cell_type": "markdown",
   "id": "538857f0",
   "metadata": {},
   "source": [
    "## Set Intersection"
   ]
  },
  {
   "cell_type": "code",
   "execution_count": 29,
   "id": "42811e50",
   "metadata": {},
   "outputs": [
    {
     "name": "stdout",
     "output_type": "stream",
     "text": [
      "using &: {1, 3}\n",
      "using intersection(): {1, 3}\n"
     ]
    }
   ],
   "source": [
    "A = {1, 3, 5}\n",
    "B = {1, 2, 3}\n",
    "print('using &:', A & B)\n",
    "print('using intersection():', A.intersection(B))"
   ]
  },
  {
   "cell_type": "code",
   "execution_count": 30,
   "id": "73d5f8e4",
   "metadata": {},
   "outputs": [
    {
     "name": "stdout",
     "output_type": "stream",
     "text": [
      "using -: {5}\n",
      "using intersection(): {5}\n"
     ]
    }
   ],
   "source": [
    "print('using -:', A - B)\n",
    "print('using intersection():', A.difference(B))"
   ]
  },
  {
   "cell_type": "markdown",
   "id": "d740b27b",
   "metadata": {},
   "source": [
    "## Methods"
   ]
  },
  {
   "cell_type": "code",
   "execution_count": 31,
   "id": "00a1e771",
   "metadata": {},
   "outputs": [],
   "source": [
    "str1=\"John\""
   ]
  },
  {
   "cell_type": "code",
   "execution_count": 32,
   "id": "a8a074f1",
   "metadata": {},
   "outputs": [
    {
     "data": {
      "text/plain": [
       "str"
      ]
     },
     "execution_count": 32,
     "metadata": {},
     "output_type": "execute_result"
    }
   ],
   "source": [
    "type(str1)"
   ]
  },
  {
   "cell_type": "code",
   "execution_count": 33,
   "id": "2b5501bc",
   "metadata": {},
   "outputs": [
    {
     "name": "stdout",
     "output_type": "stream",
     "text": [
      "['__add__', '__class__', '__contains__', '__delattr__', '__dir__', '__doc__', '__eq__', '__format__', '__ge__', '__getattribute__', '__getitem__', '__getnewargs__', '__getstate__', '__gt__', '__hash__', '__init__', '__init_subclass__', '__iter__', '__le__', '__len__', '__lt__', '__mod__', '__mul__', '__ne__', '__new__', '__reduce__', '__reduce_ex__', '__repr__', '__rmod__', '__rmul__', '__setattr__', '__sizeof__', '__str__', '__subclasshook__', 'capitalize', 'casefold', 'center', 'count', 'encode', 'endswith', 'expandtabs', 'find', 'format', 'format_map', 'index', 'isalnum', 'isalpha', 'isascii', 'isdecimal', 'isdigit', 'isidentifier', 'islower', 'isnumeric', 'isprintable', 'isspace', 'istitle', 'isupper', 'join', 'ljust', 'lower', 'lstrip', 'maketrans', 'partition', 'removeprefix', 'removesuffix', 'replace', 'rfind', 'rindex', 'rjust', 'rpartition', 'rsplit', 'rstrip', 'split', 'splitlines', 'startswith', 'strip', 'swapcase', 'title', 'translate', 'upper', 'zfill']\n"
     ]
    }
   ],
   "source": [
    "print(dir(str1))"
   ]
  },
  {
   "cell_type": "code",
   "execution_count": 34,
   "id": "c6d140d5",
   "metadata": {},
   "outputs": [
    {
     "data": {
      "text/plain": [
       "'JOHN'"
      ]
     },
     "execution_count": 34,
     "metadata": {},
     "output_type": "execute_result"
    }
   ],
   "source": [
    "str1.upper()"
   ]
  },
  {
   "cell_type": "code",
   "execution_count": 35,
   "id": "a8dbd81e",
   "metadata": {},
   "outputs": [
    {
     "data": {
      "text/plain": [
       "False"
      ]
     },
     "execution_count": 35,
     "metadata": {},
     "output_type": "execute_result"
    }
   ],
   "source": [
    "str1.isnumeric()"
   ]
  },
  {
   "cell_type": "code",
   "execution_count": 36,
   "id": "62a61d56",
   "metadata": {},
   "outputs": [
    {
     "data": {
      "text/plain": [
       "False"
      ]
     },
     "execution_count": 36,
     "metadata": {},
     "output_type": "execute_result"
    }
   ],
   "source": [
    "str1.isdigit()"
   ]
  },
  {
   "cell_type": "code",
   "execution_count": 37,
   "id": "81b09a8e",
   "metadata": {},
   "outputs": [
    {
     "data": {
      "text/plain": [
       "True"
      ]
     },
     "execution_count": 37,
     "metadata": {},
     "output_type": "execute_result"
    }
   ],
   "source": [
    "str1.isalpha()"
   ]
  },
  {
   "cell_type": "code",
   "execution_count": 38,
   "id": "4b27d8e2",
   "metadata": {},
   "outputs": [
    {
     "data": {
      "text/plain": [
       "'Wohn'"
      ]
     },
     "execution_count": 38,
     "metadata": {},
     "output_type": "execute_result"
    }
   ],
   "source": [
    "str1.replace(\"J\",\"W\")"
   ]
  },
  {
   "cell_type": "code",
   "execution_count": 39,
   "id": "11f05c77",
   "metadata": {},
   "outputs": [
    {
     "name": "stdout",
     "output_type": "stream",
     "text": [
      "['__add__', '__class__', '__class_getitem__', '__contains__', '__delattr__', '__delitem__', '__dir__', '__doc__', '__eq__', '__format__', '__ge__', '__getattribute__', '__getitem__', '__getstate__', '__gt__', '__hash__', '__iadd__', '__imul__', '__init__', '__init_subclass__', '__iter__', '__le__', '__len__', '__lt__', '__mul__', '__ne__', '__new__', '__reduce__', '__reduce_ex__', '__repr__', '__reversed__', '__rmul__', '__setattr__', '__setitem__', '__sizeof__', '__str__', '__subclasshook__', 'append', 'clear', 'copy', 'count', 'extend', 'index', 'insert', 'pop', 'remove', 'reverse', 'sort']\n"
     ]
    }
   ],
   "source": [
    "print(dir(l2))"
   ]
  },
  {
   "cell_type": "code",
   "execution_count": 40,
   "id": "8f59429a",
   "metadata": {},
   "outputs": [],
   "source": [
    "l2.append(\"Male\")"
   ]
  },
  {
   "cell_type": "code",
   "execution_count": 41,
   "id": "29726a3d",
   "metadata": {},
   "outputs": [
    {
     "data": {
      "text/plain": [
       "['Robert', 25, 81, True, 'Male']"
      ]
     },
     "execution_count": 41,
     "metadata": {},
     "output_type": "execute_result"
    }
   ],
   "source": [
    "l2"
   ]
  },
  {
   "cell_type": "code",
   "execution_count": 42,
   "id": "81d724bb",
   "metadata": {},
   "outputs": [
    {
     "data": {
      "text/plain": [
       "'Male'"
      ]
     },
     "execution_count": 42,
     "metadata": {},
     "output_type": "execute_result"
    }
   ],
   "source": [
    "l2.pop()"
   ]
  },
  {
   "cell_type": "code",
   "execution_count": 43,
   "id": "2de80acb",
   "metadata": {},
   "outputs": [
    {
     "data": {
      "text/plain": [
       "['Robert', 25, 81, True]"
      ]
     },
     "execution_count": 43,
     "metadata": {},
     "output_type": "execute_result"
    }
   ],
   "source": [
    "l2"
   ]
  },
  {
   "cell_type": "code",
   "execution_count": 44,
   "id": "e6d2d940",
   "metadata": {},
   "outputs": [],
   "source": [
    "l2.remove(\"Robert\")"
   ]
  },
  {
   "cell_type": "code",
   "execution_count": 45,
   "id": "f2fc68fd",
   "metadata": {},
   "outputs": [
    {
     "data": {
      "text/plain": [
       "[25, 81, True]"
      ]
     },
     "execution_count": 45,
     "metadata": {},
     "output_type": "execute_result"
    }
   ],
   "source": [
    "l2"
   ]
  },
  {
   "cell_type": "markdown",
   "id": "d2c47d8c",
   "metadata": {},
   "source": [
    "## Package"
   ]
  },
  {
   "cell_type": "code",
   "execution_count": 46,
   "id": "3349613e",
   "metadata": {},
   "outputs": [],
   "source": [
    "import numpy as np"
   ]
  },
  {
   "cell_type": "code",
   "execution_count": 47,
   "id": "ac69a29c",
   "metadata": {},
   "outputs": [
    {
     "name": "stdout",
     "output_type": "stream",
     "text": [
      "['ALLOW_THREADS', 'AxisError', 'BUFSIZE', 'CLIP', 'ComplexWarning', 'DataSource', 'ERR_CALL', 'ERR_DEFAULT', 'ERR_IGNORE', 'ERR_LOG', 'ERR_PRINT', 'ERR_RAISE', 'ERR_WARN', 'FLOATING_POINT_SUPPORT', 'FPE_DIVIDEBYZERO', 'FPE_INVALID', 'FPE_OVERFLOW', 'FPE_UNDERFLOW', 'False_', 'Inf', 'Infinity', 'MAXDIMS', 'MAY_SHARE_BOUNDS', 'MAY_SHARE_EXACT', 'ModuleDeprecationWarning', 'NAN', 'NINF', 'NZERO', 'NaN', 'PINF', 'PZERO', 'RAISE', 'RankWarning', 'SHIFT_DIVIDEBYZERO', 'SHIFT_INVALID', 'SHIFT_OVERFLOW', 'SHIFT_UNDERFLOW', 'ScalarType', 'Tester', 'TooHardError', 'True_', 'UFUNC_BUFSIZE_DEFAULT', 'UFUNC_PYVALS_NAME', 'VisibleDeprecationWarning', 'WRAP', '_CopyMode', '_NoValue', '_UFUNC_API', '__NUMPY_SETUP__', '__all__', '__builtins__', '__cached__', '__config__', '__deprecated_attrs__', '__dir__', '__doc__', '__expired_functions__', '__file__', '__former_attrs__', '__future_scalars__', '__getattr__', '__git_version__', '__loader__', '__mkl_version__', '__name__', '__package__', '__path__', '__spec__', '__version__', '_add_newdoc_ufunc', '_builtins', '_distributor_init', '_financial_names', '_get_promotion_state', '_globals', '_int_extended_msg', '_mat', '_no_nep50_warning', '_pyinstaller_hooks_dir', '_pytesttester', '_set_promotion_state', '_specific_msg', '_version', 'abs', 'absolute', 'add', 'add_docstring', 'add_newdoc', 'add_newdoc_ufunc', 'all', 'allclose', 'alltrue', 'amax', 'amin', 'angle', 'any', 'append', 'apply_along_axis', 'apply_over_axes', 'arange', 'arccos', 'arccosh', 'arcsin', 'arcsinh', 'arctan', 'arctan2', 'arctanh', 'argmax', 'argmin', 'argpartition', 'argsort', 'argwhere', 'around', 'array', 'array2string', 'array_equal', 'array_equiv', 'array_repr', 'array_split', 'array_str', 'asanyarray', 'asarray', 'asarray_chkfinite', 'ascontiguousarray', 'asfarray', 'asfortranarray', 'asmatrix', 'atleast_1d', 'atleast_2d', 'atleast_3d', 'average', 'bartlett', 'base_repr', 'binary_repr', 'bincount', 'bitwise_and', 'bitwise_not', 'bitwise_or', 'bitwise_xor', 'blackman', 'block', 'bmat', 'bool_', 'broadcast', 'broadcast_arrays', 'broadcast_shapes', 'broadcast_to', 'busday_count', 'busday_offset', 'busdaycalendar', 'byte', 'byte_bounds', 'bytes_', 'c_', 'can_cast', 'cast', 'cbrt', 'cdouble', 'ceil', 'cfloat', 'char', 'character', 'chararray', 'choose', 'clip', 'clongdouble', 'clongfloat', 'column_stack', 'common_type', 'compare_chararrays', 'compat', 'complex128', 'complex64', 'complex_', 'complexfloating', 'compress', 'concatenate', 'conj', 'conjugate', 'convolve', 'copy', 'copysign', 'copyto', 'corrcoef', 'correlate', 'cos', 'cosh', 'count_nonzero', 'cov', 'cross', 'csingle', 'ctypeslib', 'cumprod', 'cumproduct', 'cumsum', 'datetime64', 'datetime_as_string', 'datetime_data', 'deg2rad', 'degrees', 'delete', 'deprecate', 'deprecate_with_doc', 'diag', 'diag_indices', 'diag_indices_from', 'diagflat', 'diagonal', 'diff', 'digitize', 'disp', 'divide', 'divmod', 'dot', 'double', 'dsplit', 'dstack', 'dtype', 'e', 'ediff1d', 'einsum', 'einsum_path', 'emath', 'empty', 'empty_like', 'equal', 'errstate', 'euler_gamma', 'exp', 'exp2', 'expand_dims', 'expm1', 'extract', 'eye', 'fabs', 'fastCopyAndTranspose', 'fft', 'fill_diagonal', 'find_common_type', 'finfo', 'fix', 'flatiter', 'flatnonzero', 'flexible', 'flip', 'fliplr', 'flipud', 'float16', 'float32', 'float64', 'float_', 'float_power', 'floating', 'floor', 'floor_divide', 'fmax', 'fmin', 'fmod', 'format_float_positional', 'format_float_scientific', 'format_parser', 'frexp', 'from_dlpack', 'frombuffer', 'fromfile', 'fromfunction', 'fromiter', 'frompyfunc', 'fromregex', 'fromstring', 'full', 'full_like', 'gcd', 'generic', 'genfromtxt', 'geomspace', 'get_array_wrap', 'get_include', 'get_printoptions', 'getbufsize', 'geterr', 'geterrcall', 'geterrobj', 'gradient', 'greater', 'greater_equal', 'half', 'hamming', 'hanning', 'heaviside', 'histogram', 'histogram2d', 'histogram_bin_edges', 'histogramdd', 'hsplit', 'hstack', 'hypot', 'i0', 'identity', 'iinfo', 'imag', 'in1d', 'index_exp', 'indices', 'inexact', 'inf', 'info', 'infty', 'inner', 'insert', 'int16', 'int32', 'int64', 'int8', 'int_', 'intc', 'integer', 'interp', 'intersect1d', 'intp', 'invert', 'is_busday', 'isclose', 'iscomplex', 'iscomplexobj', 'isfinite', 'isfortran', 'isin', 'isinf', 'isnan', 'isnat', 'isneginf', 'isposinf', 'isreal', 'isrealobj', 'isscalar', 'issctype', 'issubclass_', 'issubdtype', 'issubsctype', 'iterable', 'ix_', 'kaiser', 'kron', 'lcm', 'ldexp', 'left_shift', 'less', 'less_equal', 'lexsort', 'lib', 'linalg', 'linspace', 'little_endian', 'load', 'loadtxt', 'log', 'log10', 'log1p', 'log2', 'logaddexp', 'logaddexp2', 'logical_and', 'logical_not', 'logical_or', 'logical_xor', 'logspace', 'longcomplex', 'longdouble', 'longfloat', 'longlong', 'lookfor', 'ma', 'mask_indices', 'mat', 'math', 'matmul', 'matrix', 'max', 'maximum', 'maximum_sctype', 'may_share_memory', 'mean', 'median', 'memmap', 'meshgrid', 'mgrid', 'min', 'min_scalar_type', 'minimum', 'mintypecode', 'mkl', 'mod', 'modf', 'moveaxis', 'msort', 'multiply', 'nan', 'nan_to_num', 'nanargmax', 'nanargmin', 'nancumprod', 'nancumsum', 'nanmax', 'nanmean', 'nanmedian', 'nanmin', 'nanpercentile', 'nanprod', 'nanquantile', 'nanstd', 'nansum', 'nanvar', 'nbytes', 'ndarray', 'ndenumerate', 'ndim', 'ndindex', 'nditer', 'negative', 'nested_iters', 'newaxis', 'nextafter', 'nonzero', 'not_equal', 'numarray', 'number', 'obj2sctype', 'object_', 'ogrid', 'oldnumeric', 'ones', 'ones_like', 'outer', 'packbits', 'pad', 'partition', 'percentile', 'pi', 'piecewise', 'place', 'poly', 'poly1d', 'polyadd', 'polyder', 'polydiv', 'polyfit', 'polyint', 'polymul', 'polynomial', 'polysub', 'polyval', 'positive', 'power', 'printoptions', 'prod', 'product', 'promote_types', 'ptp', 'put', 'put_along_axis', 'putmask', 'quantile', 'r_', 'rad2deg', 'radians', 'random', 'ravel', 'ravel_multi_index', 'real', 'real_if_close', 'rec', 'recarray', 'recfromcsv', 'recfromtxt', 'reciprocal', 'record', 'remainder', 'repeat', 'require', 'reshape', 'resize', 'result_type', 'right_shift', 'rint', 'roll', 'rollaxis', 'roots', 'rot90', 'round', 'round_', 'row_stack', 's_', 'safe_eval', 'save', 'savetxt', 'savez', 'savez_compressed', 'sctype2char', 'sctypeDict', 'sctypes', 'searchsorted', 'select', 'set_numeric_ops', 'set_printoptions', 'set_string_function', 'setbufsize', 'setdiff1d', 'seterr', 'seterrcall', 'seterrobj', 'setxor1d', 'shape', 'shares_memory', 'short', 'show_config', 'show_runtime', 'sign', 'signbit', 'signedinteger', 'sin', 'sinc', 'single', 'singlecomplex', 'sinh', 'size', 'sometrue', 'sort', 'sort_complex', 'source', 'spacing', 'split', 'sqrt', 'square', 'squeeze', 'stack', 'std', 'str_', 'string_', 'subtract', 'sum', 'swapaxes', 'take', 'take_along_axis', 'tan', 'tanh', 'tensordot', 'test', 'testing', 'tile', 'timedelta64', 'trace', 'tracemalloc_domain', 'transpose', 'trapz', 'tri', 'tril', 'tril_indices', 'tril_indices_from', 'trim_zeros', 'triu', 'triu_indices', 'triu_indices_from', 'true_divide', 'trunc', 'typecodes', 'typename', 'ubyte', 'ufunc', 'uint', 'uint16', 'uint32', 'uint64', 'uint8', 'uintc', 'uintp', 'ulonglong', 'unicode_', 'union1d', 'unique', 'unpackbits', 'unravel_index', 'unsignedinteger', 'unwrap', 'use_hugepage', 'ushort', 'vander', 'var', 'vdot', 'vectorize', 'version', 'void', 'vsplit', 'vstack', 'where', 'who', 'zeros', 'zeros_like']\n"
     ]
    }
   ],
   "source": [
    "print(dir(np))"
   ]
  },
  {
   "cell_type": "code",
   "execution_count": null,
   "id": "99313069",
   "metadata": {},
   "outputs": [],
   "source": []
  },
  {
   "cell_type": "code",
   "execution_count": null,
   "id": "0995b77b",
   "metadata": {},
   "outputs": [],
   "source": []
  },
  {
   "cell_type": "code",
   "execution_count": null,
   "id": "36d18800",
   "metadata": {},
   "outputs": [],
   "source": []
  },
  {
   "cell_type": "code",
   "execution_count": null,
   "id": "51a8ef32",
   "metadata": {},
   "outputs": [],
   "source": []
  }
 ],
 "metadata": {
  "kernelspec": {
   "display_name": "Python 3 (ipykernel)",
   "language": "python",
   "name": "python3"
  },
  "language_info": {
   "codemirror_mode": {
    "name": "ipython",
    "version": 3
   },
   "file_extension": ".py",
   "mimetype": "text/x-python",
   "name": "python",
   "nbconvert_exporter": "python",
   "pygments_lexer": "ipython3",
   "version": "3.11.4"
  }
 },
 "nbformat": 4,
 "nbformat_minor": 5
}
