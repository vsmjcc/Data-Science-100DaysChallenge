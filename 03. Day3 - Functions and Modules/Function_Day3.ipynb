{
 "cells": [
  {
   "cell_type": "markdown",
   "metadata": {},
   "source": [
    "# Function,Modules by Mrittika Megaraj"
   ]
  },
  {
   "cell_type": "markdown",
   "metadata": {},
   "source": [
    "## Function"
   ]
  },
  {
   "cell_type": "raw",
   "metadata": {
    "id": "ckwf5a6-uCRX"
   },
   "source": [
    "A function is a block of code that performs a specific task.    \n",
    "Code reusability : I don't need to write same code again and again\n",
    "Pass values to the function : Parameters\n",
    "It will a value using a keyword called as return"
   ]
  },
  {
   "cell_type": "code",
   "execution_count": 1,
   "metadata": {
    "colab": {
     "base_uri": "https://localhost:8080/"
    },
    "id": "ogP0T3mjsQY9",
    "outputId": "630dcd20-5fe2-4d43-f0a1-d6ce355e9f19"
   },
   "outputs": [
    {
     "name": "stdout",
     "output_type": "stream",
     "text": [
      "Hi World\n"
     ]
    }
   ],
   "source": [
    "# user-defined function\n",
    "def hello():\n",
    "    print('Hi World')\n",
    "hello()    #function calling"
   ]
  },
  {
   "cell_type": "code",
   "execution_count": 2,
   "metadata": {
    "colab": {
     "base_uri": "https://localhost:8080/"
    },
    "id": "pob-KeYnu1uw",
    "outputId": "6b5a3708-278f-4338-ef9f-d70af24b9281"
   },
   "outputs": [
    {
     "name": "stdout",
     "output_type": "stream",
     "text": [
      "100\n"
     ]
    }
   ],
   "source": [
    "# Function along parameter\n",
    "def addition(n1,n2):\n",
    "    print(n1+n2)\n",
    "addition(50,50)"
   ]
  },
  {
   "cell_type": "markdown",
   "metadata": {
    "id": "0M0mBso7x4Hz"
   },
   "source": [
    "**Function return type**"
   ]
  },
  {
   "cell_type": "code",
   "execution_count": 3,
   "metadata": {
    "colab": {
     "base_uri": "https://localhost:8080/"
    },
    "id": "51vHed1Su8el",
    "outputId": "b142eea1-4103-4cae-b274-c3bf6cf4d1e1"
   },
   "outputs": [
    {
     "name": "stdout",
     "output_type": "stream",
     "text": [
      "Square: 100\n"
     ]
    }
   ],
   "source": [
    "# function\n",
    "def find_square(num):\n",
    "    result = num * num\n",
    "    return result\n",
    "#calling function\n",
    "square = find_square(10)\n",
    "\n",
    "print('Square:',square)"
   ]
  },
  {
   "cell_type": "markdown",
   "metadata": {
    "id": "QuKC9VW2yM3K"
   },
   "source": [
    "**Types of Function Arguments:**\n",
    "\n",
    "\n",
    "1.   Default Arguments:\n",
    "\n"
   ]
  },
  {
   "cell_type": "code",
   "execution_count": 4,
   "metadata": {
    "colab": {
     "base_uri": "https://localhost:8080/"
    },
    "id": "RT8cUTw1xs33",
    "outputId": "7e30f259-b443-4aaf-b809-ff71e6d1c319"
   },
   "outputs": [
    {
     "name": "stdout",
     "output_type": "stream",
     "text": [
      "Sum: 5\n",
      "Sum: 150\n"
     ]
    }
   ],
   "source": [
    "def add_numbers( a = 70,  b = 80):\n",
    "    sum = a + b\n",
    "    print('Sum:', sum)\n",
    "\n",
    "# two arguments\n",
    "add_numbers(2, 3)\n",
    "\n",
    "#No arguments\n",
    "add_numbers()"
   ]
  },
  {
   "cell_type": "markdown",
   "metadata": {
    "id": "TxravEj5y47N"
   },
   "source": [
    "2.   Keyword Arguments"
   ]
  },
  {
   "cell_type": "code",
   "execution_count": 5,
   "metadata": {
    "colab": {
     "base_uri": "https://localhost:8080/"
    },
    "id": "aguX-YLfzKH4",
    "outputId": "36973655-8ea3-4390-c01e-afab28d67ccf"
   },
   "outputs": [
    {
     "name": "stdout",
     "output_type": "stream",
     "text": [
      "First Name: Mrittika\n",
      "Last Name: Megaraj\n"
     ]
    }
   ],
   "source": [
    "def show(first_name, last_name):\n",
    "    print('First Name:', first_name)\n",
    "    print('Last Name:', last_name)\n",
    "\n",
    "show(last_name = 'Megaraj', first_name = 'Mrittika')"
   ]
  },
  {
   "cell_type": "markdown",
   "metadata": {
    "id": "iTkCZsNQzfNv"
   },
   "source": [
    "3. Positional Arguments"
   ]
  },
  {
   "cell_type": "code",
   "execution_count": 6,
   "metadata": {
    "colab": {
     "base_uri": "https://localhost:8080/"
    },
    "id": "f34Dqtw9zpFN",
    "outputId": "f2f019b9-2af1-433f-8b33-92cded10e929"
   },
   "outputs": [
    {
     "name": "stdout",
     "output_type": "stream",
     "text": [
      "Mrittika 21\n",
      "21 Mrittika\n"
     ]
    }
   ],
   "source": [
    "def prints(age,name):\n",
    "    print(age,name)\n",
    "\n",
    "prints('Mrittika',21)\n",
    "prints(21,'Mrittika')"
   ]
  },
  {
   "cell_type": "markdown",
   "metadata": {
    "id": "v7XXz34Ez9EO"
   },
   "source": [
    "4. Arbitrary Arguments"
   ]
  },
  {
   "cell_type": "code",
   "execution_count": 7,
   "metadata": {
    "colab": {
     "base_uri": "https://localhost:8080/"
    },
    "id": "tQMh64Mp0MbP",
    "outputId": "71320f7f-3313-4a3f-af34-46d11d84a796"
   },
   "outputs": [
    {
     "name": "stdout",
     "output_type": "stream",
     "text": [
      "Sum =  6\n"
     ]
    }
   ],
   "source": [
    "#find sum of multiple numbers\n",
    "def find_sum(*numbers):\n",
    "    result = 0\n",
    "    for num in numbers:\n",
    "        result = result + num\n",
    "    print(\"Sum = \", result)\n",
    "\n",
    "find_sum(1, 2, 3)"
   ]
  },
  {
   "cell_type": "markdown",
   "metadata": {
    "id": "PRnVoZqC9jWd"
   },
   "source": [
    "**Python Recursion** :\n",
    "Recursion is the process of defining something in terms of itself."
   ]
  },
  {
   "cell_type": "code",
   "execution_count": 8,
   "metadata": {
    "colab": {
     "base_uri": "https://localhost:8080/"
    },
    "id": "umAH6LsJ9m_D",
    "outputId": "dfcd821c-145d-4fc9-b079-0fa6b44b9809"
   },
   "outputs": [
    {
     "name": "stdout",
     "output_type": "stream",
     "text": [
      "Enter the number:6\n",
      "The factorial is 720\n"
     ]
    }
   ],
   "source": [
    "def factorial(x):\n",
    "    if x == 1:\n",
    "        return 1\n",
    "    else:\n",
    "        return (x * factorial(x-1))\n",
    "\n",
    "x = int(input(\"Enter the number:\"))\n",
    "print(\"The factorial is\", factorial(x))"
   ]
  },
  {
   "cell_type": "code",
   "execution_count": 9,
   "metadata": {
    "colab": {
     "base_uri": "https://localhost:8080/"
    },
    "id": "fB51DdK89uUo",
    "outputId": "a4059ba6-8a3b-4c75-f9bd-0520623b0e7e"
   },
   "outputs": [
    {
     "name": "stdout",
     "output_type": "stream",
     "text": [
      "* * * * * \n",
      "* * * * \n",
      "* * * \n",
      "* * \n",
      "* \n"
     ]
    }
   ],
   "source": [
    "#python recursive pattern\n",
    "def row(n):\n",
    "    if n < 1:\n",
    "        return\n",
    "    print(\"*\", end=\" \")\n",
    "    row(n - 1)\n",
    "\n",
    "def pattern(n):\n",
    "    if n < 1:\n",
    "        return\n",
    "    row(n)\n",
    "    print(\"\")\n",
    "    pattern(n - 1)\n",
    "\n",
    "n = 5\n",
    "pattern(n)"
   ]
  },
  {
   "cell_type": "markdown",
   "metadata": {},
   "source": [
    "## Modules"
   ]
  },
  {
   "cell_type": "raw",
   "metadata": {},
   "source": [
    "There are two types of modules:\n",
    "1.Built-in module:\n",
    "2.User-defined module:"
   ]
  },
  {
   "cell_type": "markdown",
   "metadata": {},
   "source": [
    "## MATH Function"
   ]
  },
  {
   "cell_type": "code",
   "execution_count": 10,
   "metadata": {},
   "outputs": [
    {
     "name": "stdout",
     "output_type": "stream",
     "text": [
      "The square root of 25 is 5.0\n",
      "The factorial of 5 is 120\n",
      "The value of pi is approximately 3.141592653589793\n",
      "The sine of 30 degrees is 0.49999999999999994\n",
      "The natural logarithm of 2.71828 is 0.999999327347282\n",
      "2 raised to the power of 3 is 8.0\n",
      "3.7 rounded to the nearest integer is 4\n"
     ]
    }
   ],
   "source": [
    "import math\n",
    "\n",
    "# Calculate the square root of a number\n",
    "num = 25\n",
    "sqrt_num = math.sqrt(num)\n",
    "print(f\"The square root of {num} is {sqrt_num}\")\n",
    "\n",
    "# Calculate the factorial of a number\n",
    "num = 5\n",
    "factorial = math.factorial(num)\n",
    "print(f\"The factorial of {num} is {factorial}\")\n",
    "\n",
    "# Calculate the value of pi\n",
    "pi_value = math.pi\n",
    "print(f\"The value of pi is approximately {pi_value}\")\n",
    "\n",
    "# Calculate the sine of an angle in radians\n",
    "angle_rad = math.radians(30)  # Convert 30 degrees to radians\n",
    "sin_value = math.sin(angle_rad)\n",
    "print(f\"The sine of 30 degrees is {sin_value}\")\n",
    "\n",
    "# Calculate the natural logarithm (base e) of a number\n",
    "num = 2.71828  # Euler's number (approximately)\n",
    "ln_value = math.log(num)\n",
    "print(f\"The natural logarithm of {num} is {ln_value}\")\n",
    "\n",
    "# Calculate the power of a number\n",
    "base = 2\n",
    "exponent = 3\n",
    "power_result = math.pow(base, exponent)\n",
    "print(f\"{base} raised to the power of {exponent} is {power_result}\")\n",
    "\n",
    "# Round a number to the nearest integer\n",
    "num = 3.7\n",
    "rounded_num = math.ceil(num)  # ceil() rounds up, floor() rounds down\n",
    "print(f\"{num} rounded to the nearest integer is {rounded_num}\")\n"
   ]
  },
  {
   "cell_type": "markdown",
   "metadata": {},
   "source": [
    "## DateTime Function"
   ]
  },
  {
   "cell_type": "code",
   "execution_count": 11,
   "metadata": {},
   "outputs": [
    {
     "name": "stdout",
     "output_type": "stream",
     "text": [
      "Current Date and Time: 2024-02-02 21:34:43.652612\n",
      "Current Date: 2024-02-02\n",
      "Specific Date: 2023-09-30\n",
      "Specific Time: 14:30:00\n",
      "Combined DateTime: 2023-09-30 14:30:00\n",
      "Year: 2024\n",
      "Month: 2\n",
      "Day: 2\n",
      "Hour: 21\n",
      "Minute: 34\n",
      "Second: 43\n"
     ]
    }
   ],
   "source": [
    "import datetime\n",
    "\n",
    "# Get the current date and time\n",
    "current_datetime = datetime.datetime.now()\n",
    "print(f\"Current Date and Time: {current_datetime}\")\n",
    "\n",
    "# Get the current date\n",
    "current_date = datetime.date.today()\n",
    "print(f\"Current Date: {current_date}\")\n",
    "\n",
    "# Create a specific date\n",
    "specific_date = datetime.date(2023, 9, 30)\n",
    "print(f\"Specific Date: {specific_date}\")\n",
    "\n",
    "# Create a specific time\n",
    "specific_time = datetime.time(14, 30, 0)\n",
    "print(f\"Specific Time: {specific_time}\")\n",
    "\n",
    "# Combine date and time into a datetime object\n",
    "combined_datetime = datetime.datetime.combine(specific_date, specific_time)\n",
    "print(f\"Combined DateTime: {combined_datetime}\")\n",
    "\n",
    "# Access individual components of a datetime object\n",
    "year = current_datetime.year\n",
    "month = current_datetime.month\n",
    "day = current_datetime.day\n",
    "hour = current_datetime.hour\n",
    "minute = current_datetime.minute\n",
    "second = current_datetime.second\n",
    "\n",
    "print(f\"Year: {year}\")\n",
    "print(f\"Month: {month}\")\n",
    "print(f\"Day: {day}\")\n",
    "print(f\"Hour: {hour}\")\n",
    "print(f\"Minute: {minute}\")\n",
    "print(f\"Second: {second}\")\n",
    "\n",
    "\n"
   ]
  },
  {
   "cell_type": "markdown",
   "metadata": {},
   "source": [
    "## User Defined Function"
   ]
  },
  {
   "cell_type": "code",
   "execution_count": 12,
   "metadata": {},
   "outputs": [
    {
     "name": "stdout",
     "output_type": "stream",
     "text": [
      "Enter first number:10\n",
      "Enter second number:2\n",
      "Addition 12\n",
      "Subtraction 8\n",
      "Multiplication 7.4\n",
      "Division 5.0\n"
     ]
    }
   ],
   "source": [
    "num1 = int(input(\"Enter first number:\"))\n",
    "\n",
    "num2 = int(input(\"Enter second number:\"))\n",
    "\n",
    "print(\"Addition\", num1 + num2)\n",
    "\n",
    "print(\"Subtraction\", num1 - num2)\n",
    "print(\"Multiplication\", num * num2)\n",
    "print(\"Division\",num1/num2)"
   ]
  },
  {
   "cell_type": "code",
   "execution_count": 13,
   "metadata": {},
   "outputs": [
    {
     "name": "stdout",
     "output_type": "stream",
     "text": [
      "Random Number: 8\n",
      "Random Float: 0.8587508337194668\n"
     ]
    }
   ],
   "source": [
    "import random\n",
    "\n",
    "# Generate a random integer between 1 and 10 (inclusive)\n",
    "random_num = random.randint(1, 10)\n",
    "print(\"Random Number:\", random_num)\n",
    "\n",
    "# Generate a random floating-point number between 0 and 1\n",
    "random_float = random.random()\n",
    "print(\"Random Float:\", random_float)\n"
   ]
  },
  {
   "cell_type": "code",
   "execution_count": 14,
   "metadata": {},
   "outputs": [
    {
     "name": "stdout",
     "output_type": "stream",
     "text": [
      "JSON Data: {\"name\": \"Alice\", \"age\": 30}\n",
      "Python Dictionary: {'name': 'Alice', 'age': 30}\n"
     ]
    }
   ],
   "source": [
    "import json\n",
    "\n",
    "# Serialize Python dictionary to JSON\n",
    "data = {\"name\": \"Alice\", \"age\": 30}\n",
    "json_data = json.dumps(data)\n",
    "print(\"JSON Data:\", json_data)\n",
    "\n",
    "# Deserialize JSON to Python dictionary\n",
    "parsed_data = json.loads(json_data)\n",
    "print(\"Python Dictionary:\", parsed_data)\n"
   ]
  },
  {
   "cell_type": "markdown",
   "metadata": {},
   "source": [
    "## Variable Scope"
   ]
  },
  {
   "cell_type": "code",
   "execution_count": 15,
   "metadata": {},
   "outputs": [
    {
     "name": "stdout",
     "output_type": "stream",
     "text": [
      "10 20\n",
      "10 10 12\n",
      "20\n",
      "10 20\n"
     ]
    }
   ],
   "source": [
    "n,m = 10,20\n",
    "print(n,m)\n",
    "\n",
    "def func(n):\n",
    "    a = 10\n",
    "    global b\n",
    "    b=12\n",
    "    print(a,n,b)  \n",
    "    print(m)\n",
    "\n",
    "func(n)\n",
    "print(n,m)"
   ]
  },
  {
   "cell_type": "markdown",
   "metadata": {},
   "source": [
    "## yield vs return"
   ]
  },
  {
   "cell_type": "code",
   "execution_count": 18,
   "metadata": {},
   "outputs": [
    {
     "name": "stdout",
     "output_type": "stream",
     "text": [
      "4\n"
     ]
    }
   ],
   "source": [
    "# return\n",
    "\n",
    "def fun1(n):\n",
    "    for i in range(2,n):\n",
    "        return i**2\n",
    "\n",
    "print(fun1(5))"
   ]
  },
  {
   "cell_type": "code",
   "execution_count": 19,
   "metadata": {},
   "outputs": [
    {
     "name": "stdout",
     "output_type": "stream",
     "text": [
      "[1, 4, 9, 16]\n"
     ]
    }
   ],
   "source": [
    "# yield\n",
    "\n",
    "def fun2(n):\n",
    "    for i in range(1,n):\n",
    "        yield i**2\n",
    "\n",
    "print(list(fun2(5)))"
   ]
  },
  {
   "cell_type": "code",
   "execution_count": null,
   "metadata": {},
   "outputs": [],
   "source": []
  }
 ],
 "metadata": {
  "colab": {
   "authorship_tag": "ABX9TyO6TpIjoiDDPY/hCREjOMA3",
   "include_colab_link": true,
   "provenance": []
  },
  "kernelspec": {
   "display_name": "Python 3 (ipykernel)",
   "language": "python",
   "name": "python3"
  },
  "language_info": {
   "codemirror_mode": {
    "name": "ipython",
    "version": 3
   },
   "file_extension": ".py",
   "mimetype": "text/x-python",
   "name": "python",
   "nbconvert_exporter": "python",
   "pygments_lexer": "ipython3",
   "version": "3.11.4"
  }
 },
 "nbformat": 4,
 "nbformat_minor": 1
}
