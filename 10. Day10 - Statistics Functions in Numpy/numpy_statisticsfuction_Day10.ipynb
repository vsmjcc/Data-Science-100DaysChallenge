{
 "cells": [
  {
   "cell_type": "markdown",
   "metadata": {},
   "source": [
    "# Statistics Function in Numpy by Mrittika Megaraj"
   ]
  },
  {
   "cell_type": "markdown",
   "metadata": {},
   "source": [
    "## **Random Generation Function**\n"
   ]
  },
  {
   "cell_type": "markdown",
   "metadata": {},
   "source": [
    " **random mudule:**\n",
    "\n",
    "* Python random module is a built-in module for random numbers in Python.\n",
    "\n",
    "* These are sort of fake random numbers which do not possess True randomness."
   ]
  },
  {
   "cell_type": "markdown",
   "metadata": {},
   "source": [
    " **1. rand():** \n",
    "\n",
    "* Return 1-D array with random values between 0 to 1, can provide (x,y) args to shape the array to form multi-dim array."
   ]
  },
  {
   "cell_type": "code",
   "execution_count": 1,
   "metadata": {},
   "outputs": [
    {
     "name": "stdout",
     "output_type": "stream",
     "text": [
      "[0.27440777 0.95168032 0.89432766 0.76926979 0.73419359 0.3841947\n",
      " 0.72743353 0.03001044 0.2308077  0.21702153]\n",
      "[[0.92052836 0.29667304 0.90877154]\n",
      " [0.65645662 0.67756915 0.54664712]\n",
      " [0.29797975 0.30479065 0.45901084]\n",
      " [0.95911592 0.75059262 0.64985947]\n",
      " [0.17566988 0.50843891 0.52691204]]\n"
     ]
    }
   ],
   "source": [
    "import random, numpy as np\n",
    "\n",
    "b = np.random.rand(10)\n",
    "print(b)\n",
    "\n",
    "a = np.random.rand(5, 3)\n",
    "print(a)"
   ]
  },
  {
   "cell_type": "markdown",
   "metadata": {},
   "source": [
    " **2. random():**\n",
    "* Random numbers from 0 to 1 range.\n",
    "* Takes only 1 arg, to return only 1-D array.\n",
    "* Have to use reshape() method, to form multi-dim array."
   ]
  },
  {
   "cell_type": "markdown",
   "metadata": {},
   "source": [
    "a = np.random.random(10)\n",
    "print(a)\n",
    "a.reshape(2,5)\n",
    "print(a)"
   ]
  },
  {
   "cell_type": "markdown",
   "metadata": {},
   "source": [
    " **3. ranf():**\n",
    "* Generate random nums between 0 to 1.\n",
    "\n",
    "* Takes only 1 arg."
   ]
  },
  {
   "cell_type": "code",
   "execution_count": 2,
   "metadata": {},
   "outputs": [
    {
     "name": "stdout",
     "output_type": "stream",
     "text": [
      "[0.75464426 0.37973494 0.93951934 0.17206266 0.09794126]\n"
     ]
    }
   ],
   "source": [
    "a = np.random.ranf(5)\n",
    "print(a)"
   ]
  },
  {
   "cell_type": "markdown",
   "metadata": {},
   "source": [
    " **4. randint():**\n",
    "* Generate random int numbers.\n",
    "\n",
    "* **Syntax -** np.random.randint(low, high[None by default], size[None by default], dtype='i') "
   ]
  },
  {
   "cell_type": "code",
   "execution_count": 3,
   "metadata": {},
   "outputs": [
    {
     "name": "stdout",
     "output_type": "stream",
     "text": [
      "[9 8 5 8 6 3 5 3 3 9]\n",
      "8\n"
     ]
    }
   ],
   "source": [
    "a = np.random.randint(2,10,10,dtype='i')\n",
    "print(a)\n",
    "\n",
    "b = np.random.randint(2,10)\n",
    "print(b)"
   ]
  },
  {
   "cell_type": "markdown",
   "metadata": {},
   "source": [
    " **5. randn():**\n",
    "* Generate the normally distributed numbers around (0,0) i.e. Origin co-ordinates.\n",
    "\n",
    "* **Syntax -** np.random.randn(num)\n",
    "\n",
    "* Return 1-D array."
   ]
  },
  {
   "cell_type": "code",
   "execution_count": 4,
   "metadata": {},
   "outputs": [
    {
     "name": "stdout",
     "output_type": "stream",
     "text": [
      "[-0.21517243 -0.43670005  0.502274    0.34239743  0.14009762  1.88264593\n",
      " -0.83057011 -0.69571428 -2.19611707  0.06735687]\n"
     ]
    },
    {
     "data": {
      "text/plain": [
       "<Axes: ylabel='Density'>"
      ]
     },
     "execution_count": 4,
     "metadata": {},
     "output_type": "execute_result"
    },
    {
     "data": {
      "image/png": "[encoded data removed]",
      "text/plain": [
       "<Figure size 640x480 with 1 Axes>"
      ]
     },
     "metadata": {},
     "output_type": "display_data"
    }
   ],
   "source": [
    "a = np.random.randn(10)\n",
    "print(a)\n",
    "\n",
    "# Plot normally distributed graph\n",
    "import seaborn as sns\n",
    "a = np.random.randn(2)\n",
    "sns.kdeplot(a)"
   ]
  },
  {
   "cell_type": "markdown",
   "metadata": {},
   "source": [
    "## Normal (Gaussian) Distribution"
   ]
  },
  {
   "cell_type": "code",
   "execution_count": 5,
   "metadata": {},
   "outputs": [
    {
     "name": "stdout",
     "output_type": "stream",
     "text": [
      "[[-1.35639951  2.51663696  1.86624539]\n",
      " [-0.51552833 -1.15084862  4.23080859]]\n",
      "-------\n",
      "[4 4 2 6 6 4 4 7 4 4]\n",
      "-------\n",
      "[1 4 1 0 5 3 2 1 4 3]\n",
      "-------\n",
      "[[0.44494749 0.51389724 0.438791  ]\n",
      " [0.44485319 0.14351008 0.90352906]]\n",
      "-------\n",
      "[[ 1.02292489 -4.84581465  1.12422688]\n",
      " [ 3.55466298 -2.01357969 -1.88858759]]\n"
     ]
    }
   ],
   "source": [
    "from numpy import random\n",
    "\n",
    "y1 = random.normal(loc=1, scale=2, size=(2, 3))\n",
    "y2 = random.binomial(n=10, p=0.5, size=10)\n",
    "y3 = random.poisson(lam=2, size=10)\n",
    "y4 = random.uniform(size=(2, 3))\n",
    "y5 = random.logistic(loc=1, scale=2, size=(2, 3))\n",
    "\n",
    "print(y1)\n",
    "print(\"-------\")\n",
    "print(y2)\n",
    "print(\"-------\")\n",
    "print(y3)\n",
    "print(\"-------\")\n",
    "print(y4)\n",
    "print(\"-------\")\n",
    "print(y5)\n",
    "     "
   ]
  },
  {
   "cell_type": "markdown",
   "metadata": {},
   "source": [
    "## Visulaization of Distribution"
   ]
  },
  {
   "cell_type": "code",
   "execution_count": 6,
   "metadata": {},
   "outputs": [
    {
     "name": "stderr",
     "output_type": "stream",
     "text": [
      "C:\\Users\\Mrittika\\AppData\\Local\\Temp\\ipykernel_24220\\1820010395.py:9: UserWarning: \n",
      "\n",
      "`distplot` is a deprecated function and will be removed in seaborn v0.14.0.\n",
      "\n",
      "Please adapt your code to use either `displot` (a figure-level function with\n",
      "similar flexibility) or `kdeplot` (an axes-level function for kernel density plots).\n",
      "\n",
      "For a guide to updating your code to use the new functions, please see\n",
      "https://gist.github.com/mwaskom/de44147ed2974457ad6372750bbe5751\n",
      "\n",
      "  sns.distplot(random.normal(size=1000), hist=False)\n",
      "C:\\Users\\Mrittika\\AppData\\Local\\Temp\\ipykernel_24220\\1820010395.py:14: UserWarning: \n",
      "\n",
      "`distplot` is a deprecated function and will be removed in seaborn v0.14.0.\n",
      "\n",
      "Please adapt your code to use either `displot` (a figure-level function with\n",
      "similar flexibility) or `histplot` (an axes-level function for histograms).\n",
      "\n",
      "For a guide to updating your code to use the new functions, please see\n",
      "https://gist.github.com/mwaskom/de44147ed2974457ad6372750bbe5751\n",
      "\n",
      "  sns.distplot(random.binomial(n=10, p=0.5, size=1000), hist=True, kde=False)\n",
      "C:\\Users\\Mrittika\\AppData\\Local\\Temp\\ipykernel_24220\\1820010395.py:19: UserWarning: \n",
      "\n",
      "`distplot` is a deprecated function and will be removed in seaborn v0.14.0.\n",
      "\n",
      "Please adapt your code to use either `displot` (a figure-level function with\n",
      "similar flexibility) or `histplot` (an axes-level function for histograms).\n",
      "\n",
      "For a guide to updating your code to use the new functions, please see\n",
      "https://gist.github.com/mwaskom/de44147ed2974457ad6372750bbe5751\n",
      "\n",
      "  sns.distplot(random.poisson(lam=2, size=1000), kde=False)\n"
     ]
    },
    {
     "data": {
      "text/plain": [
       "Text(0.5, 1.0, 'Poisson distribution')"
      ]
     },
     "execution_count": 6,
     "metadata": {},
     "output_type": "execute_result"
    },
    {
     "data": {
      "image/png": "[encoded data removed]",
      "text/plain": [
       "<Figure size 1200x1200 with 3 Axes>"
      ]
     },
     "metadata": {},
     "output_type": "display_data"
    }
   ],
   "source": [
    "import matplotlib.pyplot as plt\n",
    "import seaborn as sns\n",
    "\n",
    "# Create subplots to display the distributions using Seaborn\n",
    "plt.figure(figsize=(12,12))\n",
    "\n",
    "# Normal distribution\n",
    "plt.subplot(331)\n",
    "sns.distplot(random.normal(size=1000), hist=False)\n",
    "plt.title('Normal Distribution')\n",
    "\n",
    "# Binomial distribution\n",
    "plt.subplot(332)\n",
    "sns.distplot(random.binomial(n=10, p=0.5, size=1000), hist=True, kde=False)\n",
    "plt.title('Binomial Distribution')\n",
    "\n",
    "# Poisson distribution\n",
    "plt.subplot(333)\n",
    "sns.distplot(random.poisson(lam=2, size=1000), kde=False)\n",
    "plt.title('Poisson distribution')"
   ]
  },
  {
   "cell_type": "markdown",
   "metadata": {},
   "source": [
    "Alias: \n",
    "An alias refers to multiple variables that all point to the same underlying NumPy array object. \n",
    "They share the same data in memory. Changes in alias array will affect the original array.\n",
    "\n",
    "View: \n",
    "The .view() method creates a new array object that looks at the same data as the original array but does not share the same identity. \n",
    "It provides a way to view the data differently or with different data types, but it still operates on the same underlying data.\n",
    "\n",
    "Copy: \n",
    "A copy is a completely independent duplicate of a NumPy array. \n",
    "It has its own data in memory, and changes made to the copy will not affect the original array, and vice versa."
   ]
  },
  {
   "cell_type": "code",
   "execution_count": 7,
   "metadata": {},
   "outputs": [
    {
     "data": {
      "text/plain": [
       "array([10,  2,  3])"
      ]
     },
     "execution_count": 7,
     "metadata": {},
     "output_type": "execute_result"
    }
   ],
   "source": [
    "original_arr = np.array([1, 2, 3])\n",
    "\n",
    "# alias of original array\n",
    "alias_arr = original_arr\n",
    "\n",
    "# chaing a value in alias array\n",
    "alias_arr[0]=10\n",
    "\n",
    "# you can observe that it will also change the original array\n",
    "original_arr"
   ]
  },
  {
   "cell_type": "code",
   "execution_count": 8,
   "metadata": {},
   "outputs": [
    {
     "name": "stdout",
     "output_type": "stream",
     "text": [
      "[99  2  3]\n"
     ]
    }
   ],
   "source": [
    "original_arr = np.array([1, 2, 3])\n",
    "# Changes to view_arr will affect the original array\n",
    "view_arr = original_arr.view()\n",
    "\n",
    "# Modify an element in the view\n",
    "view_arr[0] = 99\n",
    "\n",
    "# Check the original array\n",
    "print(original_arr)"
   ]
  },
  {
   "cell_type": "code",
   "execution_count": 9,
   "metadata": {},
   "outputs": [
    {
     "name": "stdout",
     "output_type": "stream",
     "text": [
      "[1 2 3]\n"
     ]
    }
   ],
   "source": [
    "original_arr = np.array([1, 2, 3])\n",
    "# Changes to copy_arr won't affect the original array\n",
    "copy_arr = original_arr.copy()\n",
    "\n",
    "copy_arr[0] = 100\n",
    "\n",
    "# Copy doesn't change the original array\n",
    "print(original_arr)"
   ]
  },
  {
   "cell_type": "markdown",
   "metadata": {},
   "source": [
    "# **Sorting Functions:**\n",
    "\n",
    "---"
   ]
  },
  {
   "cell_type": "markdown",
   "metadata": {},
   "source": [
    " **numpy.sort() :** \n",
    "\n",
    "* This function returns a sorted copy of an array."
   ]
  },
  {
   "cell_type": "code",
   "execution_count": 10,
   "metadata": {},
   "outputs": [],
   "source": [
    "a = np.array([[12, 15], [10, 1]])"
   ]
  },
  {
   "cell_type": "markdown",
   "metadata": {},
   "source": [
    " **numpy.argsort() :** \n",
    "\n",
    "* This function returns the indices that would sort an array."
   ]
  },
  {
   "cell_type": "code",
   "execution_count": 11,
   "metadata": {},
   "outputs": [
    {
     "name": "stdout",
     "output_type": "stream",
     "text": [
      "Sorted indices of original array-> [2 1 5 4 6 3 0]\n"
     ]
    }
   ],
   "source": [
    "a = np.array([9, 3, 1, 7, 4, 3, 6])\n",
    "b = np.argsort(a)\n",
    "print('Sorted indices of original array->', b)"
   ]
  },
  {
   "cell_type": "markdown",
   "metadata": {},
   "source": [
    " **numpy.lexsort() :** \n",
    "\n",
    "* This function returns an indirect stable sort using a sequence of keys."
   ]
  },
  {
   "cell_type": "code",
   "execution_count": 12,
   "metadata": {},
   "outputs": [
    {
     "name": "stdout",
     "output_type": "stream",
     "text": [
      "column a, column b\n",
      "9   4\n",
      "3   6\n",
      "1   9\n",
      "3   2\n",
      "4   1\n",
      "3   8\n",
      "6   7\n",
      "Sorted indices-> [2 3 1 5 4 6 0]\n"
     ]
    }
   ],
   "source": [
    "# Numpy array created\n",
    "# First column\n",
    "a = np.array([9, 3, 1, 3, 4, 3, 6])\n",
    " \n",
    "# Second column \n",
    "b = np.array([4, 6, 9, 2, 1, 8, 7]) \n",
    "print('column a, column b')\n",
    "for (i, j) in zip(a, b):\n",
    "    print(i, ' ', j)\n",
    " \n",
    "# Sort by a then by b\n",
    "ind = np.lexsort((b, a)) \n",
    "print('Sorted indices->', ind)"
   ]
  },
  {
   "cell_type": "markdown",
   "metadata": {},
   "source": [
    " **numpy.ndarray.sort():**\t\n",
    "\n",
    "* Sort an array, in-place."
   ]
  },
  {
   "cell_type": "code",
   "execution_count": 13,
   "metadata": {},
   "outputs": [
    {
     "name": "stdout",
     "output_type": "stream",
     "text": [
      "[1 3 3 4 6 7 9]\n"
     ]
    }
   ],
   "source": [
    "arr = np.array([9, 3, 1, 7, 4, 3, 6])\n",
    "np.ndarray.sort(arr)\n",
    "\n",
    "print(arr)"
   ]
  },
  {
   "cell_type": "markdown",
   "metadata": {},
   "source": [
    "**numpy.sort_complex():**\t\n",
    "\n",
    "* Sort a complex array using the real part first, then the imaginary part."
   ]
  },
  {
   "cell_type": "code",
   "execution_count": 14,
   "metadata": {},
   "outputs": [
    {
     "name": "stdout",
     "output_type": "stream",
     "text": [
      "[ 5.+2.j  5.+4.j  5.+6.j  6.+5.j  8.+6.j 12.+4.j]\n"
     ]
    }
   ],
   "source": [
    "arr = np.array([12+4j, 5+6j, 5+4j, 5+2j, 8+6j, 6+5j])\n",
    "\n",
    "print(np.sort_complex(arr))"
   ]
  },
  {
   "cell_type": "markdown",
   "metadata": {},
   "source": [
    " **numpy.partition():**\t\n",
    "\n",
    "* Return a partitioned copy of an array."
   ]
  },
  {
   "cell_type": "code",
   "execution_count": 15,
   "metadata": {},
   "outputs": [
    {
     "name": "stdout",
     "output_type": "stream",
     "text": [
      "[3 2 4 5 6 7 8 9]\n"
     ]
    }
   ],
   "source": [
    "arr = np.array([4,3,5,2,6,8,7,9])\n",
    "kth = 3 \n",
    "print(np.partition(arr,kth ))"
   ]
  },
  {
   "cell_type": "markdown",
   "metadata": {},
   "source": [
    "# **Searching**\n",
    "\n",
    "----"
   ]
  },
  {
   "cell_type": "markdown",
   "metadata": {},
   "source": [
    "* Searching is an operation or a technique that helps finds the place of a given element or value in the list. \n",
    "\n",
    "* Any search is said to be successful or unsuccessful depending upon whether the element that is being searched is found or not."
   ]
  },
  {
   "cell_type": "markdown",
   "metadata": {},
   "source": [
    " **numpy.argmax() :**\n",
    "\n",
    "* This function returns indices of the max element of the array in a particular axis."
   ]
  },
  {
   "cell_type": "code",
   "execution_count": 16,
   "metadata": {},
   "outputs": [
    {
     "name": "stdout",
     "output_type": "stream",
     "text": [
      "\n",
      "Max element :  11\n"
     ]
    }
   ],
   "source": [
    "arr = np.arange(12).reshape(3, 4)\n",
    "print(\"\\nMax element : \", np.argmax(arr))"
   ]
  },
  {
   "cell_type": "markdown",
   "metadata": {},
   "source": [
    " **numpy.nanargmax() :**\n",
    "\n",
    "* This function returns indices of the max element of the array in a particular axis ignoring NaNs.\n",
    "\n",
    "* The results cannot be trusted if a slice contains only NaNs and Infs."
   ]
  },
  {
   "cell_type": "code",
   "execution_count": 17,
   "metadata": {},
   "outputs": [
    {
     "name": "stdout",
     "output_type": "stream",
     "text": [
      "\n",
      "Max element :  1\n"
     ]
    }
   ],
   "source": [
    "array = [np.nan, 4, 2, 3, 1]\n",
    "print(\"\\nMax element : \", np.nanargmax(array))"
   ]
  },
  {
   "cell_type": "code",
   "execution_count": 18,
   "metadata": {},
   "outputs": [
    {
     "name": "stdout",
     "output_type": "stream",
     "text": [
      "('\\nIndices of max in array2 : ', 1)\n",
      "('\\nIndices at axis 1 of array2 : ', array([1, 1], dtype=int64))\n"
     ]
    }
   ],
   "source": [
    "arr2 = np.array([[np.nan, 4], [1, 3]])\n",
    "print((\"\\nIndices of max in array2 : \", np.nanargmax(arr2)))\n",
    " \n",
    "print((\"\\nIndices at axis 1 of array2 : \", np.nanargmax(arr2, axis = 1)))"
   ]
  },
  {
   "cell_type": "markdown",
   "metadata": {},
   "source": [
    " **numpy.argmin() :** \n",
    "\n",
    "* This function returns the indices of the minimum values along an axis."
   ]
  },
  {
   "cell_type": "code",
   "execution_count": 19,
   "metadata": {},
   "outputs": [
    {
     "name": "stdout",
     "output_type": "stream",
     "text": [
      "\n",
      "Indices of min element :  0\n"
     ]
    }
   ],
   "source": [
    "array = np.arange(8)\n",
    "\n",
    "print(\"\\nIndices of min element : \", np.argmin(array, axis=0))"
   ]
  },
  {
   "cell_type": "markdown",
   "metadata": {},
   "source": [
    "# **Counting**\n",
    "\n",
    "---"
   ]
  },
  {
   "cell_type": "markdown",
   "metadata": {},
   "source": [
    " **numpy.count_nonzero() :** \n",
    "\n",
    "* Counts the number of non-zero values in the array."
   ]
  },
  {
   "cell_type": "code",
   "execution_count": 20,
   "metadata": {},
   "outputs": [
    {
     "name": "stdout",
     "output_type": "stream",
     "text": [
      "Number of nonzero values is : 5\n",
      "Number of nonzero values is : [1 1 1 1 1]\n"
     ]
    }
   ],
   "source": [
    "a = np.count_nonzero([[0,1,7,0,0],[3,0,0,2,19]])\n",
    "b = np.count_nonzero([[0,1,7,0,0],[3,0,0,2,19]], axis=0)\n",
    " \n",
    "print(\"Number of nonzero values is :\",a)\n",
    "print(\"Number of nonzero values is :\",b)"
   ]
  },
  {
   "cell_type": "markdown",
   "metadata": {},
   "source": [
    " **numpy.nonzero():**\t\n",
    "\n",
    "* Return the indices of the elements that are non-zero."
   ]
  },
  {
   "cell_type": "code",
   "execution_count": 21,
   "metadata": {},
   "outputs": [
    {
     "name": "stdout",
     "output_type": "stream",
     "text": [
      "(array([0, 0, 1, 1, 1], dtype=int64), array([1, 2, 0, 3, 4], dtype=int64))\n"
     ]
    }
   ],
   "source": [
    "a = np.array([[0,1,7,0,0],[3,0,0,2,19]])\n",
    "print(np.nonzero(a))"
   ]
  },
  {
   "cell_type": "markdown",
   "metadata": {},
   "source": [
    " **numpy.flatnonzero():**\t\n",
    "\n",
    "* Return indices that are non-zero in the flattened version of a."
   ]
  },
  {
   "cell_type": "code",
   "execution_count": 22,
   "metadata": {},
   "outputs": [
    {
     "name": "stdout",
     "output_type": "stream",
     "text": [
      "[1 2 5 8 9]\n"
     ]
    }
   ],
   "source": [
    "a = np.array([[0,1,7,0,0],[3,0,0,2,19]])\n",
    "print(np.flatnonzero(a))"
   ]
  },
  {
   "cell_type": "markdown",
   "metadata": {},
   "source": [
    " **numpy.where() function:**\n",
    "\n",
    "* This function is used to return the indices of all the elements which satisfies a particular condition."
   ]
  },
  {
   "cell_type": "code",
   "execution_count": 23,
   "metadata": {},
   "outputs": [
    {
     "name": "stdout",
     "output_type": "stream",
     "text": [
      "(array([0, 0, 0, 2, 2], dtype=int64), array([0, 1, 2, 0, 1], dtype=int64))\n",
      "(array([0, 1, 2, 6, 7], dtype=int64),)\n"
     ]
    }
   ],
   "source": [
    "arr = np.array([[34, 12, 56], [5, 8, 3], [33, 77, 5]])\n",
    "print(np.where(arr>10))\n",
    "\n",
    "arr = np.array([34, 12, 56, 5, 8, 3, 33, 77, 5])\n",
    "print(np.where(arr>10))"
   ]
  },
  {
   "cell_type": "markdown",
   "metadata": {},
   "source": [
    " **numpy.extract():**\n",
    "\n",
    "* The extract() function returns the elements satisfying any condition."
   ]
  },
  {
   "cell_type": "code",
   "execution_count": 24,
   "metadata": {},
   "outputs": [
    {
     "name": "stdout",
     "output_type": "stream",
     "text": [
      "[0. 2. 4. 6. 8.]\n"
     ]
    }
   ],
   "source": [
    "x = np.arange(9.).reshape(3, 3)\n",
    "condition = np.mod(x,2) == 0\n",
    "\n",
    "print(np.extract(condition, x))"
   ]
  },
  {
   "cell_type": "markdown",
   "metadata": {},
   "source": [
    "## Numpy for Linear Algebra"
   ]
  },
  {
   "cell_type": "markdown",
   "metadata": {},
   "source": [
    "### Complex Matrix Operations"
   ]
  },
  {
   "cell_type": "code",
   "execution_count": 25,
   "metadata": {},
   "outputs": [
    {
     "name": "stdout",
     "output_type": "stream",
     "text": [
      "[[-2.   1. ]\n",
      " [ 1.5 -0.5]]\n"
     ]
    }
   ],
   "source": [
    "A = np.array([[1, 2], [3, 4]])\n",
    "\n",
    "# Calculate the inverse of A\n",
    "A_inv = np.linalg.inv(A)\n",
    "print(A_inv)"
   ]
  },
  {
   "cell_type": "code",
   "execution_count": 26,
   "metadata": {},
   "outputs": [
    {
     "name": "stdout",
     "output_type": "stream",
     "text": [
      "eigenvalues: [1.5+0.8660254j 1.5-0.8660254j]\n",
      "eigenvectors: [[0.70710678+0.j         0.70710678-0.j        ]\n",
      " [0.35355339-0.61237244j 0.35355339+0.61237244j]]\n"
     ]
    }
   ],
   "source": [
    "A = np.array([[2, -1], [1, 1]])\n",
    "\n",
    "# Compute eigenvalues and eigenvectors\n",
    "eigenvalues, eigenvectors = np.linalg.eig(A)\n",
    "print(\"eigenvalues:\",eigenvalues)\n",
    "print(\"eigenvectors:\",eigenvectors)\n"
   ]
  },
  {
   "cell_type": "markdown",
   "metadata": {},
   "source": [
    "##  Advanced Numpy Techniques"
   ]
  },
  {
   "cell_type": "markdown",
   "metadata": {},
   "source": [
    "### Masked Arrays"
   ]
  },
  {
   "cell_type": "raw",
   "metadata": {},
   "source": [
    "Masked arrays in NumPy allow you to work with data where certain elements are invalid or missing. A mask is a Boolean array that indicates which elements should be considered valid and which should be masked (invalid or missing).\n",
    "\n",
    "Masked arrays enable you to perform operations on valid data while ignoring the masked element"
   ]
  },
  {
   "cell_type": "code",
   "execution_count": 27,
   "metadata": {},
   "outputs": [
    {
     "name": "stdout",
     "output_type": "stream",
     "text": [
      "Mean Temperature (without handling missing values): -316.14444444444445\n",
      "Mean Temperature (excluding missing values): 25.28333333333333\n"
     ]
    }
   ],
   "source": [
    "import numpy.ma as ma\n",
    "\n",
    "# Temperature dataset with missing values (-999 represents missing values)\n",
    "temperatures = np.array([22.5, 23.0, -999, 24.5, -999, 26.0, 27.2, -999, 28.5])\n",
    "\n",
    "# Calculate the mean temperature without handling missing values\n",
    "mean_temperature = np.mean(temperatures)\n",
    "\n",
    "# Print the result = -316.14\n",
    "print(\"Mean Temperature (without handling missing values):\", mean_temperature)\n",
    "\n",
    "\n",
    "# Create a mask for missing values (-999)\n",
    "mask = (temperatures == -999)\n",
    "\n",
    "# Create a masked array\n",
    "masked_temperatures = ma.masked_array(temperatures, mask=mask)\n",
    "\n",
    "# Calculate the mean temperature (excluding missing values)\n",
    "mean_temperature = ma.mean(masked_temperatures)\n",
    "\n",
    "# Print the result = 25.28\n",
    "print(\"Mean Temperature (excluding missing values):\", mean_temperature)"
   ]
  },
  {
   "cell_type": "markdown",
   "metadata": {},
   "source": [
    "### Structured Arrays"
   ]
  },
  {
   "cell_type": "code",
   "execution_count": 28,
   "metadata": {},
   "outputs": [
    {
     "name": "stdout",
     "output_type": "stream",
     "text": [
      "b'Alice'\n",
      "[30 25]\n"
     ]
    }
   ],
   "source": [
    "# Define data types for fields\n",
    "dt = np.dtype([('name', 'S20'), ('age', int), ('salary', float)])\n",
    "\n",
    "# Create a structured array\n",
    "employees = np.array([('Alice', 30, 50000.0), ('Bob', 25, 60000.0)], dtype=dt)\n",
    "\n",
    "# Access the 'name' field of the first employee\n",
    "print(employees['name'][0])\n",
    "\n",
    "# Access the 'age' field of all employees\n",
    "print(employees['age'])"
   ]
  },
  {
   "cell_type": "code",
   "execution_count": null,
   "metadata": {},
   "outputs": [],
   "source": []
  }
 ],
 "metadata": {
  "kernelspec": {
   "display_name": "Python 3 (ipykernel)",
   "language": "python",
   "name": "python3"
  },
  "language_info": {
   "codemirror_mode": {
    "name": "ipython",
    "version": 3
   },
   "file_extension": ".py",
   "mimetype": "text/x-python",
   "name": "python",
   "nbconvert_exporter": "python",
   "pygments_lexer": "ipython3",
   "version": "3.11.4"
  }
 },
 "nbformat": 4,
 "nbformat_minor": 2
}
