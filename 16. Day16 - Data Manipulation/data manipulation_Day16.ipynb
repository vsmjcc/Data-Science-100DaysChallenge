{
 "cells": [
  {
   "cell_type": "markdown",
   "metadata": {},
   "source": [
    "## Data Mainpulation by Mrittika Megaraj"
   ]
  },
  {
   "cell_type": "code",
   "execution_count": 1,
   "metadata": {},
   "outputs": [],
   "source": [
    "import pandas as pd\n",
    "import numpy as np"
   ]
  },
  {
   "cell_type": "code",
   "execution_count": 2,
   "metadata": {},
   "outputs": [
    {
     "name": "stdout",
     "output_type": "stream",
     "text": [
      "[1 2 3 4]\n"
     ]
    }
   ],
   "source": [
    "arr = np.array([1,2,3,4])\n",
    "print(arr)"
   ]
  },
  {
   "cell_type": "markdown",
   "metadata": {},
   "source": [
    "# **Advanced Indexing and Selection**"
   ]
  },
  {
   "cell_type": "markdown",
   "metadata": {},
   "source": [
    " **Multi-level indexing with hierarchical indexing**\n",
    "\n",
    "* Creating DataFrames with multiple levels of indexes to work with multi-dimensional data."
   ]
  },
  {
   "cell_type": "code",
   "execution_count": 3,
   "metadata": {},
   "outputs": [
    {
     "name": "stdout",
     "output_type": "stream",
     "text": [
      "Year\n",
      "2020    1\n",
      "2021    2\n",
      "Name: A, dtype: int64\n"
     ]
    }
   ],
   "source": [
    "import pandas as pd\n",
    "\n",
    "data = {\n",
    "    'A': [1, 2, 3, 4, 5, 6],\n",
    "    'B': [7, 8, 9, 10, 11, 12],\n",
    "    'C': [13, 14, 15, 16, 17, 18]\n",
    "}\n",
    "index = pd.MultiIndex.from_tuples([('X', 2020), ('X', 2021), ('Y', 2020), ('Y', 2021), ('Z', 2020), ('Z', 2021)], names=['City', 'Year'])\n",
    "df = pd.DataFrame(data, index=index)\n",
    "\n",
    "print(df['A']['X'])\n"
   ]
  },
  {
   "cell_type": "markdown",
   "metadata": {},
   "source": [
    " **Indexing and slicing with loc[] and iloc[]:**\n",
    "\n",
    "* Accessing DataFrame elements using labeled and integer-based indexing."
   ]
  },
  {
   "cell_type": "code",
   "execution_count": 4,
   "metadata": {},
   "outputs": [
    {
     "name": "stdout",
     "output_type": "stream",
     "text": [
      "1\n",
      "7\n"
     ]
    }
   ],
   "source": [
    "# Using loc[] for labeled indexing\n",
    "print(df.loc[('X', 2020), 'A'])  \n",
    "\n",
    "# Using iloc[] for integer-based indexing\n",
    "print(df.iloc[0, 1])  \n"
   ]
  },
  {
   "cell_type": "markdown",
   "metadata": {},
   "source": [
    " **Boolean indexing and filtering:**\n",
    "\n",
    "* Selecting data from a DataFrame based on specified conditions."
   ]
  },
  {
   "cell_type": "code",
   "execution_count": 5,
   "metadata": {},
   "outputs": [
    {
     "name": "stdout",
     "output_type": "stream",
     "text": [
      "           A   B   C\n",
      "City Year           \n",
      "Y    2021  4  10  16\n",
      "Z    2020  5  11  17\n",
      "     2021  6  12  18\n"
     ]
    }
   ],
   "source": [
    "# Boolean indexing to filter rows with 'B' values greater than 9\n",
    "filtered_df = df[df['B'] > 9]\n",
    "print(filtered_df)\n"
   ]
  },
  {
   "cell_type": "markdown",
   "metadata": {},
   "source": [
    "# **Combining DataFrames**"
   ]
  },
  {
   "cell_type": "markdown",
   "metadata": {},
   "source": [
    " **Merging and joining DataFrames with merge() and join():**\n",
    "\n",
    "* Combining DataFrames based on common columns.\n",
    "* inner Join: Only common records will be displayed from the both the table and their matching values\n",
    "* left : All records from the first table will be displayed and matching records from the right table and if there is no matching  data null values will be displayed\n",
    "* right : All records from the second table will be displayed and matching records from the right table and if there is no matching data null values will be displayed\n",
    "* full : All records from the both tables will be displayed and matchign data and if matching data is not available null will be displayed"
   ]
  },
  {
   "cell_type": "code",
   "execution_count": 6,
   "metadata": {},
   "outputs": [
    {
     "name": "stdout",
     "output_type": "stream",
     "text": [
      "   ID     Name  Age\n",
      "0   2      Bob   25\n",
      "1   3  Charlie   30\n"
     ]
    }
   ],
   "source": [
    "df1 = pd.DataFrame({'ID': [1, 2, 3], 'Name': ['Alice', 'Bob', 'Charlie']})\n",
    "df2 = pd.DataFrame({'ID': [2, 3, 4], 'Age': [25, 30, 22]})\n",
    "\n",
    "# Merging based on 'ID'\n",
    "merged_df = pd.merge(df1, df2, on='ID', how='inner')\n",
    "print(merged_df)\n"
   ]
  },
  {
   "cell_type": "markdown",
   "metadata": {},
   "source": [
    " **Concatenating DataFrames using concat():**\n",
    "\n",
    "* Combining DataFrames along a specified axis (rows or columns)."
   ]
  },
  {
   "cell_type": "code",
   "execution_count": 7,
   "metadata": {},
   "outputs": [
    {
     "name": "stdout",
     "output_type": "stream",
     "text": [
      "   A  B\n",
      "0  1  3\n",
      "1  2  4\n",
      "0  5  7\n",
      "1  6  8\n"
     ]
    }
   ],
   "source": [
    "df1 = pd.DataFrame({'A': [1, 2], 'B': [3, 4]})\n",
    "df2 = pd.DataFrame({'A': [5, 6], 'B': [7, 8]})\n",
    "\n",
    "# Concatenating along rows\n",
    "concatenated_df = pd.concat([df1, df2])\n",
    "print(concatenated_df)\n"
   ]
  },
  {
   "cell_type": "markdown",
   "metadata": {},
   "source": [
    "# **Data Manipulation**"
   ]
  },
  {
   "cell_type": "markdown",
   "metadata": {},
   "source": [
    " **Filtering and subsetting data based on conditions**\n",
    "\n",
    "* Extracting specific subsets of data using conditional statements."
   ]
  },
  {
   "cell_type": "code",
   "execution_count": 8,
   "metadata": {},
   "outputs": [
    {
     "name": "stdout",
     "output_type": "stream",
     "text": [
      "   id name  Age    City\n",
      "1   2    B   26    Pune\n",
      "2   3    C   38  Mumbai\n"
     ]
    }
   ],
   "source": [
    "d = {'id':[1,2,3],'name':['A','B','C'],'Age':[22,26,38],'City':['Kolhapur','Pune','Mumbai']}\n",
    "df = pd.DataFrame(d)\n",
    "\n",
    "# Filter rows where column 'Age' is greater than 25\n",
    "filtered_data = df[df['Age'] > 25]\n",
    "print(filtered_data)\n"
   ]
  },
  {
   "cell_type": "markdown",
   "metadata": {},
   "source": [
    " **Sorting and ranking data:**\n",
    "\n",
    "*  Ordering data based on column values and assigning ranks to data elements."
   ]
  },
  {
   "cell_type": "code",
   "execution_count": 9,
   "metadata": {},
   "outputs": [
    {
     "name": "stdout",
     "output_type": "stream",
     "text": [
      "   id name  Age      City  Rank\n",
      "0   1    A   22  Kolhapur   3.0\n",
      "1   2    B   26      Pune   2.0\n",
      "2   3    C   38    Mumbai   1.0\n"
     ]
    }
   ],
   "source": [
    "# Sorting DataFrame based on 'Age' in descending order\n",
    "sorted_df = df.sort_values(by='Age', ascending=False)\n",
    "\n",
    "# Ranking 'Age' within the DataFrame\n",
    "df['Rank'] = df['Age'].rank(ascending=False)\n",
    "\n",
    "print(df)"
   ]
  },
  {
   "cell_type": "markdown",
   "metadata": {},
   "source": [
    " **Aggregating and summarizing data using groupby()**\n",
    "\n",
    "* Grouping data based on one or more columns and applying aggregation functions."
   ]
  },
  {
   "cell_type": "code",
   "execution_count": 10,
   "metadata": {},
   "outputs": [
    {
     "name": "stdout",
     "output_type": "stream",
     "text": [
      "City\n",
      "Kolhapur    22.0\n",
      "Mumbai      38.0\n",
      "Pune        26.0\n",
      "Name: Age, dtype: float64\n"
     ]
    }
   ],
   "source": [
    "# Grouping data by 'City' and calculating mean 'Age'\n",
    "grouped_df = df.groupby('City')['Age'].mean()\n",
    "print(grouped_df)\n"
   ]
  },
  {
   "cell_type": "markdown",
   "metadata": {},
   "source": [
    " **Pivoting and melting data for reshaping:**\n",
    "\n",
    "* Changing the layout of the DataFrame to perform analysis efficiently."
   ]
  },
  {
   "cell_type": "code",
   "execution_count": null,
   "metadata": {},
   "outputs": [],
   "source": [
    "data = {\n",
    "    'Id': [1,2,3,4,5],\n",
    "    'Name': ['A', 'B', 'C', 'D', 'E'],\n",
    "    'City': ['Kolhapur', 'Pune', 'Sangli', 'Satara', 'Mumbai'],\n",
    "    'Age': [21, 23, 56, 34, 68],\n",
    "    'Salary': [23000, 45000, 35000, 78000, 56000],\n",
    "    'Year': [2021, 2018, 2023, 2015, 2019]\n",
    "}\n",
    "\n",
    "df = pd.DataFrame(data)\n",
    "\n",
    "# Pivoting DataFrame to show 'Age' for each 'City'\n",
    "pivoted_df = df.pivot(index='City', columns='Year', values='Age')\n",
    "\n",
    "print(pivoted_df)"
   ]
  },
  {
   "cell_type": "code",
   "execution_count": null,
   "metadata": {},
   "outputs": [],
   "source": [
    "# Melting DataFrame to convert columns into rows\n",
    "melted_df = pd.melt(df, id_vars=['City', 'Year'], value_vars=['Age', 'Salary'], var_name='Attribute', value_name='Value')\n",
    "\n",
    "print(melted_df)"
   ]
  },
  {
   "cell_type": "markdown",
   "metadata": {},
   "source": [
    "# **Advanced Data Manipulation**"
   ]
  },
  {
   "cell_type": "markdown",
   "metadata": {},
   "source": [
    " **Multi-level indexing and hierarchical data**\n",
    "\n",
    "* Creating DataFrames with multiple levels of indexes to handle complex datasets."
   ]
  },
  {
   "cell_type": "code",
   "execution_count": 12,
   "metadata": {},
   "outputs": [
    {
     "name": "stdout",
     "output_type": "stream",
     "text": [
      "Year\n",
      "2020    1\n",
      "2021    2\n",
      "Name: A, dtype: int64\n"
     ]
    }
   ],
   "source": [
    "import pandas as pd\n",
    "\n",
    "# Creating a DataFrame with multi-level index\n",
    "data = {\n",
    "    'A': [1, 2, 3, 4, 5, 6],\n",
    "    'B': [7, 8, 9, 10, 11, 12],\n",
    "    'C': [13, 14, 15, 16, 17, 18]\n",
    "}\n",
    "index = pd.MultiIndex.from_tuples([('X', 2020), ('X', 2021), ('Y', 2020), ('Y', 2021), ('Z', 2020), ('Z', 2021)], names=['City', 'Year'])\n",
    "df = pd.DataFrame(data, index=index)\n",
    "\n",
    "print(df['A']['X'])"
   ]
  },
  {
   "cell_type": "markdown",
   "metadata": {},
   "source": [
    " **Pivot tables and cross-tabulations:**\n",
    "\n",
    "* Transforming data and summarizing it using pivot tables and cross-tabulations."
   ]
  },
  {
   "cell_type": "code",
   "execution_count": 13,
   "metadata": {},
   "outputs": [
    {
     "name": "stdout",
     "output_type": "stream",
     "text": [
      "Year  2020  2021\n",
      "City            \n",
      "A      180   150\n",
      "B      120   450\n"
     ]
    }
   ],
   "source": [
    "# Creating a DataFrame\n",
    "data = {\n",
    "    'City': ['A', 'A', 'B', 'B', 'A', 'B'],\n",
    "    'Year': [2020, 2021, 2020, 2021, 2020, 2021],\n",
    "    'Sales': [100, 150, 120, 200, 80, 250]\n",
    "}\n",
    "df = pd.DataFrame(data)\n",
    "\n",
    "# Creating a pivot table to summarize 'Sales' based on 'City' and 'Year'\n",
    "pivot_table = df.pivot_table(values='Sales', index='City', columns='Year', aggfunc='sum')\n",
    "print(pivot_table)\n"
   ]
  },
  {
   "cell_type": "markdown",
   "metadata": {},
   "source": [
    " **Handling text data and regular expressions:**\n",
    "\n",
    "* Dealing with text data and applying regular expressions for pattern matching and extraction."
   ]
  },
  {
   "cell_type": "code",
   "execution_count": 14,
   "metadata": {},
   "outputs": [
    {
     "name": "stdout",
     "output_type": "stream",
     "text": [
      "     Text\n",
      "0   apple\n",
      "1  orange\n",
      "2  banana\n",
      "3   grape\n",
      "4   peach\n"
     ]
    }
   ],
   "source": [
    "# Creating a DataFrame with text data\n",
    "data = {\n",
    "    'Text': ['apple', 'orange', 'banana', 'grape', 'peach']\n",
    "}\n",
    "df = pd.DataFrame(data)\n",
    "\n",
    "# Using str.contains() to filter rows with text containing 'a'\n",
    "filtered_df = df[df['Text'].str.contains('a')]\n",
    "print(filtered_df)\n"
   ]
  },
  {
   "cell_type": "markdown",
   "metadata": {},
   "source": [
    " **Working with JSON and other data:**\n",
    "\n",
    "* Reading, manipulating, and analyzing data in JSON format and other formats like XML, HTML, etc."
   ]
  },
  {
   "cell_type": "code",
   "execution_count": 15,
   "metadata": {},
   "outputs": [
    {
     "name": "stdout",
     "output_type": "stream",
     "text": [
      "   name  age      city\n",
      "0  John   30  New York\n"
     ]
    }
   ],
   "source": [
    "# Reading JSON data into a DataFrame\n",
    "import json\n",
    "\n",
    "json_data = '{\"name\": \"John\", \"age\": 30, \"city\": \"New York\"}'\n",
    "df = pd.DataFrame(json.loads(json_data), index=[0])\n",
    "print(df)\n"
   ]
  },
  {
   "cell_type": "markdown",
   "metadata": {},
   "source": [
    "# **Data Aggregation and Grouping**"
   ]
  },
  {
   "cell_type": "markdown",
   "metadata": {},
   "source": [
    " **Grouping data using groupby()**\n",
    "\n",
    "* Splitting data into groups based on one or more categorical variables."
   ]
  },
  {
   "cell_type": "code",
   "execution_count": 16,
   "metadata": {},
   "outputs": [
    {
     "name": "stdout",
     "output_type": "stream",
     "text": [
      "('A',   City  Sales\n",
      "0    A    100\n",
      "2    A     80\n",
      "4    A    200)\n",
      "('B',   City  Sales\n",
      "1    B    120\n",
      "3    B    150\n",
      "5    B    250)\n"
     ]
    }
   ],
   "source": [
    "# Creating a DataFrame\n",
    "data = {\n",
    "    'City': ['A', 'B', 'A', 'B', 'A', 'B'],\n",
    "    'Sales': [100, 120, 80, 150, 200, 250]\n",
    "}\n",
    "df = pd.DataFrame(data)\n",
    "\n",
    "# Grouping data by 'City'\n",
    "grouped_df = df.groupby('City')\n",
    "\n",
    "for i in grouped_df:\n",
    "    print(i)\n"
   ]
  },
  {
   "cell_type": "markdown",
   "metadata": {},
   "source": [
    " **Applying aggregation functions to groups:**\n",
    "\n",
    "* Calculating summary statistics for each group."
   ]
  },
  {
   "cell_type": "code",
   "execution_count": 17,
   "metadata": {},
   "outputs": [
    {
     "name": "stdout",
     "output_type": "stream",
     "text": [
      "City\n",
      "A    380\n",
      "B    520\n",
      "Name: Sales, dtype: int64\n"
     ]
    }
   ],
   "source": [
    "# Calculating the total sales for each city\n",
    "grouped_df = df.groupby('City')['Sales'].sum()\n",
    "print(grouped_df)\n"
   ]
  },
  {
   "cell_type": "markdown",
   "metadata": {},
   "source": [
    " **Performing multi-level aggregation:**\n",
    "\n",
    "* Aggregating data at multiple levels of grouping."
   ]
  },
  {
   "cell_type": "code",
   "execution_count": 18,
   "metadata": {},
   "outputs": [
    {
     "name": "stdout",
     "output_type": "stream",
     "text": [
      "City      Year\n",
      "Kolhapur  2012    23000\n",
      "          2018    34000\n",
      "Mumbai    2015    40000\n",
      "Pune      2016    43000\n",
      "Sangli    2013    30000\n",
      "Satara    2017    65000\n",
      "Name: Sales, dtype: int64\n"
     ]
    }
   ],
   "source": [
    "data = {\n",
    "    'Id': [1,2,3,4,5,6],\n",
    "    'City': ['Kolhapur', 'Pune', 'Sangli', 'Mumbai', 'Satara', 'Kolhapur'],\n",
    "    'Year': [2012, 2016, 2013, 2015, 2017, 2018],\n",
    "    'Sales': [23000, 43000, 30000, 40000, 65000, 34000]\n",
    "}\n",
    "\n",
    "df = pd.DataFrame(data)\n",
    "\n",
    "# Grouping data by 'City' and 'Year', and calculating the total sales for each group\n",
    "grouped_df = df.groupby(['City', 'Year'])['Sales'].sum()\n",
    "print(grouped_df)\n"
   ]
  },
  {
   "cell_type": "markdown",
   "metadata": {},
   "source": [
    " **Grouping data with groupby() and split-apply-combine operations**\n",
    "\n",
    "* Applying transformations to groups and combining the results."
   ]
  },
  {
   "cell_type": "code",
   "execution_count": 19,
   "metadata": {},
   "outputs": [
    {
     "name": "stdout",
     "output_type": "stream",
     "text": [
      "            sum     mean    max\n",
      "City                           \n",
      "Kolhapur  57000  28500.0  34000\n",
      "Mumbai    40000  40000.0  40000\n",
      "Pune      43000  43000.0  43000\n",
      "Sangli    30000  30000.0  30000\n",
      "Satara    65000  65000.0  65000\n"
     ]
    }
   ],
   "source": [
    "# Applying multiple aggregation functions to 'Sales' for each city\n",
    "grouped_df = df.groupby('City')['Sales'].agg(['sum', 'mean', 'max'])\n",
    "print(grouped_df)\n"
   ]
  },
  {
   "cell_type": "markdown",
   "metadata": {},
   "source": [
    " **Aggregation functions (e.g., mean, sum, count, min, max):**\n",
    "\n",
    "* Using various aggregation functions to calculate statistics on grouped data."
   ]
  },
  {
   "cell_type": "code",
   "execution_count": 20,
   "metadata": {},
   "outputs": [
    {
     "name": "stdout",
     "output_type": "stream",
     "text": [
      "             mean    sum\n",
      "City                    \n",
      "Kolhapur  28500.0  57000\n",
      "Mumbai    40000.0  40000\n",
      "Pune      43000.0  43000\n",
      "Sangli    30000.0  30000\n",
      "Satara    65000.0  65000\n"
     ]
    }
   ],
   "source": [
    "# Calculating the average and total sales for each city\n",
    "grouped_df = df.groupby('City')['Sales'].agg(['mean', 'sum'])\n",
    "print(grouped_df)\n"
   ]
  },
  {
   "cell_type": "markdown",
   "metadata": {},
   "source": [
    " ## Applying Functions to DataFrames"
   ]
  },
  {
   "cell_type": "markdown",
   "metadata": {},
   "source": [
    "\n",
    "## .apply for series and DataFrames\n",
    "* Use this method to apply a custom function to a series or to the entire dataframe.\n",
    "* when you use this on series, Each element of the original column will be passed to the function.\n",
    "* when you use this for the entire dataframe, based on the axis (1 - row, 0 -column), the entire row or the entire column will be passed to the function."
   ]
  },
  {
   "cell_type": "code",
   "execution_count": 24,
   "metadata": {},
   "outputs": [
    {
     "data": {
      "text/html": [
       "<div>\n",
       "<style scoped>\n",
       "    .dataframe tbody tr th:only-of-type {\n",
       "        vertical-align: middle;\n",
       "    }\n",
       "\n",
       "    .dataframe tbody tr th {\n",
       "        vertical-align: top;\n",
       "    }\n",
       "\n",
       "    .dataframe thead th {\n",
       "        text-align: right;\n",
       "    }\n",
       "</style>\n",
       "<table border=\"1\" class=\"dataframe\">\n",
       "  <thead>\n",
       "    <tr style=\"text-align: right;\">\n",
       "      <th></th>\n",
       "      <th>A</th>\n",
       "      <th>B</th>\n",
       "      <th>Row_Average</th>\n",
       "    </tr>\n",
       "  </thead>\n",
       "  <tbody>\n",
       "    <tr>\n",
       "      <th>0</th>\n",
       "      <td>1</td>\n",
       "      <td>4</td>\n",
       "      <td>2.5</td>\n",
       "    </tr>\n",
       "    <tr>\n",
       "      <th>1</th>\n",
       "      <td>2</td>\n",
       "      <td>5</td>\n",
       "      <td>3.5</td>\n",
       "    </tr>\n",
       "    <tr>\n",
       "      <th>2</th>\n",
       "      <td>3</td>\n",
       "      <td>6</td>\n",
       "      <td>4.5</td>\n",
       "    </tr>\n",
       "    <tr>\n",
       "      <th>3</th>\n",
       "      <td>1</td>\n",
       "      <td>4</td>\n",
       "      <td>2.5</td>\n",
       "    </tr>\n",
       "    <tr>\n",
       "      <th>4</th>\n",
       "      <td>2</td>\n",
       "      <td>5</td>\n",
       "      <td>3.5</td>\n",
       "    </tr>\n",
       "  </tbody>\n",
       "</table>\n",
       "</div>"
      ],
      "text/plain": [
       "   A  B  Row_Average\n",
       "0  1  4          2.5\n",
       "1  2  5          3.5\n",
       "2  3  6          4.5\n",
       "3  1  4          2.5\n",
       "4  2  5          3.5"
      ]
     },
     "execution_count": 24,
     "metadata": {},
     "output_type": "execute_result"
    }
   ],
   "source": [
    "data = {'A': [1, 2, 3, 1, 2], 'B': [4, 5, 6, 4, 5]}\n",
    "df = pd.DataFrame(data)\n",
    "\n",
    "# Define a function to calculate the average of a row\n",
    "def average_row(row):\n",
    "    return row.mean()\n",
    "\n",
    "# Apply the function row-wise.\n",
    "df['Row_Average'] = df.apply(average_row, axis=1)\n",
    "df"
   ]
  },
  {
   "cell_type": "markdown",
   "metadata": {},
   "source": [
    "## .map for series\n",
    "* It's particularly useful for transforming one column based on values from another."
   ]
  },
  {
   "cell_type": "code",
   "execution_count": 25,
   "metadata": {},
   "outputs": [
    {
     "data": {
      "text/html": [
       "<div>\n",
       "<style scoped>\n",
       "    .dataframe tbody tr th:only-of-type {\n",
       "        vertical-align: middle;\n",
       "    }\n",
       "\n",
       "    .dataframe tbody tr th {\n",
       "        vertical-align: top;\n",
       "    }\n",
       "\n",
       "    .dataframe thead th {\n",
       "        text-align: right;\n",
       "    }\n",
       "</style>\n",
       "<table border=\"1\" class=\"dataframe\">\n",
       "  <thead>\n",
       "    <tr style=\"text-align: right;\">\n",
       "      <th></th>\n",
       "      <th>A</th>\n",
       "      <th>B</th>\n",
       "      <th>Row_Average</th>\n",
       "      <th>Encoded_A</th>\n",
       "    </tr>\n",
       "  </thead>\n",
       "  <tbody>\n",
       "    <tr>\n",
       "      <th>0</th>\n",
       "      <td>1</td>\n",
       "      <td>4</td>\n",
       "      <td>2.5</td>\n",
       "      <td>one</td>\n",
       "    </tr>\n",
       "    <tr>\n",
       "      <th>1</th>\n",
       "      <td>2</td>\n",
       "      <td>5</td>\n",
       "      <td>3.5</td>\n",
       "      <td>two</td>\n",
       "    </tr>\n",
       "    <tr>\n",
       "      <th>2</th>\n",
       "      <td>3</td>\n",
       "      <td>6</td>\n",
       "      <td>4.5</td>\n",
       "      <td>three</td>\n",
       "    </tr>\n",
       "    <tr>\n",
       "      <th>3</th>\n",
       "      <td>1</td>\n",
       "      <td>4</td>\n",
       "      <td>2.5</td>\n",
       "      <td>one</td>\n",
       "    </tr>\n",
       "    <tr>\n",
       "      <th>4</th>\n",
       "      <td>2</td>\n",
       "      <td>5</td>\n",
       "      <td>3.5</td>\n",
       "      <td>two</td>\n",
       "    </tr>\n",
       "  </tbody>\n",
       "</table>\n",
       "</div>"
      ],
      "text/plain": [
       "   A  B  Row_Average Encoded_A\n",
       "0  1  4          2.5       one\n",
       "1  2  5          3.5       two\n",
       "2  3  6          4.5     three\n",
       "3  1  4          2.5       one\n",
       "4  2  5          3.5       two"
      ]
     },
     "execution_count": 25,
     "metadata": {},
     "output_type": "execute_result"
    }
   ],
   "source": [
    "# Mapping values in a column based on a dictionary\n",
    "mapping_dict = {1: 'one', 2: 'two', 3: 'three'}\n",
    "df['Encoded_A'] = df['A'].map(mapping_dict)\n",
    "df"
   ]
  },
  {
   "cell_type": "markdown",
   "metadata": {},
   "source": [
    "## .applymap for entire dataframe\n",
    "* When you want to apply a function to each element in the entire DataFrame, you can use .applymap()."
   ]
  },
  {
   "cell_type": "code",
   "execution_count": 26,
   "metadata": {},
   "outputs": [
    {
     "data": {
      "text/html": [
       "<div>\n",
       "<style scoped>\n",
       "    .dataframe tbody tr th:only-of-type {\n",
       "        vertical-align: middle;\n",
       "    }\n",
       "\n",
       "    .dataframe tbody tr th {\n",
       "        vertical-align: top;\n",
       "    }\n",
       "\n",
       "    .dataframe thead th {\n",
       "        text-align: right;\n",
       "    }\n",
       "</style>\n",
       "<table border=\"1\" class=\"dataframe\">\n",
       "  <thead>\n",
       "    <tr style=\"text-align: right;\">\n",
       "      <th></th>\n",
       "      <th>A</th>\n",
       "      <th>B</th>\n",
       "    </tr>\n",
       "  </thead>\n",
       "  <tbody>\n",
       "    <tr>\n",
       "      <th>0</th>\n",
       "      <td>11</td>\n",
       "      <td>14</td>\n",
       "    </tr>\n",
       "    <tr>\n",
       "      <th>1</th>\n",
       "      <td>12</td>\n",
       "      <td>15</td>\n",
       "    </tr>\n",
       "    <tr>\n",
       "      <th>2</th>\n",
       "      <td>13</td>\n",
       "      <td>16</td>\n",
       "    </tr>\n",
       "  </tbody>\n",
       "</table>\n",
       "</div>"
      ],
      "text/plain": [
       "    A   B\n",
       "0  11  14\n",
       "1  12  15\n",
       "2  13  16"
      ]
     },
     "execution_count": 26,
     "metadata": {},
     "output_type": "execute_result"
    }
   ],
   "source": [
    "# Sample DataFrame\n",
    "data = {'A': [1, 2, 3], 'B': [4, 5, 6]}\n",
    "df = pd.DataFrame(data)\n",
    "\n",
    "# Define a function to add 10 to a value\n",
    "def add_10(x):\n",
    "    return x + 10\n",
    "\n",
    "# Apply the function to the entire DataFrame\n",
    "df = df.applymap(add_10)\n",
    "df"
   ]
  },
  {
   "cell_type": "code",
   "execution_count": null,
   "metadata": {},
   "outputs": [],
   "source": []
  }
 ],
 "metadata": {
  "kernelspec": {
   "display_name": "Python 3 (ipykernel)",
   "language": "python",
   "name": "python3"
  },
  "language_info": {
   "codemirror_mode": {
    "name": "ipython",
    "version": 3
   },
   "file_extension": ".py",
   "mimetype": "text/x-python",
   "name": "python",
   "nbconvert_exporter": "python",
   "pygments_lexer": "ipython3",
   "version": "3.11.4"
  }
 },
 "nbformat": 4,
 "nbformat_minor": 2
}
